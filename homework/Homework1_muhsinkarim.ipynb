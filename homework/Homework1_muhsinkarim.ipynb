{
 "cells": [
  {
   "cell_type": "markdown",
   "metadata": {},
   "source": [
    "# SYD DAT 6 Lab 1 - Git and Markdown\n",
    "\n",
    "## Homework:\n",
    "\n",
    "#### Setup\n",
    "* Resolve any installation issues before next class.\n",
    "* Make sure you have a github profile and created a repo called \"SYD_DAT_6\"\n",
    "* Clone the class repo (this one!)\n",
    "* Review this [code](../labs/Week 1/00_python_refresher.py) for a recap of some Python basics.\n",
    "\n",
    "#### Communication\n",
    "* Read [Analyzing the Analyzers](http://cdn.oreillystatic.com/oreilly/radarreport/0636920029014/Analyzing_the_Analyzers.pdf) for a useful look at the different types of data scientists. Write down 5 key points you took away from the article\n",
    "* Read about some [Markdown Techniques](http://daringfireball.net/projects/markdown/syntax)\n",
    "* Write a summary of 2 chapters of [The Data Science Handbook](http://www.thedatasciencehandbook.com/) in Markdown and submit a pull request in the Lab Directory\n",
    "\n",
    "#### Programming\n",
    "* Complete the lab from class and the additional Exercise below\n",
    "\n",
    "#### Course Project\n",
    "* Come up with 5 different ideas for your course project. For each one list:\n",
    "  * Overview of your idea\n",
    "  * What data you will use\n",
    "  * What the outcome is that you are trying to achieve\n",
    "  * Any ideas of modelling techniques it may involve\n",
    "\n",
    "**Instructions: copy this file and append your name in the filename, e.g. Homework1_alasdair_douglas.ipynb.\n",
    "Then commit this in your local repository, push it to your github account and create a pull request so I can see your work. Remeber if you get stuck to look at the slides going over Fork, Clone, Commit, Push and Pull request.**"
   ]
  },
  {
   "cell_type": "markdown",
   "metadata": {},
   "source": [
    "## Analyzing the Analyzers - 5 key points\n",
    "\n",
    "1) There needs to be a better and more refined definition of a \"data science\".<br />\n",
    "2) Excessive hype of the term \"data science\" is leading people to expect too much.<br />\n",
    "3) The defining feature of a data scientist is the breadth of their skills.<br />\n",
    "4) Data scintists should be capable of building protypes but not necessarily production-level code.<br />\n",
    "5) I am most likely a \"data developer\" - a bit of each skill.<br />"
   ]
  },
  {
   "cell_type": "markdown",
   "metadata": {},
   "source": [
    "## The Data Science Handbook - Summary\n",
    "\n",
    "### DJ Patil\n",
    "When starting out, we get placed in \"boxes\" and it's difficult to escape that box. When leaving academia, someone will need to take a chance on you. Inevitably, that involves talking to a lot of people and placing yourself in situations where someone can take a risk on you. Opportunities will be more likely to follow.\n",
    "\n",
    "Failure is essential. The description of yourself changes constantly and it evolves with each new person one talks to. This is a kind of iteration of oneself – finding out what version and criteria works.\n",
    "\n",
    "Data science is still new and ambiguous. New hires get to decide what tools to use.\n",
    "\n",
    "Those coming from academia have yet to prove they can make anything. Academia sets you up to study something that very few people care about. That time should be spent solving the hard problems during a PhD and develop new skills. Once you learn and have made something new, one must tell the story and explain why it was made. \n",
    "\n",
    "Data science is a team sport. There’s not a single data scientist that does it all.\n",
    "\n",
    "Today it’s possible to achieve a lot more which was once the dominion of large tech companies.  There is a trend of people jumping into help organisations for social good because they believe in the mission. The millennials in particular are more compassionate – they’re not just interested in producing results, they wish to act on them and make a difference. \n",
    "\n",
    "Understanding the user experience is key to designing beautiful products. Removing the “creepiness” factor in social media site for example can solve the problem of users not engaging with a product when it’s deemed intrusive.\n",
    "\n",
    "Data scientists tend to be at the centre of a business, which exposes oneself to a range of business functions. \n",
    "\n",
    "A new starter has to put in the hours, even if it means getting four hours sleep a night. That’s how you accelerate on the learning curve, which will allow you to sit in on the key conversations.\n",
    "\n",
    "We don’t know what the key criterion is to be a good data scientist. Being around people that constantly inspire you is invigorating and hard to come by. Mentors are key. To advance, we should only work on the simple things, because they will get hard. Whereas hard things become intractable.\n",
    "\n",
    "### Michelangelo D’Agostino\n",
    "When in academia, there isn’t a clear path when pursing non-academic careers. Lab research can be solitary, whereas data science is a collaborative endeavour. Opportunities can arise from reading a blog from Kaggle then applying for jobs. The skills learnt in academia may be translated to fields as far as politics. Visualising data and being able to tell a story are key in both academia and data science.\n",
    "\n",
    "There are more opportunities in industry to work on projects with impact and collaborate with others. Academic research is slow.\n",
    "\n",
    "Most of the things one learns is not taught in the classroom. You can teach yourself. You have to have faith that if you keep working hard on a problem you will find a solution, or at least come to understand the nature of the problem in greater detail.\n",
    "\n",
    "The only way you learn how to work with data is to work with data! One has to be familiar with cleaning data and running into problems along the way. It’s not enough to say you want to be a data scientist without having actually shown you attempted by joining hackathons or Kaggle competitions.\n",
    "\n",
    "There is a lot of opportunity in organisations. People appreciate what data scientists can do and they have loads of data to analyse. \n",
    "\n",
    "There’s a lot of hype around data science."
   ]
  },
  {
   "cell_type": "markdown",
   "metadata": {},
   "source": [
    "## Exercise Four - Movie Lens Data"
   ]
  },
  {
   "cell_type": "code",
   "execution_count": 30,
   "metadata": {
    "collapsed": true
   },
   "outputs": [
    {
     "data": {
      "text/plain": [
       "Int64Index([496, 572, 621, 684, 733, 805, 890], dtype='int64', name=u'user_id')"
      ]
     },
     "execution_count": 30,
     "metadata": {},
     "output_type": "execute_result"
    }
   ],
   "source": [
    "import pandas as pd\n",
    "pd.read_table('u.user', header=None)\n",
    "user_cols = ['user_id', 'age', 'gender', 'occupation', 'zip_code']\n",
    "users = pd.read_table('u.user', sep='|', header=None, names=user_cols, index_col='user_id', dtype={'zip_code':str})\n",
    "users.head()\n",
    "\n",
    "# for each occupation in 'users', count the number of occurrences\n",
    "users.occupation.value_counts() \n",
    "\n",
    "# for each occupation, calculate the mean age\n",
    "#X = users.groupby('occupation')\n",
    "#X['age'].mean()\n",
    "users.groupby('occupation')['age'].mean()\n",
    "\n",
    "# for each occupation, calculate the minimum and maximum ages\n",
    "users.groupby('occupation')['age'].min()\n",
    "users.groupby('occupation')['age'].max()\n",
    "\n",
    "# for each combination of occupation and gender, calculate the mean age\n",
    "users.groupby(['occupation', 'gender'])['age'].mean()\n",
    "\n",
    "# randomly sample a DataFrame\n",
    "users.sample()\n",
    "\n",
    "# detect duplicate users\n",
    "X = users.duplicated()\n",
    "users[X]\n",
    "users.index[X]\n",
    "#users.head()\n"
   ]
  }
 ],
 "metadata": {
  "anaconda-cloud": {},
  "kernelspec": {
   "display_name": "Python [default]",
   "language": "python",
   "name": "python2"
  },
  "language_info": {
   "codemirror_mode": {
    "name": "ipython",
    "version": 2
   },
   "file_extension": ".py",
   "mimetype": "text/x-python",
   "name": "python",
   "nbconvert_exporter": "python",
   "pygments_lexer": "ipython2",
   "version": "2.7.12"
  }
 },
 "nbformat": 4,
 "nbformat_minor": 0
}
