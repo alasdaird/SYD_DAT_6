{
 "cells": [
  {
   "cell_type": "markdown",
   "metadata": {},
   "source": [
    "# SYD DAT 6 Homework 2 - Visualisation, Regression and Classification\n",
    "\n",
    "## Homework - Due Monday 14th November 2016\n",
    "\n",
    "All responses should be written in markdown or code in this document.\n",
    "\n",
    "----\n",
    "\n",
    "#### Setup\n",
    "* Signup for an AWS account\n",
    "\n",
    "#### Python Programming Skills\n",
    "* Complete all the labs\n",
    "* Experiment with tutorials 1 & 2 from https://github.com/fonnesbeck/statistical-analysis-python-tutorial\n",
    "* Referring to the prior labs perform some simple analysis of the titanic.csv dataset using python\n",
    "    * Load the data set titanic.csv\n",
    "    * Produce 1 simple visualisation with matplotlib/seaborn/pandas visualisation libraries to show the distribution of ages\n",
    "    * How many male 3rd class passengers survived and how many did not survive\n",
    "    * How many female 1st class passengers survived and how many did not survive\n",
    "    * Produce a table grouped by class that shows:\n",
    "        * Percent survived\n",
    "        * Average fare\n",
    "    \n",
    "\n",
    "#### Machine Learning Theory\n",
    "* Reading that was required during the course from Introduction to Statistical Learning\n",
    "    * Chapter 3 - Linear Regression\n",
    "    * Chapter 4 - 4.1, 4.2, 4.3  - Classification\n",
    "    * Chapter 5 - 5.1 - Cross Validation\n",
    "    * Chapter 6 - 6.1, 6.2, 6.3 - Dimensionality\n",
    "* Complete all the labs\n",
    "* Describe what technique you might apply to predict whether a person has AIDs. What could you do to reduce the probability that the solution mistakenly predicts that a person does not have AIDs, when in fact they do?\n",
    "\n",
    "\n",
    "#### Visualisation\n",
    "* Drawing from Keegan from Optus' talk, your own experience or any other source, describe what you believe are the 3 most important considerations in producing a visualisation.\n",
    "* Name 3 types of plots you can think of to address each of the following situations:\n",
    "    * Show the distribution of a single variable\n",
    "    * Show a relationship between two variables\n",
    "    * Compare two or more variables\n",
    "\n",
    "\n",
    "#### Communication\n",
    "* Imagine you are trying to explain to someone what Linear Regression is - but they have no programming/maths experience? How would you explain the overall process, what R-Squared means and how to interpret the coefficients?\n",
    "* Read the paper [Useful things to know about machine learning]( https://homes.cs.washington.edu/~pedrod/papers/cacm12.pdf). \n",
    "    * What have we covered so far from this paper? \n",
    "    * Explain sections 6-13 in your own words\n",
    "\n",
    "\n",
    "#### Course Project\n",
    "* Set up a new github repository for your project.\n",
    "    * If there is any sensitive data or material in your project, make it a private repository - but check with us first. For most of you this will not be necessary. Generally you would exclude data from git tracking - this can be achieved with the .gitignore file. Don't worry about excluding files from git if you are using smaller, public datasets.\n",
    "    * Once you have established the github repository for your project, share the URL for the repository with Alasdair and Louis via Slack. If it is a private repository you will additionally need to give Alasdair and Louis permissions. \n",
    "* Load the data you have gathered for your project into Python and run some summary statistics over the data. Are there any interesting features of the data that jump out? (Include the code)\n",
    "* Draft/Sketch on paper (or wireframe) some data visualisations that would be useful for you to explore your data set\n",
    "* Are there any regression or clustering techniques you could use in your project? Write them down (with the corresponding scikit learn function) and what you think you would get out of it.\n",
    "\n",
    "\n",
    "**Instructions: copy this file and append your name in the filename, e.g. Homework2_alasdaird.ipynb.\n",
    "Then commit this in your local repository, push it to your github account and create a pull request so I can see your work. Remeber if you get stuck to look at the slides going over Fork, Clone, Commit, Push and Pull request.**"
   ]
  },
  {
   "cell_type": "code",
   "execution_count": null,
   "metadata": {
    "collapsed": true
   },
   "outputs": [],
   "source": []
  }
 ],
 "metadata": {
  "kernelspec": {
   "display_name": "Python 2",
   "language": "python",
   "name": "python2"
  },
  "language_info": {
   "codemirror_mode": {
    "name": "ipython",
    "version": 2
   },
   "file_extension": ".py",
   "mimetype": "text/x-python",
   "name": "python",
   "nbconvert_exporter": "python",
   "pygments_lexer": "ipython2",
   "version": "2.7.11"
  }
 },
 "nbformat": 4,
 "nbformat_minor": 0
}
