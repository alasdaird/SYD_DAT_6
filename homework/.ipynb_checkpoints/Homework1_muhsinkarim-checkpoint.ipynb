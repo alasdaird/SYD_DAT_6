{
 "cells": [
  {
   "cell_type": "markdown",
   "metadata": {},
   "source": [
    "# SYD DAT 6 Lab 1 - Git and Markdown\n",
    "\n",
    "## Homework:\n",
    "\n",
    "#### Setup\n",
    "* Resolve any installation issues before next class.\n",
    "* Make sure you have a github profile and created a repo called \"SYD_DAT_6\"\n",
    "* Clone the class repo (this one!)\n",
    "* Review this [code](../labs/Week 1/00_python_refresher.py) for a recap of some Python basics.\n",
    "\n",
    "#### Communication\n",
    "* Read [Analyzing the Analyzers](http://cdn.oreillystatic.com/oreilly/radarreport/0636920029014/Analyzing_the_Analyzers.pdf) for a useful look at the different types of data scientists. Write down 5 key points you took away from the article\n",
    "* Read about some [Markdown Techniques](http://daringfireball.net/projects/markdown/syntax)\n",
    "* Write a summary of 2 chapters of [The Data Science Handbook](http://www.thedatasciencehandbook.com/) in Markdown and submit a pull request in the Lab Directory\n",
    "\n",
    "#### Programming\n",
    "* Complete the lab from class and the additional Exercise below\n",
    "\n",
    "#### Course Project\n",
    "* Come up with 5 different ideas for your course project. For each one list:\n",
    "  * Overview of your idea\n",
    "  * What data you will use\n",
    "  * What the outcome is that you are trying to achieve\n",
    "  * Any ideas of modelling techniques it may involve\n",
    "\n",
    "**Instructions: copy this file and append your name in the filename, e.g. Homework1_alasdair_douglas.ipynb.\n",
    "Then commit this in your local repository, push it to your github account and create a pull request so I can see your work. Remeber if you get stuck to look at the slides going over Fork, Clone, Commit, Push and Pull request.**"
   ]
  },
  {
   "cell_type": "markdown",
   "metadata": {},
   "source": [
    "## Analyzing the Analyzers - 5 key points\n",
    "\n",
    "1) There needs to be a better more refined definition of a \"data science\".<br />\n",
    "2) Excessive hype of the term \"data science\" is leading people to expect too much.<br />\n",
    "3) The defining feature of a data scientist is the breadth of their skills.<br />\n",
    "4) Data scintists should be capable of builing protypes but not necessarily production-level code.<br />\n",
    "5) I am most likely a \"data developer\" - a bit of each skill.<br />"
   ]
  },
  {
   "cell_type": "markdown",
   "metadata": {},
   "source": [
    "## Exercise Four - Movie Lens Data"
   ]
  },
  {
   "cell_type": "code",
   "execution_count": 30,
   "metadata": {
    "collapsed": false
   },
   "outputs": [
    {
     "data": {
      "text/plain": [
       "Int64Index([496, 572, 621, 684, 733, 805, 890], dtype='int64', name=u'user_id')"
      ]
     },
     "execution_count": 30,
     "metadata": {},
     "output_type": "execute_result"
    }
   ],
   "source": [
    "import pandas as pd\n",
    "pd.read_table('u.user', header=None)\n",
    "user_cols = ['user_id', 'age', 'gender', 'occupation', 'zip_code']\n",
    "users = pd.read_table('u.user', sep='|', header=None, names=user_cols, index_col='user_id', dtype={'zip_code':str})\n",
    "users.head()\n",
    "\n",
    "# for each occupation in 'users', count the number of occurrences\n",
    "users.occupation.value_counts() \n",
    "\n",
    "# for each occupation, calculate the mean age\n",
    "#X = users.groupby('occupation')\n",
    "#X['age'].mean()\n",
    "users.groupby('occupation')['age'].mean()\n",
    "\n",
    "# for each occupation, calculate the minimum and maximum ages\n",
    "users.groupby('occupation')['age'].min()\n",
    "users.groupby('occupation')['age'].max()\n",
    "\n",
    "# for each combination of occupation and gender, calculate the mean age\n",
    "users.groupby(['occupation', 'gender'])['age'].mean()\n",
    "\n",
    "# randomly sample a DataFrame\n",
    "users.sample()\n",
    "\n",
    "# detect duplicate users\n",
    "X = users.duplicated()\n",
    "users[X]\n",
    "users.index[X]\n",
    "#users.head()\n",
    "\n",
    "\n",
    "\n"
   ]
  }
 ],
 "metadata": {
  "anaconda-cloud": {},
  "kernelspec": {
   "display_name": "Python [default]",
   "language": "python",
   "name": "python2"
  },
  "language_info": {
   "codemirror_mode": {
    "name": "ipython",
    "version": 2
   },
   "file_extension": ".py",
   "mimetype": "text/x-python",
   "name": "python",
   "nbconvert_exporter": "python",
   "pygments_lexer": "ipython2",
   "version": "2.7.12"
  }
 },
 "nbformat": 4,
 "nbformat_minor": 0
}
