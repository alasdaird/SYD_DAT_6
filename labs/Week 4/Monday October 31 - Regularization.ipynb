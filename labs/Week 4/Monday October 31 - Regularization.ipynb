{
 "cells": [
  {
   "cell_type": "markdown",
   "metadata": {},
   "source": [
    "# Lab - Regularization\n",
    "\n",
    "## Week 4 Monday 31st October"
   ]
  },
  {
   "cell_type": "code",
<<<<<<< HEAD
   "execution_count": 11,
=======
   "execution_count": 2,
>>>>>>> upstream/master
   "metadata": {
    "collapsed": false
   },
   "outputs": [
    {
     "name": "stderr",
     "output_type": "stream",
     "text": [
      "/Users/alasdairdouglas/anaconda/lib/python2.7/site-packages/sklearn/cross_validation.py:44: DeprecationWarning: This module was deprecated in version 0.18 in favor of the model_selection module into which all the refactored classes and functions are moved. Also note that the interface of the new CV iterators are different from that of this module. This module will be removed in 0.20.\n",
      "  \"This module will be removed in 0.20.\", DeprecationWarning)\n"
     ]
    }
   ],
   "source": [
    "## TASK: Regularized regression\n",
    "## FUNCTIONS: Ridge, RidgeCV, Lasso, LassoCV\n",
    "## DOCUMENTATION: http://scikit-learn.org/stable/modules/linear_model.html\n",
    "## DATA: Crime (n=319 non-null, p=122, type=regression)\n",
    "## DATA DICTIONARY: http://archive.ics.uci.edu/ml/datasets/Communities+and+Crime\n",
    "\n",
    "## This data set contains data on violent crimes within a community.\n",
    "\n",
    "########## Prepare data ##########\n",
    "# read in data, remove categorical features, remove rows with missing values\n",
    "import pandas as pd\n",
    "crime = pd.read_csv('http://archive.ics.uci.edu/ml/machine-learning-databases/communities/communities.data', header=None, na_values=['?'])\n",
    "crime = crime.iloc[:, 5:]\n",
    "crime.dropna(inplace=True)\n",
    "crime.head()\n",
    "\n",
    "# dropna (inplace=True) drops  null values\n",
    "# define X and y\n",
    "X = crime.iloc[:, :-1]\n",
    "y = crime.iloc[:, -1]\n",
    "#crime.iloc--> choosing x and y \n",
    "\n",
    "# split into train/test\n",
    "from sklearn.cross_validation import train_test_split\n",
    "X_train, X_test, y_train, y_test = train_test_split(X, y, random_state=1)\n",
    "\n",
    "#traintest split the data into four columns -> test, train, x and y\n"
   ]
  },
  {
   "cell_type": "code",
<<<<<<< HEAD
   "execution_count": 12,
=======
   "execution_count": 4,
>>>>>>> upstream/master
   "metadata": {
    "collapsed": false
   },
   "outputs": [
    {
<<<<<<< HEAD
     "ename": "TypeError",
     "evalue": "'tuple' object is not callable",
     "output_type": "error",
     "traceback": [
      "\u001b[0;31m---------------------------------------------------------------------------\u001b[0m",
      "\u001b[0;31mTypeError\u001b[0m                                 Traceback (most recent call last)",
      "\u001b[0;32m<ipython-input-12-410a1db5f3ba>\u001b[0m in \u001b[0;36m<module>\u001b[0;34m()\u001b[0m\n\u001b[1;32m      1\u001b[0m \u001b[1;31m# How many columns are in X?\u001b[0m\u001b[1;33m\u001b[0m\u001b[1;33m\u001b[0m\u001b[0m\n\u001b[0;32m----> 2\u001b[0;31m \u001b[0mX\u001b[0m\u001b[1;33m.\u001b[0m\u001b[0mshape\u001b[0m\u001b[1;33m(\u001b[0m\u001b[1;33m)\u001b[0m\u001b[1;33m\u001b[0m\u001b[0m\n\u001b[0m",
      "\u001b[0;31mTypeError\u001b[0m: 'tuple' object is not callable"
     ]
=======
     "data": {
      "text/plain": [
       "122"
      ]
     },
     "execution_count": 4,
     "metadata": {},
     "output_type": "execute_result"
>>>>>>> upstream/master
    }
   ],
   "source": [
    "# How many columns are in X?\n",
<<<<<<< HEAD
    "X.shape()"
=======
    "X.shape\n",
    "len(X.columns)"
>>>>>>> upstream/master
   ]
  },
  {
   "cell_type": "code",
<<<<<<< HEAD
   "execution_count": 14,
=======
   "execution_count": 8,
>>>>>>> upstream/master
   "metadata": {
    "collapsed": false
   },
   "outputs": [
    {
     "data": {
      "text/plain": [
       "122"
      ]
     },
<<<<<<< HEAD
     "execution_count": 14,
=======
     "execution_count": 8,
>>>>>>> upstream/master
     "metadata": {},
     "output_type": "execute_result"
    }
   ],
   "source": [
    "########## Linear Regression Model Without Regularization ##########\n",
    "# linear regression\n",
    "from sklearn.linear_model import LinearRegression\n",
    "lm = LinearRegression()\n",
    "lm.fit(X_train, y_train)\n",
    "lm.coef_\n",
    "# What are these numbers?\n",
<<<<<<< HEAD
    "\n",
    "#Answer- The beta values\n",
    "len(lm.coef_)\n",
    "\n"
=======
    "len(lm.coef_)\n"
>>>>>>> upstream/master
   ]
  },
  {
   "cell_type": "code",
<<<<<<< HEAD
   "execution_count": 15,
=======
   "execution_count": 9,
>>>>>>> upstream/master
   "metadata": {
    "collapsed": false
   },
   "outputs": [
    {
     "name": "stdout",
     "output_type": "stream",
     "text": [
      "RMSE (no regularization) = 0.233813676495\n"
     ]
    }
   ],
   "source": [
    "# make predictions and evaluate\n",
    "import numpy as np\n",
    "from sklearn import metrics\n",
    "preds = lm.predict(X_test)\n",
    "print 'RMSE (no regularization) =', np.sqrt(metrics.mean_squared_error(y_test, preds))\n",
    "# RMSE is root mean square error."
   ]
  },
  {
   "cell_type": "code",
<<<<<<< HEAD
   "execution_count": 16,
=======
   "execution_count": 10,
>>>>>>> upstream/master
   "metadata": {
    "collapsed": false
   },
   "outputs": [
    {
     "name": "stdout",
     "output_type": "stream",
     "text": [
      "RMSE (Ridge reg.) = 0.164279068049\n"
     ]
    }
   ],
   "source": [
    "########## Ridge Regression Model ##########\n",
    "# ridge regression (alpha must be positive, larger means more regularization)\n",
    "from sklearn.linear_model import Ridge\n",
    "rreg = Ridge(alpha=0.1, normalize=True)\n",
    "rreg.fit(X_train, y_train)\n",
    "rreg.coef_\n",
    "preds = rreg.predict(X_test)\n",
    "print 'RMSE (Ridge reg.) =', np.sqrt(metrics.mean_squared_error(y_test, preds))\n",
    "# Is this model better? Why?\n",
    "#The effect of the insignificant betas has been reduced"
   ]
  },
  {
   "cell_type": "code",
<<<<<<< HEAD
   "execution_count": 34,
=======
   "execution_count": 20,
>>>>>>> upstream/master
   "metadata": {
    "collapsed": false
   },
   "outputs": [
    {
     "name": "stdout",
     "output_type": "stream",
     "text": [
<<<<<<< HEAD
      "RMSE (Ridge CV reg.) = 0.163129782343\n",
      "[  1.00000000e-02   1.00000000e-01   1.00000000e+00   1.00000000e+01\n",
      "   1.00000000e+02]\n",
      "[ -1.35479199e-03   3.66493623e-03   5.67246153e-02  -6.65596102e-02\n",
      "   7.50154730e-03   3.73570277e-03   1.48458510e-02  -8.26212596e-03\n",
      "  -9.14751985e-04   8.17782143e-03  -9.58221848e-04   3.99333039e-03\n",
      "  -2.04774531e-02  -3.80310378e-02  -7.06311041e-02  -9.07995340e-02\n",
      "   3.92365601e-03   3.68491166e-02  -2.35269424e-02  -1.36618143e-02\n",
      "  -9.83437557e-03   1.30086791e-02  -3.43297706e-02  -5.04638755e-02\n",
      "  -9.82883411e-04   7.47392898e-02   2.63572032e-02  -1.07987605e-02\n",
      "   3.16035521e-02  -2.17283831e-02  -4.45588182e-03  -1.06490401e-02\n",
      "   4.42829964e-02  -3.72944143e-02  -6.18713730e-02   3.20124805e-02\n",
      "   5.85549588e-03  -1.23569409e-02   6.53560040e-02   3.46461301e-02\n",
      "   6.00524147e-02   6.39805254e-02   2.58651194e-02  -6.73126020e-02\n",
      "  -7.02669216e-02  -5.05555985e-02  -6.41318316e-02   8.24959798e-03\n",
      "   9.27945661e-03   2.77399795e-03   5.26650167e-02  -3.83854430e-03\n",
      "  -6.04984296e-03  -1.53114959e-02   1.72393078e-02   2.11864055e-02\n",
      "   4.40697120e-04   3.32044620e-03   7.16243927e-03   6.66440446e-03\n",
      "  -7.72185920e-05   2.69852368e-03   2.81341584e-02   1.97363420e-02\n",
      "  -6.50713075e-03   1.32688080e-02  -1.33248499e-02  -1.46491869e-02\n",
      "   2.30579186e-02   7.96862124e-02   2.12388813e-04   1.34268743e-02\n",
      "  -2.66304497e-02  -1.32590800e-02   2.00181039e-02   7.27144905e-03\n",
      "   5.04718226e-03   2.88522636e-02   7.53947389e-03  -7.97163573e-03\n",
      "  -5.55521252e-03  -1.71984008e-03  -3.34721090e-02  -8.08297495e-03\n",
      "  -8.41053916e-03   3.05921418e-04   9.38632965e-03  -6.90899365e-03\n",
      "  -3.05496999e-02   3.77828928e-02   6.33462868e-02   1.10005833e-02\n",
      "  -2.29792767e-02   7.97147365e-03   7.50701811e-03   8.23752156e-03\n",
      "   4.59206678e-05   1.14778395e-03   2.78344743e-05  -2.12672814e-03\n",
      "   1.25110687e-02   3.42230959e-02   4.08143239e-02   1.42423735e-03\n",
      "  -8.29660922e-02  -3.52386599e-02   3.32237250e-02  -1.77830301e-03\n",
      "   4.04432608e-02   1.85584939e-02   1.16761082e-02   8.52151434e-03\n",
      "  -1.32322008e-02   1.22894191e-02  -6.44216624e-03  -5.02763328e-03\n",
      "   3.37623134e-02   2.17114525e-02  -8.21584473e-03   2.04175614e-02\n",
      "  -3.06703463e-02  -9.00275805e-04]\n"
     ]
=======
      "RMSE (Ridge CV reg.) = 0.160913596522\n"
     ]
    },
    {
     "data": {
      "text/plain": [
       "10.0"
      ]
     },
     "execution_count": 20,
     "metadata": {},
     "output_type": "execute_result"
>>>>>>> upstream/master
    }
   ],
   "source": [
    "# use RidgeCV to select best alpha\n",
    "from sklearn.linear_model import RidgeCV\n",
    "# CV is cross validation. it divided data into K sets.If k=5 , it is 5 models. You test the data 5 times and avergae it out.\n",
    "alpha_range = 10.**np.arange(-2, 3)\n",
    "rregcv = RidgeCV(normalize=True, scoring='mean_squared_error', alphas=alpha_range, cv=5)\n",
    "rregcv.fit(X_train, y_train)\n",
    "rregcv.alpha_\n",
    "preds = rregcv.predict(X_test)\n",
    "print 'RMSE (Ridge CV reg.) =', np.sqrt(metrics.mean_squared_error(y_test, preds))\n",
    "# What is the range of alpha values we are searching over?\n",
<<<<<<< HEAD
    "print alpha_range\n",
    "rregcv.alpha_\n",
    "\n",
    "np.arange(-2,3)\n",
    "print rregcv.coef_"
=======
    "alpha_range\n",
    "rregcv.alpha_"
>>>>>>> upstream/master
   ]
  },
  {
   "cell_type": "code",
<<<<<<< HEAD
   "execution_count": 37,
=======
   "execution_count": 21,
>>>>>>> upstream/master
   "metadata": {
    "collapsed": false
   },
   "outputs": [
    {
     "name": "stdout",
     "output_type": "stream",
     "text": [
<<<<<<< HEAD
      "[ 0.  0.  0. -0. -0.  0.  0.  0.  0. -0.  0.  0. -0. -0. -0. -0.  0.  0.\n",
      " -0. -0. -0. -0. -0. -0. -0. -0. -0.  0.  0.  0.  0. -0.  0. -0. -0.  0.\n",
      "  0. -0.  0.  0.  0.  0.  0. -0. -0. -0. -0. -0. -0.  0.  0.  0.  0.  0.\n",
      "  0.  0.  0.  0.  0.  0. -0.  0.  0.  0.  0.  0.  0. -0.  0.  0. -0.  0.\n",
      " -0. -0.  0.  0. -0.  0.  0. -0. -0. -0. -0. -0. -0. -0.  0. -0.  0.  0.\n",
      "  0.  0.  0. -0.  0.  0.  0.  0. -0.  0.  0.  0.  0.  0. -0. -0.  0.  0.\n",
      "  0.  0.  0.  0.  0.  0.  0.  0.  0.  0. -0.  0.  0.  0.]\n",
      "RMSE (Lasso reg.) = 0.242253664949\n"
=======
      "RMSE (Lasso reg.) = 0.198165225429\n"
>>>>>>> upstream/master
     ]
    }
   ],
   "source": [
    "########## Lasso Regression Model ##########\n",
    "# lasso (alpha must be positive, larger means more regularization)\n",
    "from sklearn.linear_model import Lasso\n",
    "las = Lasso(alpha=10\n",
    "            , normalize=True)\n",
    "las.fit(X_train, y_train)\n",
    "print las.coef_\n",
    "preds = las.predict(X_test)\n",
    "print 'RMSE (Lasso reg.) =', np.sqrt(metrics.mean_squared_error(y_test, preds))"
   ]
  },
  {
   "cell_type": "code",
<<<<<<< HEAD
   "execution_count": 29,
=======
   "execution_count": 22,
>>>>>>> upstream/master
   "metadata": {
    "collapsed": false
   },
   "outputs": [
    {
     "name": "stdout",
     "output_type": "stream",
     "text": [
<<<<<<< HEAD
      "RMSE (Lasso reg.) = 0.160039024044\n"
     ]
    },
    {
     "ename": "AttributeError",
     "evalue": "'Lasso' object has no attribute 'alpha_'",
     "output_type": "error",
     "traceback": [
      "\u001b[0;31m---------------------------------------------------------------------------\u001b[0m",
      "\u001b[0;31mAttributeError\u001b[0m                            Traceback (most recent call last)",
      "\u001b[0;32m<ipython-input-29-1e3825fdb9ed>\u001b[0m in \u001b[0;36m<module>\u001b[0;34m()\u001b[0m\n\u001b[1;32m      5\u001b[0m \u001b[0mpreds\u001b[0m \u001b[1;33m=\u001b[0m \u001b[0mlas\u001b[0m\u001b[1;33m.\u001b[0m\u001b[0mpredict\u001b[0m\u001b[1;33m(\u001b[0m\u001b[0mX_test\u001b[0m\u001b[1;33m)\u001b[0m\u001b[1;33m\u001b[0m\u001b[0m\n\u001b[1;32m      6\u001b[0m \u001b[1;32mprint\u001b[0m \u001b[1;34m'RMSE (Lasso reg.) ='\u001b[0m\u001b[1;33m,\u001b[0m \u001b[0mnp\u001b[0m\u001b[1;33m.\u001b[0m\u001b[0msqrt\u001b[0m\u001b[1;33m(\u001b[0m\u001b[0mmetrics\u001b[0m\u001b[1;33m.\u001b[0m\u001b[0mmean_squared_error\u001b[0m\u001b[1;33m(\u001b[0m\u001b[0my_test\u001b[0m\u001b[1;33m,\u001b[0m \u001b[0mpreds\u001b[0m\u001b[1;33m)\u001b[0m\u001b[1;33m)\u001b[0m\u001b[1;33m\u001b[0m\u001b[0m\n\u001b[0;32m----> 7\u001b[0;31m \u001b[0mlas\u001b[0m\u001b[1;33m.\u001b[0m\u001b[0malpha_\u001b[0m\u001b[1;33m\u001b[0m\u001b[0m\n\u001b[0m\u001b[1;32m      8\u001b[0m \u001b[0mlas\u001b[0m\u001b[1;33m.\u001b[0m\u001b[0mcoef_\u001b[0m\u001b[1;33m\u001b[0m\u001b[0m\n",
      "\u001b[0;31mAttributeError\u001b[0m: 'Lasso' object has no attribute 'alpha_'"
=======
      "RMSE (Lasso reg.) = 0.164502413721\n"
>>>>>>> upstream/master
     ]
    }
   ],
   "source": [
    "# try a smaller alpha\n",
    "las = Lasso(alpha=.001, normalize=True)\n",
    "las.fit(X_train, y_train)\n",
    "las.coef_\n",
    "preds = las.predict(X_test)\n",
    "print 'RMSE (Lasso reg.) =', np.sqrt(metrics.mean_squared_error(y_test, preds))\n",
    "las.coef_"
   ]
  },
  {
   "cell_type": "code",
<<<<<<< HEAD
   "execution_count": 31,
=======
   "execution_count": 29,
>>>>>>> upstream/master
   "metadata": {
    "collapsed": false
   },
   "outputs": [
    {
     "name": "stdout",
     "output_type": "stream",
     "text": [
<<<<<<< HEAD
      "RMSE (Lasso CV reg.) = 0.198165225429\n"
=======
      "RMSE (Lasso CV reg.) = 0.164502413721\n"
>>>>>>> upstream/master
     ]
    },
    {
     "data": {
      "text/plain": [
<<<<<<< HEAD
       "0.01"
      ]
     },
     "execution_count": 31,
=======
       "array([ 0.        ,  0.        ,  0.        , -0.00418625, -0.        ,\n",
       "        0.09573169, -0.        , -0.        , -0.        ,  0.        ,\n",
       "        0.        , -0.0308013 ,  0.        , -0.09352469, -0.08937229,\n",
       "       -0.58628915,  0.        ,  0.16706299, -0.06130851,  0.11966402,\n",
       "       -0.        , -0.        , -0.10046533, -0.01816658, -0.        ,\n",
       "        0.19148624,  0.0281072 , -0.21042443,  0.        , -0.06733447,\n",
       "       -0.30656472,  0.        ,  0.12856465, -0.        , -0.18235778,\n",
       "        0.05534065,  0.14885766,  0.        ,  0.        ,  0.        ,\n",
       "       -0.07395512, -0.        ,  0.16423116, -0.        , -0.3780258 ,\n",
       "       -0.        , -0.        , -0.        ,  0.03341259, -0.        ,\n",
       "        0.22040155, -0.02724104,  0.        , -0.10195256,  0.06214765,\n",
       "        0.0274531 ,  0.        ,  0.        ,  0.        ,  0.        ,\n",
       "       -0.        ,  0.        ,  0.        ,  0.        ,  0.        ,\n",
       "        0.        , -0.2690561 ,  0.        ,  0.        ,  0.35611039,\n",
       "        0.04332233,  0.04845138,  0.0257534 ,  0.12236177, -0.00563988,\n",
       "        0.        ,  0.        ,  0.        , -0.        , -0.        ,\n",
       "       -0.0261296 , -0.        , -0.36526572,  0.        ,  0.        ,\n",
       "        0.3897239 , -0.05088597, -0.11944353, -0.07416446,  0.03742248,\n",
       "        0.15420475,  0.06425829, -0.11141704,  0.        , -0.        ,\n",
       "        0.10241054, -0.        , -0.        ,  0.01559901, -0.00149672,\n",
       "       -0.        ,  0.        ,  0.10057832, -0.        , -0.17578883,\n",
       "       -0.        , -0.        ,  0.02694208,  0.09249571, -0.        ,\n",
       "       -0.        ,  0.01179924, -0.00760995,  0.04291238, -0.06641967,\n",
       "       -0.05050237,  0.1498314 ,  0.        , -0.01623123,  0.03266239,\n",
       "       -0.07961514, -0.02043446])"
      ]
     },
     "execution_count": 29,
>>>>>>> upstream/master
     "metadata": {},
     "output_type": "execute_result"
    }
   ],
   "source": [
    "# use LassoCV to select best alpha (tries 100 alphas by default)\n",
    "from sklearn.linear_model import LassoCV\n",
<<<<<<< HEAD
    "lascv = LassoCV(normalize=True, alphas=alpha_range,cv=5)\n",
=======
    "alpha_range = 0.01**np.arange(-2, 3)\n",
    "lascv = LassoCV(normalize=True, alphas=alpha_range, cv=5)\n",
>>>>>>> upstream/master
    "lascv.fit(X_train, y_train)\n",
    "lascv.alpha_\n",
    "lascv.coef_\n",
    "preds = lascv.predict(X_test)\n",
    "print 'RMSE (Lasso CV reg.) =', np.sqrt(metrics.mean_squared_error(y_test, preds))\n",
    "lascv.alpha_\n",
    "lascv.coef_"
<<<<<<< HEAD
   ]
  },
  {
   "cell_type": "code",
   "execution_count": null,
   "metadata": {
    "collapsed": true
   },
   "outputs": [],
   "source": [
    "# Some takeaways\n",
    "\n",
    "# Ridge regression"
=======
>>>>>>> upstream/master
   ]
  },
  {
   "cell_type": "markdown",
   "metadata": {},
   "source": [
    "### Lookup [Elastic Net](http://scikit-learn.org/stable/modules/linear_model.html#elastic-net) and complete the following.\n",
    "\n",
    "\n",
    "\n",
    "1. What is elastic net?\n",
    "2. How does it work?\n",
    "3. Run elastic net on the above dataset"
   ]
  },
  {
   "cell_type": "code",
   "execution_count": 30,
   "metadata": {
    "collapsed": true
   },
   "outputs": [],
   "source": [
    "from sklearn.linear_model import ElasticNet"
   ]
  },
  {
   "cell_type": "code",
   "execution_count": null,
   "metadata": {
    "collapsed": true
   },
   "outputs": [],
   "source": []
  }
 ],
 "metadata": {
  "anaconda-cloud": {},
  "kernelspec": {
<<<<<<< HEAD
   "display_name": "Python [conda root]",
   "language": "python",
   "name": "conda-root-py"
=======
   "display_name": "Python 2",
   "language": "python",
   "name": "python2"
>>>>>>> upstream/master
  },
  "language_info": {
   "codemirror_mode": {
    "name": "ipython",
    "version": 2
   },
   "file_extension": ".py",
   "mimetype": "text/x-python",
   "name": "python",
   "nbconvert_exporter": "python",
   "pygments_lexer": "ipython2",
   "version": "2.7.11"
  }
 },
 "nbformat": 4,
 "nbformat_minor": 0
}
