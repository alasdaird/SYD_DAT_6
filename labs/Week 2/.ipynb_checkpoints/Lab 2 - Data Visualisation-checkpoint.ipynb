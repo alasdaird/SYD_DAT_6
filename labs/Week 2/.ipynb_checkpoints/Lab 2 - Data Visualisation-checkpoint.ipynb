{
 "cells": [
  {
   "cell_type": "markdown",
   "metadata": {},
   "source": [
    "# Data Science Course Week 2 - Data Visuaisation\n",
    "\n",
    "## We will be exploring datasets with Python visualisation libraries\n",
    "\n",
    "For more information refer to the [Pandas Documentation](http://pandas.pydata.org/pandas-docs/stable/visualization.html) and the [Plotly Documentation](https://plot.ly/python/offline/)\n"
   ]
  },
  {
   "cell_type": "markdown",
   "metadata": {},
   "source": [
    "### 1. Matplotlib\n",
    "The easiest way to visualise Pandas Dataframes"
   ]
  },
  {
   "cell_type": "code",
<<<<<<< HEAD
   "execution_count": 1,
=======
   "execution_count": null,
>>>>>>> origin
   "metadata": {
    "collapsed": true
   },
   "outputs": [],
   "source": [
    "%matplotlib inline\n",
    "\n",
    "import pandas as pd\n",
    "import numpy as np\n",
    "import matplotlib.pyplot as plt\n",
    "plt.style.use('ggplot') # This styles the graphs in a nicer format"
   ]
  },
  {
   "cell_type": "code",
<<<<<<< HEAD
   "execution_count": 2,
=======
   "execution_count": null,
>>>>>>> origin
   "metadata": {
    "collapsed": true
   },
   "outputs": [],
   "source": [
    "# read drinks.csv into a DataFrame called 'drinks'\n",
    "drinks = pd.read_table('drinks.csv', sep=',')\n",
    "drinks = pd.read_csv('drinks.csv')              # assumes separator is comma"
   ]
  },
  {
   "cell_type": "code",
<<<<<<< HEAD
   "execution_count": 6,
   "metadata": {
    "collapsed": false
   },
   "outputs": [
    {
     "data": {
      "image/png": "iVBORw0KGgoAAAANSUhEUgAAAYMAAAEmCAYAAACAtfxPAAAABHNCSVQICAgIfAhkiAAAAAlwSFlz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\n",
      "text/plain": [
       "<matplotlib.figure.Figure at 0x117a96c10>"
      ]
     },
     "metadata": {},
     "output_type": "display_data"
    }
   ],
=======
   "execution_count": null,
   "metadata": {
    "collapsed": false
   },
   "outputs": [],
>>>>>>> origin
   "source": [
    "# bar plot of number of countries in each continent\n",
    "drinks.continent.value_counts().plot(kind='bar', title='Countries per Continent')\n",
    "plt.xlabel('Continent')\n",
    "plt.ylabel('Count')\n",
    "#plt.show()                                  # show plot window (if it doesn't automatically appear)\n",
    "plt.savefig('countries_per_continent.png')  # save plot to file"
   ]
  },
  {
   "cell_type": "code",
<<<<<<< HEAD
   "execution_count": 4,
   "metadata": {
    "collapsed": false
   },
   "outputs": [
    {
     "data": {
      "text/plain": [
       "<matplotlib.text.Text at 0x117aa9f50>"
      ]
     },
     "execution_count": 4,
     "metadata": {},
     "output_type": "execute_result"
    },
    {
     "data": {
      "image/png": "iVBORw0KGgoAAAANSUhEUgAAAYoAAAEoCAYAAABGqrb1AAAABHNCSVQICAgIfAhkiAAAAAlwSFlz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\nWBREROTQ/wP0GQNTQ7IzTwAAAABJRU5ErkJggg==\n",
      "text/plain": [
       "<matplotlib.figure.Figure at 0x106901cd0>"
      ]
     },
     "metadata": {},
     "output_type": "display_data"
    }
   ],
   "source": [
    "# bar plot of average number of beer servings (per adult per year) by continent\n",
    "drinks.groupby('continent').beer_servings.mean().plot(kind='bar', title='Beer serCountries per Continent')\n",
=======
   "execution_count": null,
   "metadata": {
    "collapsed": false
   },
   "outputs": [],
   "source": [
    "# bar plot of average number of beer servings (per adult per year) by continent\n",
    "drinks.groupby('continent').beer_servings.mean().plot(kind='bar', title='Beer servings per year, per Continent')\n",
>>>>>>> origin
    "plt.ylabel('Average Number of Beer Servings Per Year')"
   ]
  },
  {
   "cell_type": "code",
   "execution_count": null,
   "metadata": {
    "collapsed": false
   },
   "outputs": [],
   "source": [
    "# histogram of beer servings (shows the distribution of a numeric column)\n",
    "drinks.beer_servings.hist(bins=15)\n",
    "plt.xlabel('Beer Servings')\n",
    "plt.ylabel('Frequency')"
   ]
  },
  {
   "cell_type": "code",
   "execution_count": null,
   "metadata": {
    "collapsed": false
   },
   "outputs": [],
   "source": [
    "# density plot of beer servings (smooth version of a histogram)\n",
    "drinks.beer_servings.plot(kind='density', xlim=(0,500))\n",
    "plt.xlabel('Beer Servings')"
   ]
  },
  {
   "cell_type": "code",
   "execution_count": null,
   "metadata": {
    "collapsed": false
   },
   "outputs": [],
   "source": [
    "# grouped histogram of beer servings (shows the distribution for each group)\n",
    "drinks.beer_servings.hist(by=drinks.continent, sharex=True, sharey=True)"
   ]
  },
  {
   "cell_type": "code",
   "execution_count": null,
   "metadata": {
    "collapsed": false
   },
   "outputs": [],
   "source": [
    "# boxplot of beer servings by continent (shows five-number summary and outliers)\n",
    "drinks.boxplot(column='beer_servings', by='continent')"
   ]
  },
  {
   "cell_type": "code",
   "execution_count": null,
   "metadata": {
    "collapsed": false
   },
   "outputs": [],
   "source": [
    "# scatterplot of beer servings versus wine servings\n",
    "drinks.plot(kind='scatter', x='beer_servings', y='wine_servings', alpha=0.3)"
   ]
  },
  {
   "cell_type": "code",
   "execution_count": null,
   "metadata": {
    "collapsed": false
   },
   "outputs": [],
   "source": [
    "# same scatterplot, except point color varies by 'spirit_servings'\n",
    "drinks.plot(kind='scatter', x='beer_servings', y='wine_servings', c='spirit_servings', colormap='Blues')"
   ]
  },
  {
   "cell_type": "code",
   "execution_count": null,
   "metadata": {
    "collapsed": false
   },
   "outputs": [],
   "source": [
    "# same scatterplot, except all European countries are colored red\n",
    "colors = np.where(drinks.continent=='EU', 'r', 'b')\n",
    "drinks.plot(kind='scatter', x='beer_servings', y='wine_servings', c=colors)"
   ]
  },
  {
   "cell_type": "code",
   "execution_count": null,
   "metadata": {
    "collapsed": false
   },
   "outputs": [],
   "source": [
    "# scatterplot matrix of all numerical columns\n",
    "pd.scatter_matrix(drinks, figsize=(15,15))"
   ]
  },
  {
   "cell_type": "markdown",
<<<<<<< HEAD
   "metadata": {
    "collapsed": false
   },
   "source": [
    "### 2. Plotly\n",
    "A nice open source library for interactive visualisations"
=======
   "metadata": {},
   "source": [
    "### 2. ggplot\n",
    "This is a mimic of an R package for plotting that is very popular. The benefit of learning this package is that you will be able to think the same way about plotting in both Python and R.\n",
    "https://github.com/yhat/ggplot\n",
    "\n",
    "Rough syntax:\n",
    "\n",
    "- For common plots, establish the data source and data mapping with ggplot and aes:\n",
    "    - ggplot(data, aes(x='var', y='var2'))\n",
    "\n",
    "- Then add geometries (plot objects) that depend on the data mappings:\n",
    "    - geom_histogram()\n",
    "    - geom_point()\n",
    "\n",
    "A good recent post about ploting libraries avaiable in Python and how their syntax differ: https://dansaber.wordpress.com/2016/10/02/a-dramatic-tour-through-pythons-data-visualization-landscape-including-ggplot-and-altair/\n",
    "\n",
    "The 'R Graphics Cookbook' by Winston Chang is a great book on how to achieve what you want with ggplot()\n",
    "\n"
   ]
  },
  {
   "cell_type": "code",
   "execution_count": null,
   "metadata": {
    "collapsed": false
   },
   "outputs": [],
   "source": [
    "!pip install -U ggplot\n",
    "#!conda install -c conda-forge ggplot"
   ]
  },
  {
   "cell_type": "code",
   "execution_count": null,
   "metadata": {
    "collapsed": true
   },
   "outputs": [],
   "source": [
    "from ggplot import *"
   ]
  },
  {
   "cell_type": "markdown",
   "metadata": {},
   "source": [
    "#### A Single Variable: Shape and Distribution"
>>>>>>> origin
   ]
  },
  {
   "cell_type": "code",
   "execution_count": null,
   "metadata": {
    "collapsed": false
   },
   "outputs": [],
   "source": [
<<<<<<< HEAD
    "# To run any command at the system shell, simply prefix it with !\n",
    "# pip won't work from inside python without it\n",
    "!pip install plotly --upgrade"
=======
    "# data set mpg - included in ggplot package - car fuel mileage\n",
    "mpg.head()"
>>>>>>> origin
   ]
  },
  {
   "cell_type": "code",
   "execution_count": null,
   "metadata": {
    "collapsed": false
   },
   "outputs": [],
   "source": [
<<<<<<< HEAD
    "from plotly import __version__\n",
    "from plotly.offline import download_plotlyjs, init_notebook_mode, iplot\n",
    "\n",
    "print __version__ # requires version >= 1.9.0"
=======
    "# Single variable analysis: histogram\n",
    "ggplot(mpg, aes(x='cty')) + geom_histogram()"
   ]
  },
  {
   "cell_type": "markdown",
   "metadata": {},
   "source": [
    "##### Kernel Density Estimates\n",
    "To form a KDE, we place a kernel—that is, a smooth, strongly peaked function—at the position of each data point. We then add up the contributions from all kernels to obtain a smooth curve, which we can evaluate at any point along the x axis.\n",
    "\n",
    "Example Kernels:\n",
    "(Gaussian must commonly used)\n",
    "\n",
    "![KDE](KDE_kernals.png)"
>>>>>>> origin
   ]
  },
  {
   "cell_type": "code",
   "execution_count": null,
   "metadata": {
    "collapsed": false
   },
   "outputs": [],
   "source": [
<<<<<<< HEAD
    "init_notebook_mode() # run at the start of every ipython notebook to use plotly.offline\n",
    "                     # this injects the plotly.js source files into the notebook"
=======
    "# Single variable analysis: kernel density estimate\n",
    "ggplot(mpg, aes(x='cty')) + geom_density()\n"
>>>>>>> origin
   ]
  },
  {
   "cell_type": "code",
   "execution_count": null,
   "metadata": {
    "collapsed": false
   },
   "outputs": [],
   "source": [
<<<<<<< HEAD
    "from plotly.graph_objs import *\n",
    "import numpy as np"
=======
    "# Single variable analysis: kernel density estimate with plots split by drivetrain variable\n",
    "ggplot(mpg, aes(x='cty', colour='drv')) + geom_density()\n"
>>>>>>> origin
   ]
  },
  {
   "cell_type": "code",
   "execution_count": null,
   "metadata": {
    "collapsed": false
   },
   "outputs": [],
   "source": [
<<<<<<< HEAD
    "# Scatter plot with heatmap\n",
    "x = np.random.randn(2000)\n",
    "y = np.random.randn(2000)\n",
    "iplot([Histogram2dContour(x=x, y=y, contours=Contours(coloring='heatmap')),\n",
    "       Scatter(x=x, y=y, mode='markers', marker=Marker(color='white', size=3, opacity=0.3))], show_link=False)"
=======
    "# Single variable analysis: kernel density estimate with plots split by drivetrain variable, faceted\n",
    "ggplot(mpg, aes(x='cty', colour='drv')) + geom_density() + facet_grid('drv')"
   ]
  },
  {
   "cell_type": "markdown",
   "metadata": {},
   "source": [
    "##### Box plot and Violin plot"
>>>>>>> origin
   ]
  },
  {
   "cell_type": "code",
   "execution_count": null,
   "metadata": {
    "collapsed": false
   },
   "outputs": [],
   "source": [
<<<<<<< HEAD
    "import pandas as pd\n",
    "df = pd.read_csv('https://plot.ly/~etpinard/191.csv')\n",
    "df.head(5)"
=======
    "# Single variable analysis: Box Plot\n",
    "ggplot(mpg, aes(x='cyl', y='cty')) + geom_boxplot()"
   ]
  },
  {
   "cell_type": "code",
   "execution_count": null,
   "metadata": {
    "collapsed": false
   },
   "outputs": [],
   "source": [
    "# Single variable analysis: Violin Plot - applies the kernel density transformation per category\n",
    "ggplot(mpg, aes(x='cyl', y='cty')) + geom_violin()"
   ]
  },
  {
   "cell_type": "markdown",
   "metadata": {},
   "source": [
    "#### Two Variables: establishing a relationship"
   ]
  },
  {
   "cell_type": "code",
   "execution_count": null,
   "metadata": {
    "collapsed": false
   },
   "outputs": [],
   "source": [
    "# data set diamonds - included in ggplot package\n",
    "diamonds.head()"
   ]
  },
  {
   "cell_type": "code",
   "execution_count": null,
   "metadata": {
    "collapsed": false
   },
   "outputs": [],
   "source": [
    "# scatter plot\n",
    "# backslash indicates the statement continues on the next line. Make sure no characters follow the slash on that line. \n",
    "ggplot(diamonds, aes('carat','price', colour='cut')) + \\\n",
    "    geom_point(alpha=0.7) + \\\n",
    "    ggtitle('Diamond Price vs Carat')"
   ]
  },
  {
   "cell_type": "markdown",
   "metadata": {
    "collapsed": false
   },
   "source": [
    "### 3. Plotly\n",
    "A nice open source library for interactive visualisations"
>>>>>>> origin
   ]
  },
  {
   "cell_type": "code",
   "execution_count": null,
   "metadata": {
    "collapsed": false
   },
   "outputs": [],
   "source": [
<<<<<<< HEAD
    "iplot({\n",
    "    'data': [\n",
    "        Scatter(x=df[continent+'_Life Expentancy [in years]'],\n",
    "                y=df[continent+'_Gross Domestic Product per Capita [in USD of the year 2000]'],\n",
    "                text=df[continent+'_text'],\n",
    "                marker=Marker(size=df[continent+'_marker.size'], sizemode='area', sizeref=131868,),\n",
    "                mode='markers',\n",
    "                name=continent) for continent in ['Africa', 'Americas', 'Asia', 'Europe', 'Oceania']\n",
    "    ],\n",
    "    'layout': Layout(xaxis=XAxis(title='Life Expectancy'), yaxis=YAxis(title='GDP per Capita', type='log'))\n",
    "}, show_link=False)"
=======
    "# To run any command at the system shell, simply prefix it with !\n",
    "# pip won't work from inside python without it\n",
    "!pip install plotly --upgrade"
   ]
  },
  {
   "cell_type": "code",
   "execution_count": null,
   "metadata": {
    "collapsed": false
   },
   "outputs": [],
   "source": [
    "from plotly import __version__\n",
    "from plotly.offline import download_plotlyjs, init_notebook_mode, iplot\n",
    "\n",
    "print __version__ # requires version >= 1.9.0"
   ]
  },
  {
   "cell_type": "code",
   "execution_count": null,
   "metadata": {
    "collapsed": false
   },
   "outputs": [],
   "source": [
    "init_notebook_mode() # run at the start of every ipython notebook to use plotly.offline\n",
    "                     # this injects the plotly.js source files into the notebook"
   ]
  },
  {
   "cell_type": "code",
   "execution_count": null,
   "metadata": {
    "collapsed": false
   },
   "outputs": [],
   "source": [
    "from plotly.graph_objs import *\n",
    "import numpy as np"
   ]
  },
  {
   "cell_type": "code",
   "execution_count": null,
   "metadata": {
    "collapsed": false
   },
   "outputs": [],
   "source": [
    "# Scatter plot with heatmap\n",
    "x = np.random.randn(2000)\n",
    "y = np.random.randn(2000)\n",
    "iplot([Histogram2dContour(x=x, y=y, contours=Contours(coloring='heatmap')),\n",
    "       Scatter(x=x, y=y, mode='markers', marker=Marker(color='white', size=3, opacity=0.3))], show_link=False)"
>>>>>>> origin
   ]
  },
  {
   "cell_type": "code",
   "execution_count": null,
   "metadata": {
    "collapsed": false
   },
   "outputs": [],
   "source": [
    "\n",
    "df_airports = pd.read_csv('https://raw.githubusercontent.com/plotly/datasets/master/2011_february_us_airport_traffic.csv')\n",
    "df_airports.head()\n",
    "\n",
    "df_flight_paths = pd.read_csv('https://raw.githubusercontent.com/plotly/datasets/master/2011_february_aa_flight_paths.csv')\n",
    "df_flight_paths.head()\n",
    "\n",
    "airports = [ dict(\n",
    "        type = 'scattergeo',\n",
    "        locationmode = 'USA-states',\n",
    "        lon = df_airports['long'],\n",
    "        lat = df_airports['lat'],\n",
    "        hoverinfo = 'text',\n",
    "        text = df_airports['airport'],\n",
    "        mode = 'markers',\n",
    "        marker = dict(\n",
    "            size=2,\n",
    "            color='rgb(255, 0, 0)',\n",
    "            line = dict(\n",
    "                width=3,\n",
    "                color='rgba(68, 68, 68, 0)'\n",
    "            )\n",
    "        ))]\n",
    "\n",
    "flight_paths = []\n",
    "for i in range( len( df_flight_paths ) ):\n",
    "    flight_paths.append(\n",
    "        dict(\n",
    "            type = 'scattergeo',\n",
    "            locationmode = 'USA-states',\n",
    "            lon = [ df_flight_paths['start_lon'][i], df_flight_paths['end_lon'][i] ],\n",
    "            lat = [ df_flight_paths['start_lat'][i], df_flight_paths['end_lat'][i] ],\n",
    "            mode = 'lines',\n",
    "            line = dict(\n",
    "                width = 1,\n",
    "                color = 'red',\n",
    "            ),\n",
    "            opacity = float(df_flight_paths['cnt'][i])/float(df_flight_paths['cnt'].max()),\n",
    "        )\n",
    "    )\n",
    "\n",
    "layout = dict(\n",
    "        title = 'Feb. 2011 American Airline flight paths<br>(Hover for airport names)',\n",
    "        showlegend = False,\n",
    "        height = 800,\n",
    "        geo = dict(\n",
    "            scope='north america',\n",
    "            projection=dict( type='azimuthal equal area' ),\n",
    "            showland = True,\n",
    "            landcolor = 'rgb(243, 243, 243)',\n",
    "            countrycolor = 'rgb(204, 204, 204)',\n",
    "        ),\n",
    "    )\n",
    "\n",
    "fig = dict( data=flight_paths + airports, layout=layout )\n",
    "\n",
    "iplot(fig)"
   ]
<<<<<<< HEAD
=======
  },
  {
   "cell_type": "code",
   "execution_count": null,
   "metadata": {
    "collapsed": true
   },
   "outputs": [],
   "source": []
>>>>>>> origin
  }
 ],
 "metadata": {
  "kernelspec": {
   "display_name": "Python 2",
   "language": "python",
   "name": "python2"
  },
  "language_info": {
   "codemirror_mode": {
    "name": "ipython",
    "version": 2
   },
   "file_extension": ".py",
   "mimetype": "text/x-python",
   "name": "python",
   "nbconvert_exporter": "python",
   "pygments_lexer": "ipython2",
   "version": "2.7.11"
  }
 },
 "nbformat": 4,
 "nbformat_minor": 0
}
