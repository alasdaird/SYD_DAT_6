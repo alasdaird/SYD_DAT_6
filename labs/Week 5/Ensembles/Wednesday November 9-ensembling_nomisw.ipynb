{
 "cells": [
  {
   "cell_type": "markdown",
   "metadata": {},
   "source": [
    "# Introduction to Ensembling\n",
    "\n",
    "*Adapted from Chapter 8 of [An Introduction to Statistical Learning](http://www-bcf.usc.edu/~gareth/ISL/)*\n",
    "\n",
    "Let's pretend that instead of building a single model to solve a classification problem, you created **five independent models**, and each model was correct 70% of the time. If you combined these models into an \"ensemble\" and used their majority vote as a prediction, how often would the ensemble be correct?\n",
    "\n",
    "Let's simulate it to find out!"
   ]
  },
  {
   "cell_type": "code",
   "execution_count": 1,
   "metadata": {
    "collapsed": true
   },
   "outputs": [],
   "source": [
    "import numpy as np\n",
    "\n",
    "# set a seed for reproducibility\n",
    "np.random.seed(1234)\n"
   ]
  },
  {
   "cell_type": "code",
   "execution_count": 5,
   "metadata": {
    "collapsed": false
   },
   "outputs": [
    {
     "data": {
      "text/plain": [
       "array([ 0.20716556,  0.56277609,  0.88293597,  0.92378181,  0.02830815,\n",
       "        0.22749846,  0.2019667 ,  0.35309644,  0.55230109,  0.14094199,\n",
       "        0.50805302,  0.48373764,  0.17746194,  0.82182139,  0.50264778,\n",
       "        0.18487098,  0.79798731,  0.69640597,  0.75241974,  0.76822902,\n",
       "        0.05476624,  0.86451529,  0.53148686,  0.30354914,  0.33645992,\n",
       "        0.70829973,  0.76886972,  0.40820984,  0.28609204,  0.93461627,\n",
       "        0.70973533,  0.14247349,  0.54512684,  0.5298785 ,  0.92619925,\n",
       "        0.90461035,  0.26787566,  0.47796282,  0.70586544,  0.58360891,\n",
       "        0.13426782,  0.35553029,  0.27445415,  0.9342891 ,  0.39791329,\n",
       "        0.35540267,  0.87638668,  0.90408859,  0.04890407,  0.47617952,\n",
       "        0.19622623,  0.95361706,  0.12629149,  0.28194793,  0.68936283,\n",
       "        0.15945043,  0.25910609,  0.62784257,  0.51111347,  0.04876442,\n",
       "        0.08363984,  0.35387099,  0.12560988,  0.48820861,  0.48472594,\n",
       "        0.35482333,  0.80379506,  0.96655897,  0.60981487,  0.56731438,\n",
       "        0.84256361,  0.21251237,  0.43834632,  0.15620827,  0.94429997,\n",
       "        0.19179606,  0.98989384,  0.27907891,  0.32333049,  0.44456553,\n",
       "        0.9123299 ,  0.84054166,  0.65324903,  0.23096836,  0.51159412,\n",
       "        0.02321364,  0.54184764,  0.0253721 ,  0.27093011,  0.24941698,\n",
       "        0.59613982,  0.21638161,  0.40989832,  0.60725223,  0.65242369,\n",
       "        0.50220702,  0.46550083,  0.88105421,  0.63029899,  0.5600791 ,\n",
       "        0.5330526 ,  0.76137666,  0.96384194,  0.55219472,  0.20681508,\n",
       "        0.9691119 ,  0.60084512,  0.00139054,  0.55339963,  0.88218459,\n",
       "        0.41369227,  0.9798477 ,  0.53487307,  0.5838586 ,  0.269979  ,\n",
       "        0.96853677,  0.48219376,  0.88288653,  0.28060772,  0.40062865,\n",
       "        0.74034851,  0.92671507,  0.61058463,  0.64405493,  0.17256921,\n",
       "        0.62397007,  0.7978456 ,  0.55417703,  0.50695172,  0.08060089,\n",
       "        0.18411798,  0.53966924,  0.78774763,  0.7825553 ,  0.69370752,\n",
       "        0.37250727,  0.25020353,  0.16908039,  0.71618369,  0.71271512,\n",
       "        0.25911872,  0.98233458,  0.61182595,  0.41225528,  0.72615925,\n",
       "        0.45043215,  0.4572677 ,  0.53068085,  0.67015308,  0.76399377,\n",
       "        0.16828749,  0.25869558,  0.72997209,  0.86696329,  0.15866986,\n",
       "        0.34779915,  0.10957124,  0.11073745,  0.0120166 ,  0.97717024,\n",
       "        0.94314221,  0.89690109,  0.76635002,  0.0378592 ,  0.7334759 ,\n",
       "        0.35173105,  0.03551964,  0.81094593,  0.01709296,  0.28632369,\n",
       "        0.3688215 ,  0.31956218,  0.43456589,  0.58168875,  0.31371867,\n",
       "        0.46527348,  0.02125795,  0.39911712,  0.89878651,  0.32024288,\n",
       "        0.89523199,  0.22417386,  0.97471251,  0.26538695,  0.04506535,\n",
       "        0.92414625,  0.90492913,  0.46873945,  0.00431642,  0.35594662,\n",
       "        0.97085779,  0.56389383,  0.01285701,  0.54359626,  0.8602264 ,\n",
       "        0.40521085,  0.50409121,  0.21937418,  0.20674385,  0.60505255,\n",
       "        0.74769965,  0.92167219,  0.71148027,  0.44658328,  0.85138749,\n",
       "        0.7728201 ,  0.04047345,  0.22535098,  0.00969059,  0.04648756,\n",
       "        0.68239331,  0.10157032,  0.5348024 ,  0.37050921,  0.48495657,\n",
       "        0.29110787,  0.39216155,  0.64973   ,  0.88680363,  0.184876  ,\n",
       "        0.81567017,  0.16654588,  0.67504186,  0.51702751,  0.74577683,\n",
       "        0.7558994 ,  0.68104961,  0.77268137,  0.33965312,  0.15983877,\n",
       "        0.52219129,  0.73961748,  0.603703  ,  0.98871722,  0.48142414,\n",
       "        0.95343926,  0.39776281,  0.66384927,  0.85217884,  0.51174921,\n",
       "        0.61903588,  0.02682636,  0.46479479,  0.41835398,  0.83277094,\n",
       "        0.06669973,  0.35752863,  0.6446635 ,  0.24344428,  0.19290159,\n",
       "        0.78684748,  0.4799375 ,  0.9371289 ,  0.9461849 ,  0.88853195,\n",
       "        0.33868551,  0.81712775,  0.28712827,  0.63436528,  0.43397429,\n",
       "        0.09658599,  0.01103888,  0.4589634 ,  0.77357495,  0.14438613,\n",
       "        0.38059755,  0.9577103 ,  0.01886247,  0.06848607,  0.53423663,\n",
       "        0.02020241,  0.6832829 ,  0.53606309,  0.54682233,  0.19671408,\n",
       "        0.30154264,  0.26900249,  0.42251247,  0.75544465,  0.58558999,\n",
       "        0.87218134,  0.02538803,  0.56110108,  0.67533561,  0.56459111,\n",
       "        0.94895416,  0.92227183,  0.04577195,  0.93831332,  0.25360481,\n",
       "        0.6066423 ,  0.63616991,  0.01698512,  0.47257316,  0.05473155,\n",
       "        0.07970545,  0.60594973,  0.56557178,  0.92680894,  0.85426708,\n",
       "        0.36053271,  0.07797428,  0.67499034,  0.34417857,  0.0989625 ,\n",
       "        0.90689896,  0.53426879,  0.159561  ,  0.11753123,  0.93290687,\n",
       "        0.21195403,  0.01523536,  0.88789543,  0.65150371,  0.20022889,\n",
       "        0.47005646,  0.43008523,  0.76644683,  0.3095452 ,  0.57474619,\n",
       "        0.42332618,  0.31333544,  0.84956999,  0.88137112,  0.40350126,\n",
       "        0.98793546,  0.36605683,  0.07767356,  0.95240673,  0.86358191,\n",
       "        0.83414773,  0.67641845,  0.78327469,  0.20313229,  0.36953505,\n",
       "        0.34727371,  0.47874886,  0.36377336,  0.30127382,  0.73355806,\n",
       "        0.27742674,  0.81944373,  0.46897208,  0.35412616,  0.65236987,\n",
       "        0.72962502,  0.96149257,  0.38525418,  0.35714084,  0.14109549,\n",
       "        0.35773708,  0.8011134 ,  0.37315746,  0.39345489,  0.31520096,\n",
       "        0.80255564,  0.13940427,  0.76355077,  0.97094744,  0.59854388,\n",
       "        0.33548709,  0.44017147,  0.08116822,  0.06563986,  0.20736542,\n",
       "        0.42761077,  0.81182759,  0.62511416,  0.10833659,  0.74633524,\n",
       "        0.17426281,  0.40490575,  0.30168611,  0.50594033,  0.64566967,\n",
       "        0.7847423 ,  0.08867068,  0.88658009,  0.51967951,  0.47462335,\n",
       "        0.57659879,  0.59911727,  0.14390493,  0.73041977,  0.89363392,\n",
       "        0.03213417,  0.94629056,  0.22843535,  0.83634089,  0.7944057 ,\n",
       "        0.19023825,  0.64709571,  0.72138121,  0.09366978,  0.00618285,\n",
       "        0.28516877,  0.98977078,  0.09764202,  0.48557047,  0.46797518,\n",
       "        0.32725083,  0.89923551,  0.91341703,  0.1306432 ,  0.72093941,\n",
       "        0.26849658,  0.6193503 ,  0.13176719,  0.75415597,  0.02363171,\n",
       "        0.11178855,  0.21385353,  0.46925366,  0.84002972,  0.49354191,\n",
       "        0.41846927,  0.88236908,  0.34551442,  0.79149746,  0.8745975 ,\n",
       "        0.85845188,  0.21899656,  0.71356527,  0.84497962,  0.39002921,\n",
       "        0.00671695,  0.71160425,  0.92879342,  0.56198346,  0.46846381,\n",
       "        0.79677413,  0.17247714,  0.39625202,  0.21286962,  0.67188413,\n",
       "        0.94745423,  0.59334248,  0.0293022 ,  0.83285534,  0.09835665,\n",
       "        0.27849885,  0.5818051 ,  0.7739228 ,  0.41561117,  0.87511404,\n",
       "        0.41729543,  0.1844185 ,  0.44781524,  0.13147461,  0.05584187,\n",
       "        0.833331  ,  0.21692958,  0.90551118,  0.13108493,  0.1904651 ,\n",
       "        0.93795089,  0.5173075 ,  0.53740835,  0.13110433,  0.48337165,\n",
       "        0.9264283 ,  0.97498195,  0.18643619,  0.81369232,  0.39255074,\n",
       "        0.73538704,  0.35310367,  0.16690856,  0.62169843,  0.99929646,\n",
       "        0.58614084,  0.16422654,  0.83940381,  0.04574759,  0.97042268,\n",
       "        0.91701051,  0.78279898,  0.68378302,  0.5773826 ,  0.93076322,\n",
       "        0.70244554,  0.21711891,  0.67450131,  0.48305916,  0.11516904,\n",
       "        0.10218757,  0.74481338,  0.74420171,  0.84305236,  0.51430104,\n",
       "        0.11729621,  0.37556873,  0.542959  ,  0.69576595,  0.65761645,\n",
       "        0.55212644,  0.87768653,  0.43509554,  0.31727497,  0.80802347,\n",
       "        0.65401389,  0.74391087,  0.79265208,  0.47218031,  0.04210448,\n",
       "        0.65541665,  0.82968507,  0.73013914,  0.94580987,  0.75935127,\n",
       "        0.88473623,  0.61364683,  0.24762212,  0.13460057,  0.64090368,\n",
       "        0.22344307,  0.73729503,  0.49862286,  0.81924638,  0.18186257,\n",
       "        0.47692675,  0.47923636,  0.50795674,  0.96592295,  0.21937153,\n",
       "        0.95895156,  0.83377826,  0.77714396,  0.12628027,  0.91087877,\n",
       "        0.79783179,  0.6318482 ,  0.64150118,  0.76321693,  0.68545733,\n",
       "        0.5913282 ,  0.16822029,  0.97687783,  0.77641196,  0.87422635,\n",
       "        0.35960876,  0.74388091,  0.21785154,  0.5043482 ,  0.87929984,\n",
       "        0.59659238,  0.72071354,  0.41961917,  0.93178223,  0.1754331 ,\n",
       "        0.55354794,  0.2057423 ,  0.66207558,  0.69888203,  0.18759164,\n",
       "        0.17820697,  0.08232614,  0.583026  ,  0.25318993,  0.58221645,\n",
       "        0.26132057,  0.95401753,  0.96511394,  0.32401587,  0.26905033,\n",
       "        0.29323994,  0.75657813,  0.58415591,  0.53141554,  0.9376333 ,\n",
       "        0.0092061 ,  0.12221877,  0.71638395,  0.58477119,  0.22126169,\n",
       "        0.17766594,  0.62647203,  0.82841536,  0.65172908,  0.88366709,\n",
       "        0.23575309,  0.04768381,  0.73221548,  0.08722228,  0.4111677 ,\n",
       "        0.28242912,  0.30779627,  0.66820862,  0.05834571,  0.66419015,\n",
       "        0.16545852,  0.30516762,  0.49567069,  0.90103452,  0.97038327,\n",
       "        0.76182845,  0.41593792,  0.57951217,  0.41599755,  0.63885047,\n",
       "        0.98607012,  0.1883712 ,  0.992166  ,  0.58518728,  0.45858517,\n",
       "        0.18634949,  0.70921726,  0.11797158,  0.71218675,  0.65367159,\n",
       "        0.99539522,  0.71600797,  0.5742078 ,  0.13023381,  0.50945836,\n",
       "        0.4830335 ,  0.3589971 ,  0.01957983,  0.18362986,  0.90325987,\n",
       "        0.11631865,  0.60406815,  0.89760574,  0.12332297,  0.2463959 ,\n",
       "        0.90298669,  0.15778451,  0.21066498,  0.46008544,  0.40940253,\n",
       "        0.59130656,  0.35468155,  0.68961582,  0.82417767,  0.86863506,\n",
       "        0.72456024,  0.21208352,  0.13742854,  0.51820844,  0.99389027,\n",
       "        0.99914332,  0.36955158,  0.20596942,  0.04734115,  0.75996686,\n",
       "        0.88242216,  0.28135942,  0.62528381,  0.39158886,  0.05364064,\n",
       "        0.75663556,  0.42535307,  0.22692795,  0.29558988,  0.00641394,\n",
       "        0.77496596,  0.90352771,  0.5591301 ,  0.73173895,  0.30879303,\n",
       "        0.31309352,  0.38291202,  0.78083948,  0.26219854,  0.68630173,\n",
       "        0.42349023,  0.6664921 ,  0.33332986,  0.79607785,  0.82784939,\n",
       "        0.15335808,  0.92469469,  0.69333389,  0.99326018,  0.18132888,\n",
       "        0.81931368,  0.88517205,  0.26424437,  0.20209548,  0.3046505 ,\n",
       "        0.482584  ,  0.21588591,  0.16311778,  0.24316366,  0.63199259,\n",
       "        0.2764802 ,  0.01638392,  0.08751233,  0.04085025,  0.70704033,\n",
       "        0.42835698,  0.77671335,  0.79985354,  0.3881088 ,  0.69041651,\n",
       "        0.19886205,  0.04808109,  0.74269788,  0.65904771,  0.78530981,\n",
       "        0.17322141,  0.29174092,  0.71194419,  0.3686131 ,  0.12182164,\n",
       "        0.64293355,  0.38983767,  0.60417706,  0.23990334,  0.03330035,\n",
       "        0.21178383,  0.28838507,  0.45314856,  0.75048756,  0.71999968,\n",
       "        0.40336601,  0.58175284,  0.74742379,  0.01955722,  0.45160148,\n",
       "        0.89916025,  0.93127485,  0.39505785,  0.35357593,  0.32176729,\n",
       "        0.38727904,  0.02896806,  0.3925201 ,  0.70780609,  0.59835552,\n",
       "        0.11542608,  0.78566536,  0.14581272,  0.43705331,  0.59045337,\n",
       "        0.84860025,  0.43544815,  0.47525771,  0.1879848 ,  0.93243807,\n",
       "        0.63938452,  0.61578602,  0.82222933,  0.37212292,  0.50113382,\n",
       "        0.69517849,  0.78458572,  0.42643537,  0.32846201,  0.30263367,\n",
       "        0.40865282,  0.16814598,  0.95938601,  0.4266024 ,  0.21278716,\n",
       "        0.17779605,  0.79024416,  0.4165875 ,  0.10038458,  0.02808936,\n",
       "        0.64925894,  0.35570797,  0.0658324 ,  0.62895422,  0.28813693,\n",
       "        0.80701606,  0.60036043,  0.95188236,  0.7614138 ,  0.92357236,\n",
       "        0.13814737,  0.85930819,  0.0742295 ,  0.0619998 ,  0.36005904,\n",
       "        0.52539171,  0.43797907,  0.53433163,  0.52162112,  0.80759044,\n",
       "        0.31752074,  0.74697267,  0.96093185,  0.48421048,  0.49232998,\n",
       "        0.1597058 ,  0.52737631,  0.12866453,  0.91223058,  0.68605177,\n",
       "        0.75288934,  0.72307638,  0.24350229,  0.47845348,  0.93747896,\n",
       "        0.62572453,  0.95626952,  0.59169152,  0.2303917 ,  0.09998432,\n",
       "        0.22794794,  0.12339709,  0.48971196,  0.34536659,  0.61168473,\n",
       "        0.40594379,  0.39825667,  0.28645861,  0.41916589,  0.86729701,\n",
       "        0.85278478,  0.98499694,  0.37827859,  0.78652194,  0.69614359,\n",
       "        0.59074384,  0.09437028,  0.89366003,  0.93603789,  0.70345963,\n",
       "        0.76295547,  0.02491284,  0.18995956,  0.11485964,  0.23472406,\n",
       "        0.20493314,  0.02769505,  0.46988701,  0.24128303,  0.75699641,\n",
       "        0.2635775 ,  0.35052184,  0.44248495,  0.67740637,  0.54586656,\n",
       "        0.6758748 ,  0.65625348,  0.37376963,  0.85293235,  0.79099169,\n",
       "        0.36063697,  0.87269815,  0.18141324,  0.17041935,  0.47086413,\n",
       "        0.44846295,  0.30094967,  0.38696048,  0.7970013 ,  0.90080947,\n",
       "        0.52644626,  0.89063834,  0.42745729,  0.34111975,  0.70545131,\n",
       "        0.40912588,  0.94207136,  0.01711411,  0.7326844 ,  0.13257491,\n",
       "        0.7963067 ,  0.76976486,  0.79469261,  0.70313154,  0.2593816 ,\n",
       "        0.85121495,  0.10681898,  0.00578958,  0.89176266,  0.73542629,\n",
       "        0.34068197,  0.30873155,  0.283358  ,  0.98935949,  0.00797188,\n",
       "        0.18589577,  0.75584973,  0.67120215,  0.69368856,  0.73482516,\n",
       "        0.51649836,  0.21564836,  0.07797226,  0.50068566,  0.00467308,\n",
       "        0.16272679,  0.13810513,  0.61240559,  0.41119738,  0.45102693,\n",
       "        0.71082721,  0.72648215,  0.9292805 ,  0.79288133,  0.73463529,\n",
       "        0.43840269,  0.04824413,  0.43314791,  0.52120529,  0.49193928,\n",
       "        0.41890017,  0.09633171,  0.85793837,  0.0745787 ,  0.41105229,\n",
       "        0.38414014,  0.57989988,  0.4996236 ,  0.53005633,  0.11256539,\n",
       "        0.18255669,  0.66946805,  0.48680779,  0.51637234,  0.21562932,\n",
       "        0.39065506,  0.36531876,  0.33968319,  0.66213395,  0.12933935,\n",
       "        0.72317703,  0.81363995,  0.16838226,  0.38909506,  0.738811  ,\n",
       "        0.59444444,  0.11492518,  0.10236897,  0.97253911,  0.96019886,\n",
       "        0.94071857,  0.60616543,  0.28360384,  0.02439279,  0.15211788,\n",
       "        0.8090014 ,  0.33069445,  0.79481677,  0.24482638,  0.38990413,\n",
       "        0.28858795,  0.8455877 ,  0.574275  ,  0.23559103,  0.76375325,\n",
       "        0.91256897,  0.08602574,  0.39987266,  0.43111677,  0.38144526,\n",
       "        0.44078721,  0.2734787 ,  0.83741698,  0.42184133,  0.17170108,\n",
       "        0.41869791,  0.00463795,  0.62932675,  0.80392784,  0.65810172,\n",
       "        0.71141143,  0.29735242,  0.96941836,  0.10139203,  0.31439954,\n",
       "        0.4920028 ,  0.18648723,  0.2601349 ,  0.25748027,  0.10537539,\n",
       "        0.66010464,  0.54931222,  0.16774596,  0.81194669,  0.06537234,\n",
       "        0.39641743,  0.18841877,  0.97394265,  0.3029297 ,  0.15897916,\n",
       "        0.8933094 ,  0.66110799,  0.1763697 ,  0.15277159,  0.50649338,\n",
       "        0.73575168,  0.92986369,  0.03557381,  0.55943661,  0.97036237,\n",
       "        0.99046935,  0.02179673,  0.51558516,  0.6007537 ,  0.34772619,\n",
       "        0.84095097,  0.61530125,  0.14655078,  0.70561967,  0.84086351])"
      ]
     },
     "execution_count": 5,
     "metadata": {},
     "output_type": "execute_result"
    }
   ],
   "source": [
    "# generate 1000 random numbers (between 0 and 1) for each model, representing 1000 observations\n",
    "mod1 = np.random.rand(1000)\n",
    "mod2 = np.random.rand(1000)\n",
    "mod3 = np.random.rand(1000)\n",
    "mod4 = np.random.rand(1000)\n",
    "mod5 = np.random.rand(1000)"
   ]
  },
  {
   "cell_type": "code",
   "execution_count": 3,
   "metadata": {
    "collapsed": true
   },
   "outputs": [],
   "source": [
    "# each model independently predicts 1 (the \"correct response\") if random number was at least 0.3\n",
    "preds1 = np.where(mod1 > 0.3, 1, 0)\n",
    "preds2 = np.where(mod2 > 0.3, 1, 0)\n",
    "preds3 = np.where(mod3 > 0.3, 1, 0)\n",
    "preds4 = np.where(mod4 > 0.3, 1, 0)\n",
    "preds5 = np.where(mod5 > 0.3, 1, 0)"
   ]
  },
  {
   "cell_type": "code",
   "execution_count": 6,
   "metadata": {
    "collapsed": false
   },
   "outputs": [
    {
     "name": "stdout",
     "output_type": "stream",
     "text": [
      "[0 1 1 1 1 0 0 1 1 1 1 1 1 1 1 1 1 0 1 1]\n",
      "[1 1 1 1 1 1 1 0 1 0 0 0 1 1 1 0 1 0 0 0]\n",
      "[1 1 1 1 0 1 1 0 0 1 1 1 1 1 1 1 1 0 1 1]\n",
      "[1 1 0 0 0 0 1 1 0 1 1 1 1 1 1 0 1 1 1 0]\n",
      "[0 0 1 0 0 0 1 0 1 0 0 0 1 1 1 1 1 1 1 1]\n"
     ]
    }
   ],
   "source": [
    "# print the first 20 predictions from each model\n",
    "print preds1[:20]\n",
    "print preds2[:20]\n",
    "print preds3[:20]\n",
    "print preds4[:20]\n",
    "print preds5[:20]"
   ]
  },
  {
   "cell_type": "code",
   "execution_count": 8,
   "metadata": {
    "collapsed": false
   },
   "outputs": [
    {
     "name": "stdout",
     "output_type": "stream",
     "text": [
      "[1 1 1 1 0 0 1 0 1 1 1 1 1 1 1 1 1 0 1 1]\n"
     ]
    }
   ],
   "source": [
    "# add the predictions together\n",
    "sum_of_preds = preds1 + preds2 + preds3 + preds4 + preds5\n",
    "\n",
    "# ensemble predicts 1 (the \"correct response\") if at least 3 models predict 1\n",
    "ensemble_preds = np.where(sum_of_preds >=3 , 1, 0)\n",
    "\n",
    "# print the ensemble's first 20 predictions\n",
    "print ensemble_preds[:20]"
   ]
  },
  {
   "cell_type": "code",
   "execution_count": 9,
   "metadata": {
    "collapsed": false
   },
   "outputs": [
    {
     "data": {
      "text/plain": [
       "0.84099999999999997"
      ]
     },
     "execution_count": 9,
     "metadata": {},
     "output_type": "execute_result"
    }
   ],
   "source": [
    "# how accurate was the ensemble?\n",
    "preds5.mean() # average of 'correct' responses for 1 model\n",
    "\n",
    "ensemble_preds.mean() # average of 'correct' responses for ensemble "
   ]
  },
  {
   "cell_type": "markdown",
   "metadata": {},
   "source": [
    "Amazing, right?\n",
    "\n",
    "**Ensemble learning (or \"ensembling\")** is simply the process of combining several models to solve a prediction problem, with the goal of producing a combined model that is more accurate than any individual model. For **classification** problems, the combination is often done by majority vote. For **regression** problems, the combination is often done by taking an average of the predictions.\n",
    "\n",
    "For ensembling to work well, the individual models must meet two conditions:\n",
    "\n",
    "- Models should be **accurate** (they must outperform random guessing)\n",
    "- Models should be **independent** (their predictions are not correlated with one another)\n",
    "\n",
    "The idea, then, is that if you have a collection of individually imperfect (and independent) models, the \"one-off\" mistakes made by each model are probably not going to be made by the rest of the models, and thus the mistakes will be discarded when averaging the models.\n",
    "\n",
    "It turns out that as you add more models to the voting process, the probability of error decreases. This is known as [Condorcet's Jury Theorem](http://en.wikipedia.org/wiki/Condorcet%27s_jury_theorem), which was developed by a French political scientist in the 18th century.\n",
    "\n",
    "Anyway, we'll see examples of ensembling below."
   ]
  },
  {
   "cell_type": "markdown",
   "metadata": {},
   "source": [
    "## Bootstrapping\n",
    "\n",
    "**Some preliminary terminology:** In statistics, \"bootstrapping\" refers to the process of using \"bootstrap samples\" to quantify the uncertainty of a model. Bootstrap samples are simply random samples with replacement:"
   ]
  },
  {
   "cell_type": "code",
   "execution_count": 10,
   "metadata": {
    "collapsed": false
   },
   "outputs": [
    {
     "data": {
      "text/plain": [
       "array([5, 8, 9, 5, 0, 0, 1, 7, 6, 9])"
      ]
     },
     "execution_count": 10,
     "metadata": {},
     "output_type": "execute_result"
    }
   ],
   "source": [
    "# set a seed for reproducibility\n",
    "np.random.seed(1)\n",
    "\n",
    "# create an array of 0 to 9, then sample 10 times with replacement\n",
    "np.random.choice(a=10, size=10, replace=True)"
   ]
  },
  {
   "cell_type": "markdown",
   "metadata": {},
   "source": [
    "## Bagging\n",
    "\n",
    "On their own, decision trees are not competitive with the best supervised learning methods in terms of **predictive accuracy**. However, they can be used as the basis for more sophisticated methods that have much higher accuracy!\n",
    "\n",
    "One of the main issues with decision trees is **high variance**, meaning that different splits in the training data can lead to very different trees. **\"Bootstrap aggregation\" (aka \"bagging\")** is a general purpose procedure for reducing the variance of a machine learning method, but is particularly useful for decision trees.\n",
    "\n",
    "What is the bagging process (in general)?\n",
    "\n",
    "- Take repeated bootstrap samples (random samples with replacement) from the training data set\n",
    "- Train our method on each bootstrapped training set and make predictions\n",
    "- Average the predictions\n",
    "\n",
    "This increases predictive accuracy by **reducing the variance**, similar to how cross-validation reduces the variance associated with the test set approach (for estimating out-of-sample error) by splitting many times an averaging the results."
   ]
  },
  {
   "cell_type": "markdown",
   "metadata": {},
   "source": [
    "## Applying bagging to decision trees\n",
    "\n",
    "So how exactly can bagging be used with decision trees? Here's how it applies to **regression trees**:\n",
    "\n",
    "- Grow B regression trees using B bootstrapped training sets\n",
    "- Grow each tree deep so that each one has low bias\n",
    "- Every tree makes a numeric prediction, and the predictions are averaged (to reduce the variance)\n",
    "\n",
    "It is applied in a similar fashion to **classification trees**, except that during the prediction stage, the overall prediction is based upon a majority vote of the trees.\n",
    "\n",
    "**What value should be used for B?** Simply use a large enough value that the error seems to have stabilized. (Choosing a value of B that is \"too large\" will generally not lead to overfitting.)"
   ]
  },
  {
   "cell_type": "markdown",
   "metadata": {},
   "source": [
    "## Manually implementing bagged decision trees (with B=3)"
   ]
  },
  {
   "cell_type": "code",
   "execution_count": 8,
   "metadata": {
    "collapsed": false
   },
   "outputs": [
    {
     "data": {
      "text/html": [
       "<div>\n",
       "<table border=\"1\" class=\"dataframe\">\n",
       "  <thead>\n",
       "    <tr style=\"text-align: right;\">\n",
       "      <th></th>\n",
       "      <th>price</th>\n",
       "      <th>year</th>\n",
       "      <th>miles</th>\n",
       "      <th>doors</th>\n",
       "      <th>type</th>\n",
       "    </tr>\n",
       "  </thead>\n",
       "  <tbody>\n",
       "    <tr>\n",
       "      <th>0</th>\n",
       "      <td>22000</td>\n",
       "      <td>2012</td>\n",
       "      <td>13000</td>\n",
       "      <td>2</td>\n",
       "      <td>0</td>\n",
       "    </tr>\n",
       "    <tr>\n",
       "      <th>1</th>\n",
       "      <td>14000</td>\n",
       "      <td>2010</td>\n",
       "      <td>30000</td>\n",
       "      <td>2</td>\n",
       "      <td>0</td>\n",
       "    </tr>\n",
       "    <tr>\n",
       "      <th>2</th>\n",
       "      <td>13000</td>\n",
       "      <td>2010</td>\n",
       "      <td>73500</td>\n",
       "      <td>4</td>\n",
       "      <td>0</td>\n",
       "    </tr>\n",
       "    <tr>\n",
       "      <th>3</th>\n",
       "      <td>9500</td>\n",
       "      <td>2009</td>\n",
       "      <td>78000</td>\n",
       "      <td>4</td>\n",
       "      <td>0</td>\n",
       "    </tr>\n",
       "    <tr>\n",
       "      <th>4</th>\n",
       "      <td>9000</td>\n",
       "      <td>2007</td>\n",
       "      <td>47000</td>\n",
       "      <td>4</td>\n",
       "      <td>0</td>\n",
       "    </tr>\n",
       "    <tr>\n",
       "      <th>5</th>\n",
       "      <td>4000</td>\n",
       "      <td>2006</td>\n",
       "      <td>124000</td>\n",
       "      <td>2</td>\n",
       "      <td>0</td>\n",
       "    </tr>\n",
       "    <tr>\n",
       "      <th>6</th>\n",
       "      <td>3000</td>\n",
       "      <td>2004</td>\n",
       "      <td>177000</td>\n",
       "      <td>4</td>\n",
       "      <td>0</td>\n",
       "    </tr>\n",
       "    <tr>\n",
       "      <th>7</th>\n",
       "      <td>2000</td>\n",
       "      <td>2004</td>\n",
       "      <td>209000</td>\n",
       "      <td>4</td>\n",
       "      <td>1</td>\n",
       "    </tr>\n",
       "    <tr>\n",
       "      <th>8</th>\n",
       "      <td>3000</td>\n",
       "      <td>2003</td>\n",
       "      <td>138000</td>\n",
       "      <td>2</td>\n",
       "      <td>0</td>\n",
       "    </tr>\n",
       "    <tr>\n",
       "      <th>9</th>\n",
       "      <td>1900</td>\n",
       "      <td>2003</td>\n",
       "      <td>160000</td>\n",
       "      <td>4</td>\n",
       "      <td>0</td>\n",
       "    </tr>\n",
       "    <tr>\n",
       "      <th>10</th>\n",
       "      <td>2500</td>\n",
       "      <td>2003</td>\n",
       "      <td>190000</td>\n",
       "      <td>2</td>\n",
       "      <td>1</td>\n",
       "    </tr>\n",
       "    <tr>\n",
       "      <th>11</th>\n",
       "      <td>5000</td>\n",
       "      <td>2001</td>\n",
       "      <td>62000</td>\n",
       "      <td>4</td>\n",
       "      <td>0</td>\n",
       "    </tr>\n",
       "    <tr>\n",
       "      <th>12</th>\n",
       "      <td>1800</td>\n",
       "      <td>1999</td>\n",
       "      <td>163000</td>\n",
       "      <td>2</td>\n",
       "      <td>1</td>\n",
       "    </tr>\n",
       "    <tr>\n",
       "      <th>13</th>\n",
       "      <td>1300</td>\n",
       "      <td>1997</td>\n",
       "      <td>138000</td>\n",
       "      <td>4</td>\n",
       "      <td>0</td>\n",
       "    </tr>\n",
       "  </tbody>\n",
       "</table>\n",
       "</div>"
      ],
      "text/plain": [
       "    price  year   miles  doors  type\n",
       "0   22000  2012   13000      2     0\n",
       "1   14000  2010   30000      2     0\n",
       "2   13000  2010   73500      4     0\n",
       "3    9500  2009   78000      4     0\n",
       "4    9000  2007   47000      4     0\n",
       "5    4000  2006  124000      2     0\n",
       "6    3000  2004  177000      4     0\n",
       "7    2000  2004  209000      4     1\n",
       "8    3000  2003  138000      2     0\n",
       "9    1900  2003  160000      4     0\n",
       "10   2500  2003  190000      2     1\n",
       "11   5000  2001   62000      4     0\n",
       "12   1800  1999  163000      2     1\n",
       "13   1300  1997  138000      4     0"
      ]
     },
     "execution_count": 8,
     "metadata": {},
     "output_type": "execute_result"
    }
   ],
   "source": [
    "import pandas as pd\n",
    "\n",
    "# read in vehicle data\n",
    "vehicles = pd.read_csv('used_vehicles.csv')\n",
    "\n",
    "# convert car to 0 and truck to 1\n",
    "vehicles['type'] = vehicles.type.map({'car':0, 'truck':1})\n",
    "\n",
    "# print out data\n",
    "vehicles"
   ]
  },
  {
   "cell_type": "code",
   "execution_count": 9,
   "metadata": {
    "collapsed": false
   },
   "outputs": [
    {
     "name": "stdout",
     "output_type": "stream",
     "text": [
      "[13  2 12  2  6  1  3 10 11  9  6  1  0  1]\n",
      "[ 9  0  0  9  3 13  4  0  0  4  1  7  3  2]\n",
      "[ 4  7  2  4  8 13  0  7  9  3 12 12  4  6]\n"
     ]
    }
   ],
   "source": [
    "# calculate the number of rows in vehicles\n",
    "n_rows = vehicles.shape[0]\n",
    "\n",
    "# set a seed for reproducibility\n",
    "np.random.seed(123)\n",
    "\n",
    "# create three bootstrap samples (will be used to select rows from the DataFrame)\n",
    "sample1 = np.random.choice(a=n_rows, size=n_rows, replace=True)\n",
    "sample2 = np.random.choice(a=n_rows, size=n_rows, replace=True)\n",
    "sample3 = np.random.choice(a=n_rows, size=n_rows, replace=True)\n",
    "\n",
    "# print samples\n",
    "print sample1\n",
    "print sample2\n",
    "print sample3"
   ]
  },
  {
   "cell_type": "code",
   "execution_count": 10,
   "metadata": {
    "collapsed": false
   },
   "outputs": [
    {
     "name": "stdout",
     "output_type": "stream",
     "text": [
      "    price  year   miles  doors  type\n",
      "13   1300  1997  138000      4     0\n",
      "2   13000  2010   73500      4     0\n",
      "12   1800  1999  163000      2     1\n",
      "2   13000  2010   73500      4     0\n",
      "6    3000  2004  177000      4     0\n",
      "1   14000  2010   30000      2     0\n",
      "3    9500  2009   78000      4     0\n",
      "10   2500  2003  190000      2     1\n",
      "11   5000  2001   62000      4     0\n",
      "9    1900  2003  160000      4     0\n",
      "6    3000  2004  177000      4     0\n",
      "1   14000  2010   30000      2     0\n",
      "0   22000  2012   13000      2     0\n",
      "1   14000  2010   30000      2     0\n"
     ]
    }
   ],
   "source": [
    "# use sample1 to select rows from DataFrame\n",
    "print vehicles.iloc[sample1, :]"
   ]
  },
  {
   "cell_type": "code",
   "execution_count": 11,
   "metadata": {
    "collapsed": false
   },
   "outputs": [
    {
     "data": {
      "text/plain": [
       "DecisionTreeRegressor(criterion='mse', max_depth=None, max_features=None,\n",
       "           max_leaf_nodes=None, min_impurity_split=1e-07,\n",
       "           min_samples_leaf=1, min_samples_split=2,\n",
       "           min_weight_fraction_leaf=0.0, presort=False, random_state=123,\n",
       "           splitter='best')"
      ]
     },
     "execution_count": 11,
     "metadata": {},
     "output_type": "execute_result"
    }
   ],
   "source": [
    "from sklearn.tree import DecisionTreeRegressor\n",
    "\n",
    "# grow one regression tree with each bootstrapped training set\n",
    "treereg1 = DecisionTreeRegressor(random_state=123)\n",
    "treereg1.fit(vehicles.iloc[sample1, 1:], vehicles.iloc[sample1, 0])\n",
    "\n",
    "treereg2 = DecisionTreeRegressor(random_state=123)\n",
    "treereg2.fit(vehicles.iloc[sample2, 1:], vehicles.iloc[sample2, 0])\n",
    "\n",
    "treereg3 = DecisionTreeRegressor(random_state=123)\n",
    "treereg3.fit(vehicles.iloc[sample3, 1:], vehicles.iloc[sample3, 0])"
   ]
  },
  {
   "cell_type": "code",
   "execution_count": 12,
   "metadata": {
    "collapsed": false
   },
   "outputs": [
    {
     "data": {
      "text/html": [
       "<div>\n",
       "<table border=\"1\" class=\"dataframe\">\n",
       "  <thead>\n",
       "    <tr style=\"text-align: right;\">\n",
       "      <th></th>\n",
       "      <th>price</th>\n",
       "      <th>year</th>\n",
       "      <th>miles</th>\n",
       "      <th>doors</th>\n",
       "      <th>type</th>\n",
       "    </tr>\n",
       "  </thead>\n",
       "  <tbody>\n",
       "    <tr>\n",
       "      <th>0</th>\n",
       "      <td>3000</td>\n",
       "      <td>2003</td>\n",
       "      <td>130000</td>\n",
       "      <td>4</td>\n",
       "      <td>1</td>\n",
       "    </tr>\n",
       "    <tr>\n",
       "      <th>1</th>\n",
       "      <td>6000</td>\n",
       "      <td>2005</td>\n",
       "      <td>82500</td>\n",
       "      <td>4</td>\n",
       "      <td>0</td>\n",
       "    </tr>\n",
       "    <tr>\n",
       "      <th>2</th>\n",
       "      <td>12000</td>\n",
       "      <td>2010</td>\n",
       "      <td>60000</td>\n",
       "      <td>2</td>\n",
       "      <td>0</td>\n",
       "    </tr>\n",
       "  </tbody>\n",
       "</table>\n",
       "</div>"
      ],
      "text/plain": [
       "   price  year   miles  doors  type\n",
       "0   3000  2003  130000      4     1\n",
       "1   6000  2005   82500      4     0\n",
       "2  12000  2010   60000      2     0"
      ]
     },
     "execution_count": 12,
     "metadata": {},
     "output_type": "execute_result"
    }
   ],
   "source": [
    "# read in out-of-sample data\n",
    "oos = pd.read_csv('used_vehicles_oos.csv')\n",
    "\n",
    "# convert car to 0 and truck to 1\n",
    "oos['type'] = oos.type.map({'car':0, 'truck':1})\n",
    "\n",
    "# print data\n",
    "oos"
   ]
  },
  {
   "cell_type": "code",
   "execution_count": 13,
   "metadata": {
    "collapsed": false
   },
   "outputs": [
    {
     "name": "stdout",
     "output_type": "stream",
     "text": [
      "[  1300.   5000.  14000.]\n",
      "[  1300.   1300.  13000.]\n",
      "[  3000.   3000.  13000.]\n"
     ]
    }
   ],
   "source": [
    "# select feature columns (every column except for the 0th column)\n",
    "feature_cols = vehicles.columns[1:]\n",
    "\n",
    "# make predictions on out-of-sample data\n",
    "preds1 = treereg1.predict(oos[feature_cols])\n",
    "preds2 = treereg2.predict(oos[feature_cols])\n",
    "preds3 = treereg3.predict(oos[feature_cols])\n",
    "\n",
    "# print predictions\n",
    "print preds1\n",
    "print preds2\n",
    "print preds3"
   ]
  },
  {
   "cell_type": "code",
   "execution_count": 14,
   "metadata": {
    "collapsed": false
   },
   "outputs": [
    {
     "name": "stdout",
     "output_type": "stream",
     "text": [
      "[  1866.66666667   3100.          13333.33333333]\n",
      "[ 3000  6000 12000]\n"
     ]
    }
   ],
   "source": [
    "# average predictions and compare to actual values\n",
    "print (preds1 + preds2 + preds3)/3\n",
    "print oos.price.values"
   ]
  },
  {
   "cell_type": "markdown",
   "metadata": {},
   "source": [
    "## Estimating out-of-sample error\n",
    "\n",
    "Bagged models have a very nice property: **out-of-sample error can be estimated without using the test set approach or cross-validation!**\n",
    "\n",
    "Here's how the out-of-sample estimation process works with bagged trees:\n",
    "\n",
    "- On average, each bagged tree uses about two-thirds of the observations. **For each tree, the remaining observations are called \"out-of-bag\" observations.**\n",
    "- For the first observation in the training data, predict its response using **only** the trees in which that observation was out-of-bag. Average those predictions (for regression) or take a majority vote (for classification).\n",
    "- Repeat this process for every observation in the training data.\n",
    "- Compare all predictions to the actual responses in order to compute a mean squared error or classification error. This is known as the **out-of-bag error**.\n",
    "\n",
    "**When B is sufficiently large, the out-of-bag error is an accurate estimate of out-of-sample error.**"
   ]
  },
  {
   "cell_type": "code",
   "execution_count": 15,
   "metadata": {
    "collapsed": false
   },
   "outputs": [
    {
     "name": "stdout",
     "output_type": "stream",
     "text": [
      "set([0, 1, 2, 3, 4, 5, 6, 7, 8, 9, 10, 11, 12, 13])\n",
      "set([0, 1, 2, 3, 6, 9, 10, 11, 12, 13])\n"
     ]
    }
   ],
   "source": [
    "# set is a data structure used to identify unique elements\n",
    "print set(range(14))\n",
    "\n",
    "# only show the unique elements in sample1\n",
    "print set(sample1)"
   ]
  },
  {
   "cell_type": "code",
   "execution_count": 16,
   "metadata": {
    "collapsed": false
   },
   "outputs": [
    {
     "name": "stdout",
     "output_type": "stream",
     "text": [
      "[4, 5, 7, 8]\n",
      "[5, 6, 8, 10, 11, 12]\n",
      "[1, 5, 10, 11]\n"
     ]
    }
   ],
   "source": [
    "# use the \"set difference\" to identify the out-of-bag observations for each tree\n",
    "print sorted(set(range(14)) - set(sample1))\n",
    "print sorted(set(range(14)) - set(sample2))\n",
    "print sorted(set(range(14)) - set(sample3))"
   ]
  },
  {
   "cell_type": "markdown",
   "metadata": {},
   "source": [
    "Thus, we would predict the response for **observation 4** by using tree 1 (because it is only out-of-bag for tree 1). We would predict the response for **observation 5** by averaging the predictions from trees 1, 2, and 3 (since it is out-of-bag for all three trees). We would repeat this process for all observations, and then calculate the MSE using those predictions."
   ]
  },
  {
   "cell_type": "markdown",
   "metadata": {},
   "source": [
    "## Estimating variable importance\n",
    "\n",
    "Although bagging **increases predictive accuracy**, it **decreases model interpretability** because it's no longer possible to visualize the tree to understand the importance of each variable.\n",
    "\n",
    "However, we can still obtain an overall summary of \"variable importance\" from bagged models:\n",
    "\n",
    "- To compute variable importance for bagged regression trees, we can calculate the **total amount that the mean squared error is decreased due to splits over a given predictor, averaged over all trees**.\n",
    "- A similar process is used for bagged classification trees, except we use the Gini index instead of the mean squared error.\n",
    "\n",
    "(We'll see an example of this below.)"
   ]
  },
  {
   "cell_type": "markdown",
   "metadata": {},
   "source": [
    "## Random Forests\n",
    "\n",
    "Random Forests is a **slight variation of bagged trees** that has even better performance! Here's how it works:\n",
    "\n",
    "- Exactly like bagging, we create an ensemble of decision trees using bootstrapped samples of the training set.\n",
    "- However, when building each tree, **each time a split is considered**, a random sample of m predictors is chosen as split candidates from the full set of p predictors. **The split is only allowed to use one of those m predictors.**\n",
    "\n",
    "Notes:\n",
    "\n",
    "- A new random sample of predictors is chosen for **every single tree at every single split**.\n",
    "- For **classification**, m is typically chosen to be the square root of p. For **regression**, m is typically chosen to be somewhere between p/3 and p.\n",
    "\n",
    "What's the point?\n",
    "\n",
    "- Suppose there is one very strong predictor in the data set. When using bagged trees, most of the trees will use that predictor as the top split, resulting in an ensemble of similar trees that are \"highly correlated\".\n",
    "- Averaging highly correlated quantities does not significantly reduce variance (which is the entire goal of bagging).\n",
    "- **By randomly leaving out candidate predictors from each split, Random Forests \"decorrelates\" the trees**, such that the averaging process can reduce the variance of the resulting model."
   ]
  },
  {
   "cell_type": "code",
   "execution_count": 17,
   "metadata": {
    "collapsed": false
   },
   "outputs": [
    {
     "data": {
      "text/html": [
       "<div>\n",
       "<table border=\"1\" class=\"dataframe\">\n",
       "  <thead>\n",
       "    <tr style=\"text-align: right;\">\n",
       "      <th></th>\n",
       "      <th>PassengerId</th>\n",
       "      <th>Survived</th>\n",
       "      <th>Pclass</th>\n",
       "      <th>Name</th>\n",
       "      <th>Sex</th>\n",
       "      <th>Age</th>\n",
       "      <th>SibSp</th>\n",
       "      <th>Parch</th>\n",
       "      <th>Ticket</th>\n",
       "      <th>Fare</th>\n",
       "      <th>Cabin</th>\n",
       "      <th>Embarked</th>\n",
       "      <th>Embarked_Q</th>\n",
       "      <th>Embarked_S</th>\n",
       "    </tr>\n",
       "  </thead>\n",
       "  <tbody>\n",
       "    <tr>\n",
       "      <th>0</th>\n",
       "      <td>1</td>\n",
       "      <td>0</td>\n",
       "      <td>3</td>\n",
       "      <td>Braund, Mr. Owen Harris</td>\n",
       "      <td>1</td>\n",
       "      <td>22.000000</td>\n",
       "      <td>1</td>\n",
       "      <td>0</td>\n",
       "      <td>A/5 21171</td>\n",
       "      <td>7.2500</td>\n",
       "      <td>NaN</td>\n",
       "      <td>S</td>\n",
       "      <td>0.0</td>\n",
       "      <td>1.0</td>\n",
       "    </tr>\n",
       "    <tr>\n",
       "      <th>1</th>\n",
       "      <td>2</td>\n",
       "      <td>1</td>\n",
       "      <td>1</td>\n",
       "      <td>Cumings, Mrs. John Bradley (Florence Briggs Th...</td>\n",
       "      <td>0</td>\n",
       "      <td>38.000000</td>\n",
       "      <td>1</td>\n",
       "      <td>0</td>\n",
       "      <td>PC 17599</td>\n",
       "      <td>71.2833</td>\n",
       "      <td>C85</td>\n",
       "      <td>C</td>\n",
       "      <td>0.0</td>\n",
       "      <td>0.0</td>\n",
       "    </tr>\n",
       "    <tr>\n",
       "      <th>2</th>\n",
       "      <td>3</td>\n",
       "      <td>1</td>\n",
       "      <td>3</td>\n",
       "      <td>Heikkinen, Miss. Laina</td>\n",
       "      <td>0</td>\n",
       "      <td>26.000000</td>\n",
       "      <td>0</td>\n",
       "      <td>0</td>\n",
       "      <td>STON/O2. 3101282</td>\n",
       "      <td>7.9250</td>\n",
       "      <td>NaN</td>\n",
       "      <td>S</td>\n",
       "      <td>0.0</td>\n",
       "      <td>1.0</td>\n",
       "    </tr>\n",
       "    <tr>\n",
       "      <th>3</th>\n",
       "      <td>4</td>\n",
       "      <td>1</td>\n",
       "      <td>1</td>\n",
       "      <td>Futrelle, Mrs. Jacques Heath (Lily May Peel)</td>\n",
       "      <td>0</td>\n",
       "      <td>35.000000</td>\n",
       "      <td>1</td>\n",
       "      <td>0</td>\n",
       "      <td>113803</td>\n",
       "      <td>53.1000</td>\n",
       "      <td>C123</td>\n",
       "      <td>S</td>\n",
       "      <td>0.0</td>\n",
       "      <td>1.0</td>\n",
       "    </tr>\n",
       "    <tr>\n",
       "      <th>4</th>\n",
       "      <td>5</td>\n",
       "      <td>0</td>\n",
       "      <td>3</td>\n",
       "      <td>Allen, Mr. William Henry</td>\n",
       "      <td>1</td>\n",
       "      <td>35.000000</td>\n",
       "      <td>0</td>\n",
       "      <td>0</td>\n",
       "      <td>373450</td>\n",
       "      <td>8.0500</td>\n",
       "      <td>NaN</td>\n",
       "      <td>S</td>\n",
       "      <td>0.0</td>\n",
       "      <td>1.0</td>\n",
       "    </tr>\n",
       "    <tr>\n",
       "      <th>5</th>\n",
       "      <td>6</td>\n",
       "      <td>0</td>\n",
       "      <td>3</td>\n",
       "      <td>Moran, Mr. James</td>\n",
       "      <td>1</td>\n",
       "      <td>29.699118</td>\n",
       "      <td>0</td>\n",
       "      <td>0</td>\n",
       "      <td>330877</td>\n",
       "      <td>8.4583</td>\n",
       "      <td>NaN</td>\n",
       "      <td>Q</td>\n",
       "      <td>1.0</td>\n",
       "      <td>0.0</td>\n",
       "    </tr>\n",
       "    <tr>\n",
       "      <th>6</th>\n",
       "      <td>7</td>\n",
       "      <td>0</td>\n",
       "      <td>1</td>\n",
       "      <td>McCarthy, Mr. Timothy J</td>\n",
       "      <td>1</td>\n",
       "      <td>54.000000</td>\n",
       "      <td>0</td>\n",
       "      <td>0</td>\n",
       "      <td>17463</td>\n",
       "      <td>51.8625</td>\n",
       "      <td>E46</td>\n",
       "      <td>S</td>\n",
       "      <td>0.0</td>\n",
       "      <td>1.0</td>\n",
       "    </tr>\n",
       "    <tr>\n",
       "      <th>7</th>\n",
       "      <td>8</td>\n",
       "      <td>0</td>\n",
       "      <td>3</td>\n",
       "      <td>Palsson, Master. Gosta Leonard</td>\n",
       "      <td>1</td>\n",
       "      <td>2.000000</td>\n",
       "      <td>3</td>\n",
       "      <td>1</td>\n",
       "      <td>349909</td>\n",
       "      <td>21.0750</td>\n",
       "      <td>NaN</td>\n",
       "      <td>S</td>\n",
       "      <td>0.0</td>\n",
       "      <td>1.0</td>\n",
       "    </tr>\n",
       "    <tr>\n",
       "      <th>8</th>\n",
       "      <td>9</td>\n",
       "      <td>1</td>\n",
       "      <td>3</td>\n",
       "      <td>Johnson, Mrs. Oscar W (Elisabeth Vilhelmina Berg)</td>\n",
       "      <td>0</td>\n",
       "      <td>27.000000</td>\n",
       "      <td>0</td>\n",
       "      <td>2</td>\n",
       "      <td>347742</td>\n",
       "      <td>11.1333</td>\n",
       "      <td>NaN</td>\n",
       "      <td>S</td>\n",
       "      <td>0.0</td>\n",
       "      <td>1.0</td>\n",
       "    </tr>\n",
       "    <tr>\n",
       "      <th>9</th>\n",
       "      <td>10</td>\n",
       "      <td>1</td>\n",
       "      <td>2</td>\n",
       "      <td>Nasser, Mrs. Nicholas (Adele Achem)</td>\n",
       "      <td>0</td>\n",
       "      <td>14.000000</td>\n",
       "      <td>1</td>\n",
       "      <td>0</td>\n",
       "      <td>237736</td>\n",
       "      <td>30.0708</td>\n",
       "      <td>NaN</td>\n",
       "      <td>C</td>\n",
       "      <td>0.0</td>\n",
       "      <td>0.0</td>\n",
       "    </tr>\n",
       "  </tbody>\n",
       "</table>\n",
       "</div>"
      ],
      "text/plain": [
       "   PassengerId  Survived  Pclass  \\\n",
       "0            1         0       3   \n",
       "1            2         1       1   \n",
       "2            3         1       3   \n",
       "3            4         1       1   \n",
       "4            5         0       3   \n",
       "5            6         0       3   \n",
       "6            7         0       1   \n",
       "7            8         0       3   \n",
       "8            9         1       3   \n",
       "9           10         1       2   \n",
       "\n",
       "                                                Name  Sex        Age  SibSp  \\\n",
       "0                            Braund, Mr. Owen Harris    1  22.000000      1   \n",
       "1  Cumings, Mrs. John Bradley (Florence Briggs Th...    0  38.000000      1   \n",
       "2                             Heikkinen, Miss. Laina    0  26.000000      0   \n",
       "3       Futrelle, Mrs. Jacques Heath (Lily May Peel)    0  35.000000      1   \n",
       "4                           Allen, Mr. William Henry    1  35.000000      0   \n",
       "5                                   Moran, Mr. James    1  29.699118      0   \n",
       "6                            McCarthy, Mr. Timothy J    1  54.000000      0   \n",
       "7                     Palsson, Master. Gosta Leonard    1   2.000000      3   \n",
       "8  Johnson, Mrs. Oscar W (Elisabeth Vilhelmina Berg)    0  27.000000      0   \n",
       "9                Nasser, Mrs. Nicholas (Adele Achem)    0  14.000000      1   \n",
       "\n",
       "   Parch            Ticket     Fare Cabin Embarked  Embarked_Q  Embarked_S  \n",
       "0      0         A/5 21171   7.2500   NaN        S         0.0         1.0  \n",
       "1      0          PC 17599  71.2833   C85        C         0.0         0.0  \n",
       "2      0  STON/O2. 3101282   7.9250   NaN        S         0.0         1.0  \n",
       "3      0            113803  53.1000  C123        S         0.0         1.0  \n",
       "4      0            373450   8.0500   NaN        S         0.0         1.0  \n",
       "5      0            330877   8.4583   NaN        Q         1.0         0.0  \n",
       "6      0             17463  51.8625   E46        S         0.0         1.0  \n",
       "7      1            349909  21.0750   NaN        S         0.0         1.0  \n",
       "8      2            347742  11.1333   NaN        S         0.0         1.0  \n",
       "9      0            237736  30.0708   NaN        C         0.0         0.0  "
      ]
     },
     "execution_count": 17,
     "metadata": {},
     "output_type": "execute_result"
    }
   ],
   "source": [
    "# read in the Titanic data\n",
    "titanic = pd.read_csv('titanic.csv')\n",
    "\n",
    "# encode sex feature\n",
    "titanic['Sex'] = titanic.Sex.map({'female':0, 'male':1})\n",
    "\n",
    "# fill in missing values for age\n",
    "titanic.Age.fillna(titanic.Age.mean(), inplace=True)\n",
    "\n",
    "# create three dummy variables, drop the first dummy variable, and store this as a DataFrame\n",
    "embarked_dummies = pd.get_dummies(titanic.Embarked, prefix='Embarked').iloc[:, 1:]\n",
    "\n",
    "# concatenate the two dummy variable columns onto the original DataFrame\n",
    "# note: axis=0 means rows, axis=1 means columns\n",
    "titanic = pd.concat([titanic, embarked_dummies], axis=1)\n",
    "\n",
    "# create a list of feature columns\n",
    "feature_cols = ['Pclass', 'Sex', 'Age', 'Embarked_Q', 'Embarked_S']\n",
    "\n",
    "# print the updated DataFrame\n",
    "titanic.head(10)"
   ]
  },
  {
   "cell_type": "code",
   "execution_count": 18,
   "metadata": {
    "collapsed": false
   },
   "outputs": [
    {
     "data": {
      "text/plain": [
       "RandomForestClassifier(bootstrap=True, class_weight=None, criterion='gini',\n",
       "            max_depth=None, max_features='auto', max_leaf_nodes=None,\n",
       "            min_impurity_split=1e-07, min_samples_leaf=1,\n",
       "            min_samples_split=2, min_weight_fraction_leaf=0.0,\n",
       "            n_estimators=100, n_jobs=1, oob_score=True, random_state=1,\n",
       "            verbose=0, warm_start=False)"
      ]
     },
     "execution_count": 18,
     "metadata": {},
     "output_type": "execute_result"
    }
   ],
   "source": [
    "# import class, instantiate estimator, fit with all data\n",
    "from sklearn.ensemble import RandomForestClassifier\n",
    "rfclf = RandomForestClassifier(n_estimators=100, max_features='auto', oob_score=True, random_state=1)\n",
    "rfclf.fit(titanic[feature_cols], titanic.Survived)"
   ]
  },
  {
   "cell_type": "markdown",
   "metadata": {},
   "source": [
    "These are the most important tuning parameters for Random Forests:\n",
    "\n",
    "- **n_estimators:** more estimators (trees) increases performance but decreases speed\n",
    "- **max_features:** cross-validate to choose an ideal value"
   ]
  },
  {
   "cell_type": "code",
   "execution_count": 19,
   "metadata": {
    "collapsed": false
   },
   "outputs": [
    {
     "data": {
      "text/html": [
       "<div>\n",
       "<table border=\"1\" class=\"dataframe\">\n",
       "  <thead>\n",
       "    <tr style=\"text-align: right;\">\n",
       "      <th></th>\n",
       "      <th>feature</th>\n",
       "      <th>importance</th>\n",
       "    </tr>\n",
       "  </thead>\n",
       "  <tbody>\n",
       "    <tr>\n",
       "      <th>0</th>\n",
       "      <td>Pclass</td>\n",
       "      <td>0.160553</td>\n",
       "    </tr>\n",
       "    <tr>\n",
       "      <th>1</th>\n",
       "      <td>Sex</td>\n",
       "      <td>0.366700</td>\n",
       "    </tr>\n",
       "    <tr>\n",
       "      <th>2</th>\n",
       "      <td>Age</td>\n",
       "      <td>0.434528</td>\n",
       "    </tr>\n",
       "    <tr>\n",
       "      <th>3</th>\n",
       "      <td>Embarked_Q</td>\n",
       "      <td>0.012129</td>\n",
       "    </tr>\n",
       "    <tr>\n",
       "      <th>4</th>\n",
       "      <td>Embarked_S</td>\n",
       "      <td>0.026089</td>\n",
       "    </tr>\n",
       "  </tbody>\n",
       "</table>\n",
       "</div>"
      ],
      "text/plain": [
       "      feature  importance\n",
       "0      Pclass    0.160553\n",
       "1         Sex    0.366700\n",
       "2         Age    0.434528\n",
       "3  Embarked_Q    0.012129\n",
       "4  Embarked_S    0.026089"
      ]
     },
     "execution_count": 19,
     "metadata": {},
     "output_type": "execute_result"
    }
   ],
   "source": [
    "# compute the feature importances\n",
    "pd.DataFrame({'feature':feature_cols, 'importance':rfclf.feature_importances_})"
   ]
  },
  {
   "cell_type": "code",
   "execution_count": 20,
   "metadata": {
    "collapsed": false
   },
   "outputs": [
    {
     "data": {
      "text/plain": [
       "0.80022446689113358"
      ]
     },
     "execution_count": 20,
     "metadata": {},
     "output_type": "execute_result"
    }
   ],
   "source": [
    "# compute the out-of-bag classification accuracy\n",
    "rfclf.oob_score_"
   ]
  },
  {
   "cell_type": "markdown",
   "metadata": {},
   "source": [
    "## More Random Forest"
   ]
  },
  {
   "cell_type": "markdown",
   "metadata": {},
   "source": [
    "Read the following recent post on the Yhat blog which talks about Random forest. Try running the code here as well\n",
    "http://blog.yhat.com/posts/python-random-forest.html"
   ]
  },
  {
   "cell_type": "markdown",
   "metadata": {},
   "source": [
    "## Boosting\n",
    "\n",
    "To go over Extreme Gradient Boosting (XGBOOST) have a look at the following kaggle script\n",
    "\n",
    "[Understanding XGBOOST on the Oto Dataset](https://www.kaggle.com/tqchen/otto-group-product-classification-challenge/understanding-xgboost-model-on-otto-data/notebook)\n",
    "\n",
    "Or try installing yourself [from github ](https://github.com/dmlc/xgboost/blob/master/doc/build.md)\n",
    "\n",
    "\n"
   ]
  },
  {
   "cell_type": "markdown",
   "metadata": {},
   "source": [
    "## Wrapping up ensembling\n",
    "\n",
    "Ensembling is incredibly popular, when the **primary goal is predictive accuracy**. For example, the team that eventually won the $1 million [Netflix Prize](http://en.wikipedia.org/wiki/Netflix_Prize) used an [ensemble of 107 models](http://www2.research.att.com/~volinsky/papers/chance.pdf) early on in the competition.\n",
    "\n",
    "There was a recent paper in the Journal of Machine Learning Research titled \"[Do We Need Hundreds of Classifiers to Solve Real World Classification Problems?](http://jmlr.csail.mit.edu/papers/volume15/delgado14a/delgado14a.pdf)\" (**Spoiler alert:** Random Forests did very well.) In the [comments about the paper](https://news.ycombinator.com/item?id=8719723) on Hacker News, Ben Hamner (Kaggle's chief scientist) said the following:\n",
    "\n",
    "> This is consistent with our experience running hundreds of Kaggle competitions: for most classification problems, some variation on ensembled decision trees (random forests, gradient boosted machines, etc.) performs the best. This is typically in conjunction with clever data processing, feature selection, and internal validation.\n",
    "\n",
    "> One key exception is where the data is richly and hierarchically structured. Text, speech, and visual data falls under this category. In many cases here, variations of neural networks (deep neural nets/CNN's/RNN's/etc.) provide very dramatic improvements.\n",
    "\n",
    "But as you can imagine, ensembling may not often be practical in a real-time environment.\n",
    "\n",
    "**You can also build your own ensembles:** just build a variety of models and average them together! Here are some strategies for building independent models:\n",
    "\n",
    "- using different models\n",
    "- choosing different combinations of features\n",
    "- changing the tuning parameters"
   ]
  },
  {
   "cell_type": "markdown",
   "metadata": {},
   "source": [
    "## Resources\n",
    "\n",
    "- scikit-learn documentation: [Ensemble Methods](http://scikit-learn.org/stable/modules/ensemble.html)\n",
    "- Quora: [How do random forests work in layman's terms?](http://www.quora.com/How-do-random-forests-work-in-laymans-terms/answer/Edwin-Chen-1)"
   ]
  },
  {
   "cell_type": "code",
   "execution_count": null,
   "metadata": {
    "collapsed": true
   },
   "outputs": [],
   "source": []
  }
 ],
 "metadata": {
  "anaconda-cloud": {},
  "kernelspec": {
   "display_name": "Python [default]",
   "language": "python",
   "name": "python2"
  },
  "language_info": {
   "codemirror_mode": {
    "name": "ipython",
    "version": 2
   },
   "file_extension": ".py",
   "mimetype": "text/x-python",
   "name": "python",
   "nbconvert_exporter": "python",
   "pygments_lexer": "ipython2",
   "version": "2.7.12"
  }
 },
 "nbformat": 4,
 "nbformat_minor": 0
}
