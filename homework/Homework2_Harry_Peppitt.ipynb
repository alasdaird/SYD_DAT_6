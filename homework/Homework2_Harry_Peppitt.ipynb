{
 "cells": [
  {
   "cell_type": "markdown",
   "metadata": {},
   "source": [
    "# SYD DAT 6 Homework 2 - Visualisation, Regression and Classification\n",
    "\n",
    "## Homework - Due Monday 14th November 2016\n",
    "\n",
    "All responses should be written in markdown or code in this document.\n",
    "\n",
    "----\n",
    "\n",
    "#### Setup\n",
    "## [DONE]\n",
    "* Signup for an AWS account"
   ]
  },
  {
   "cell_type": "markdown",
   "metadata": {},
   "source": [
    "#### Python Programming Skills\n",
    "* Complete all the labs\n",
    "* Experiment with tutorials 1 & 2 from https://github.com/fonnesbeck/statistical-analysis-python-tutorial\n",
    "* Referring to the prior labs perform some simple analysis of the titanic.csv dataset using python\n",
    "    * Load the data set titanic.csv\n",
    "    * Produce 1 simple visualisation with matplotlib/seaborn/pandas visualisation libraries to show the distribution of ages\n",
    "    * How many male 3rd class passengers survived and how many did not survive\n",
    "    * How many female 1st class passengers survived and how many did not survive\n",
    "    * Produce a table grouped by class that shows:\n",
    "        * Percent survived\n",
    "        * Average fare"
   ]
  },
  {
   "cell_type": "code",
   "execution_count": 53,
   "metadata": {
    "collapsed": false
   },
   "outputs": [
    {
     "data": {
      "text/html": [
       "<div>\n",
       "<table border=\"1\" class=\"dataframe\">\n",
       "  <thead>\n",
       "    <tr style=\"text-align: right;\">\n",
       "      <th></th>\n",
       "      <th>Survived</th>\n",
       "      <th>Pclass</th>\n",
       "      <th>Name</th>\n",
       "      <th>Sex</th>\n",
       "      <th>Age</th>\n",
       "      <th>SibSp</th>\n",
       "      <th>Parch</th>\n",
       "      <th>Ticket</th>\n",
       "      <th>Fare</th>\n",
       "      <th>Cabin</th>\n",
       "      <th>Embarked</th>\n",
       "    </tr>\n",
       "    <tr>\n",
       "      <th>PassengerId</th>\n",
       "      <th></th>\n",
       "      <th></th>\n",
       "      <th></th>\n",
       "      <th></th>\n",
       "      <th></th>\n",
       "      <th></th>\n",
       "      <th></th>\n",
       "      <th></th>\n",
       "      <th></th>\n",
       "      <th></th>\n",
       "      <th></th>\n",
       "    </tr>\n",
       "  </thead>\n",
       "  <tbody>\n",
       "    <tr>\n",
       "      <th>1</th>\n",
       "      <td>0</td>\n",
       "      <td>3</td>\n",
       "      <td>Braund, Mr. Owen Harris</td>\n",
       "      <td>male</td>\n",
       "      <td>22.0</td>\n",
       "      <td>1</td>\n",
       "      <td>0</td>\n",
       "      <td>A/5 21171</td>\n",
       "      <td>7.2500</td>\n",
       "      <td>NaN</td>\n",
       "      <td>S</td>\n",
       "    </tr>\n",
       "    <tr>\n",
       "      <th>2</th>\n",
       "      <td>1</td>\n",
       "      <td>1</td>\n",
       "      <td>Cumings, Mrs. John Bradley (Florence Briggs Th...</td>\n",
       "      <td>female</td>\n",
       "      <td>38.0</td>\n",
       "      <td>1</td>\n",
       "      <td>0</td>\n",
       "      <td>PC 17599</td>\n",
       "      <td>71.2833</td>\n",
       "      <td>C85</td>\n",
       "      <td>C</td>\n",
       "    </tr>\n",
       "    <tr>\n",
       "      <th>3</th>\n",
       "      <td>1</td>\n",
       "      <td>3</td>\n",
       "      <td>Heikkinen, Miss. Laina</td>\n",
       "      <td>female</td>\n",
       "      <td>26.0</td>\n",
       "      <td>0</td>\n",
       "      <td>0</td>\n",
       "      <td>STON/O2. 3101282</td>\n",
       "      <td>7.9250</td>\n",
       "      <td>NaN</td>\n",
       "      <td>S</td>\n",
       "    </tr>\n",
       "    <tr>\n",
       "      <th>4</th>\n",
       "      <td>1</td>\n",
       "      <td>1</td>\n",
       "      <td>Futrelle, Mrs. Jacques Heath (Lily May Peel)</td>\n",
       "      <td>female</td>\n",
       "      <td>35.0</td>\n",
       "      <td>1</td>\n",
       "      <td>0</td>\n",
       "      <td>113803</td>\n",
       "      <td>53.1000</td>\n",
       "      <td>C123</td>\n",
       "      <td>S</td>\n",
       "    </tr>\n",
       "    <tr>\n",
       "      <th>5</th>\n",
       "      <td>0</td>\n",
       "      <td>3</td>\n",
       "      <td>Allen, Mr. William Henry</td>\n",
       "      <td>male</td>\n",
       "      <td>35.0</td>\n",
       "      <td>0</td>\n",
       "      <td>0</td>\n",
       "      <td>373450</td>\n",
       "      <td>8.0500</td>\n",
       "      <td>NaN</td>\n",
       "      <td>S</td>\n",
       "    </tr>\n",
       "  </tbody>\n",
       "</table>\n",
       "</div>"
      ],
      "text/plain": [
       "             Survived  Pclass  \\\n",
       "PassengerId                     \n",
       "1                   0       3   \n",
       "2                   1       1   \n",
       "3                   1       3   \n",
       "4                   1       1   \n",
       "5                   0       3   \n",
       "\n",
       "                                                          Name     Sex   Age  \\\n",
       "PassengerId                                                                    \n",
       "1                                      Braund, Mr. Owen Harris    male  22.0   \n",
       "2            Cumings, Mrs. John Bradley (Florence Briggs Th...  female  38.0   \n",
       "3                                       Heikkinen, Miss. Laina  female  26.0   \n",
       "4                 Futrelle, Mrs. Jacques Heath (Lily May Peel)  female  35.0   \n",
       "5                                     Allen, Mr. William Henry    male  35.0   \n",
       "\n",
       "             SibSp  Parch            Ticket     Fare Cabin Embarked  \n",
       "PassengerId                                                          \n",
       "1                1      0         A/5 21171   7.2500   NaN        S  \n",
       "2                1      0          PC 17599  71.2833   C85        C  \n",
       "3                0      0  STON/O2. 3101282   7.9250   NaN        S  \n",
       "4                1      0            113803  53.1000  C123        S  \n",
       "5                0      0            373450   8.0500   NaN        S  "
      ]
     },
     "execution_count": 53,
     "metadata": {},
     "output_type": "execute_result"
    }
   ],
   "source": [
    "%matplotlib inline\n",
    "\n",
    "import pandas as pd\n",
    "import numpy as np\n",
    "import matplotlib.pyplot as plt\n",
    "from ggplot import *\n",
    "plt.style.use('ggplot')\n",
    "\n",
    "\n",
    "titanic = pd.read_csv('titanic.csv', index_col='PassengerId')\n",
    "titanic.head()"
   ]
  },
  {
   "cell_type": "code",
   "execution_count": 55,
   "metadata": {
    "collapsed": false
   },
   "outputs": [
    {
     "data": {
      "image/png": "[encoded data removed]",
      "text/plain": [
       "<matplotlib.figure.Figure at 0x11b51cf10>"
      ]
     },
     "metadata": {},
     "output_type": "display_data"
    },
    {
     "data": {
      "text/plain": [
       "<ggplot: (297087045)>"
      ]
     },
     "execution_count": 55,
     "metadata": {},
     "output_type": "execute_result"
    }
   ],
   "source": [
    "#titanic.Age.value_counts().plot(kind='bar', title='Titanic Age Distribution')\n",
    "#plt.xlabel('Age')\n",
    "#plt.ylabel('Count')\n",
    "ggplot(titanic, aes(x='Age')) + geom_density()"
   ]
  },
  {
   "cell_type": "code",
   "execution_count": 43,
   "metadata": {
    "collapsed": false
   },
   "outputs": [
    {
     "data": {
      "text/plain": [
       "Age\n",
       "(0, 5]       44\n",
       "(5, 10]      20\n",
       "(10, 15]     19\n",
       "(15, 20]     96\n",
       "(20, 25]    122\n",
       "(25, 30]    108\n",
       "(30, 35]     88\n",
       "(35, 40]     67\n",
       "(40, 45]     47\n",
       "(45, 50]     39\n",
       "(50, 55]     24\n",
       "(55, 60]     18\n",
       "(60, 65]     14\n",
       "(65, 70]      3\n",
       "(70, 75]      4\n",
       "(75, 80]      1\n",
       "Name: Age, dtype: int64"
      ]
     },
     "execution_count": 43,
     "metadata": {},
     "output_type": "execute_result"
    }
   ],
   "source": [
    "#Let's try a table\n",
    "titanic.Age.value_counts()\n",
    "#Table too big, grouped into age groups\n",
    "titanic.Age.groupby(pd.cut(titanic[\"Age\"], np.arange(0, 1.0+80, 5))).count()"
   ]
  },
  {
   "cell_type": "code",
   "execution_count": 60,
   "metadata": {
    "collapsed": false
   },
   "outputs": [
    {
     "data": {
      "text/plain": [
       "0    300\n",
       "1     47\n",
       "Name: Survived, dtype: int64"
      ]
     },
     "execution_count": 60,
     "metadata": {},
     "output_type": "execute_result"
    }
   ],
   "source": [
    "#How many male 3rd class passengers survived and how many did not survive\n",
    "titanic[(titanic.Sex == 'male') & (titanic.Pclass == 3)].Survived.value_counts()"
   ]
  },
  {
   "cell_type": "code",
   "execution_count": 61,
   "metadata": {
    "collapsed": false
   },
   "outputs": [
    {
     "data": {
      "text/plain": [
       "1    91\n",
       "0     3\n",
       "Name: Survived, dtype: int64"
      ]
     },
     "execution_count": 61,
     "metadata": {},
     "output_type": "execute_result"
    }
   ],
   "source": [
    "#How many female 1st class passengers survived and how many did not survive\n",
    "titanic[(titanic.Sex == 'female') & (titanic.Pclass == 1)].Survived.value_counts()"
   ]
  },
  {
   "cell_type": "code",
   "execution_count": 81,
   "metadata": {
    "collapsed": false
   },
   "outputs": [
    {
     "data": {
      "text/plain": [
       "Pclass\n",
       "1    0.629630\n",
       "2    0.472826\n",
       "3    0.242363\n",
       "Name: Survived, dtype: float64"
      ]
     },
     "execution_count": 81,
     "metadata": {},
     "output_type": "execute_result"
    }
   ],
   "source": [
    "#Produce a table grouped by class that shows: Percent survived & Average fare\n",
    "titanic.groupby(['Pclass'])['Fare'].mean()\n",
    "titanic.groupby(['Pclass'])['Survived'].mean()"
   ]
  },
  {
   "cell_type": "markdown",
   "metadata": {},
   "source": [
    "#### Machine Learning Theory\n",
    "## [Done]\n",
    "* Reading that was required during the course from Introduction to Statistical Learning\n",
    "    * Chapter 3 - Linear Regression\n",
    "    * Chapter 4 - 4.1, 4.2, 4.3  - Classification\n",
    "    * Chapter 5 - 5.1 - Cross Validation\n",
    "    * Chapter 6 - 6.1, 6.2, 6.3 - Dimensionality\n",
    "* Complete all the labs\n",
    "* Describe what technique you might apply to predict whether a person has AIDs. What could you do to reduce the probability that the solution mistakenly predicts that a person does not have AIDs, when in fact they do?"
   ]
  },
  {
   "cell_type": "markdown",
   "metadata": {},
   "source": [
    "You could apply a Logistic Regression analysis to classify whether someone has aids, using cross validation methods to make sure the the model is accurate. "
   ]
  },
  {
   "cell_type": "markdown",
   "metadata": {
    "collapsed": true
   },
   "source": [
    "#### Visualisation\n",
    "## [DONE]\n",
    "* Drawing from Keegan from Optus' talk, your own experience or any other source, describe what you believe are the 3 most important considerations in producing a visualisation.\n",
    "* Name 3 types of plots you can think of to address each of the following situations:\n",
    "    * Show the distribution of a single variable\n",
    "    * Show a relationship between two variables\n",
    "    * Compare two or more variables"
   ]
  },
  {
   "cell_type": "markdown",
   "metadata": {},
   "source": [
    "### 3 Important Visualisation Considerations\n",
    "* Knowing your audience is key, how little or how much will they understand - basic or complicated visuals,\n",
    "* What questions are you trying to answer with your visualisation, and working out what kind of visualisation will get the message accross the best,\n",
    "* What does the data say vs what do you want it to say and how to portray that.\n",
    "### Plots\n",
    "##### Show the distribution of a single variable\n",
    "* Bar Graph\n",
    "* Histogram\n",
    "* Box plot\n",
    "##### Show a relationship between two variables\n",
    "* Scatter plot\n",
    "* Bar graph\n",
    "* Side-by-side box plots\n",
    "##### Compare two or more variables\n",
    "* Scatter Plot\n",
    "* Side-by-side box plots\n",
    "* Overlay plots"
   ]
  },
  {
   "cell_type": "markdown",
   "metadata": {},
   "source": [
    "#### Communication\n",
    "## [Done]\n",
    "* Imagine you are trying to explain to someone what Linear Regression is - but they have no programming/maths experience? How would you explain the overall process, what R-Squared means and how to interpret the coefficients?\n",
    "* Read the paper [Useful things to know about machine learning]( https://homes.cs.washington.edu/~pedrod/papers/cacm12.pdf). \n",
    "    * What have we covered so far from this paper? \n",
    "    * Explain sections 6-13 in your own words"
   ]
  },
  {
   "cell_type": "markdown",
   "metadata": {},
   "source": [
    "### Linear Regression\n",
    "\"So you have a value that you want to predict, and you have a lot of data and information on what will inform that value. For example, you want to see if you can predict the price of a house based on number of bedrooms, bathrooms, and if it has a pool etc. We assume the price of the house is influenced by these characteristics and we want to try and define a linear relationship between these and the price. \n",
    "You can then measure how close the data is to this line with a value called \"R-Squared\". The higher R-Squared value is to 100%, the better the model fits the data.\n",
    "Once you've done this, you can have a look at the data and see how much influence the variables (bed, bath, pool) have on the price of the house.\"\n",
    "\n",
    "### Useful things to know about machine learning\n",
    "* Covered so far:\n",
    "    * Train/Test and Cross-validation\n",
    "    * Overfitting\n",
    "    * Bias and Variance\n",
    "    * Dimentionality\n",
    "    * Learn many models, not just one\n",
    "    * Bagging\n",
    "    * Boosting\n",
    "* Sections 6-13\n",
    "    * Section 6 describes the 'curse of dimentionality', namely how the more dimentions you add to a problem, the larger the resulting variations and the harder it becomes to design a good classifier.\n",
    "    * Section 7 outlines use cases for theoretical guarantees, and that they should be taken with a grain of salt (because they are theoretical, and may not actually be the best application for the situation). \"Just because a learner has a theoretical justification and works in practice, doesn't mean the former is the reason for the latter.\"\n",
    "    * Section 8 reveals that the machine learning part actually takes up very little time. It's process of gathering data, integrating it, cleaning it, pre-processing it and trial and error that takes up a lot of the time. It is not simply a set and forget process, you also have to run the learner, analyse results, modify the data/learner and repeat.\n",
    "    * Section 9 \"A dumb algorithm with lots and lots of data beats a clever one with modest amounts of it.\" Machine learning is about letting the data do the heavy lifting, not the person.\n",
    "    * Section 10 is about the perks of learning more than one model. Even better, if you can use combinations of models to improve processes, you can generally optimize results even futher.\n",
    "    * Section 11 states that \"simplicity does not imply accuracy\" and that generally, simple hypothesis codes are more accurate because the prefrences are accurate, not the 'simple' hypothesis.\n",
    "    * Section 12 says that just because a learner can represent functions effectively, that doesn't mean that it can learn them.\n",
    "    * Section 13 implies that just because data correlates, doesn't mean it is causal, though it may be a good indicator that it could be and warrants further investigation. "
   ]
  },
  {
   "cell_type": "markdown",
   "metadata": {},
   "source": [
    "#### Course Project\n",
    "* Set up a new github repository for your project.\n",
    "    * If there is any sensitive data or material in your project, make it a private repository - but check with us first. For most of you this will not be necessary. Generally you would exclude data from git tracking - this can be achieved with the .gitignore file. Don't worry about excluding files from git if you are using smaller, public datasets.\n",
    "    * Once you have established the github repository for your project, share the URL for the repository with Alasdair and Louis via Slack. If it is a private repository you will additionally need to give Alasdair and Louis permissions. \n",
    "* Load the data you have gathered for your project into Python and run some summary statistics over the data. Are there any interesting features of the data that jump out? (Include the code)\n",
    "* Draft/Sketch on paper (or wireframe) some data visualisations that would be useful for you to explore your data set\n",
    "* Are there any regression or clustering techniques you could use in your project? Write them down (with the corresponding scikit learn function) and what you think you would get out of it."
   ]
  }
 ],
 "metadata": {
  "anaconda-cloud": {},
  "kernelspec": {
   "display_name": "Python [default]",
   "language": "python",
   "name": "python2"
  },
  "language_info": {
   "codemirror_mode": {
    "name": "ipython",
    "version": 2
   },
   "file_extension": ".py",
   "mimetype": "text/x-python",
   "name": "python",
   "nbconvert_exporter": "python",
   "pygments_lexer": "ipython2",
   "version": "2.7.12"
  }
 },
 "nbformat": 4,
 "nbformat_minor": 0
}
