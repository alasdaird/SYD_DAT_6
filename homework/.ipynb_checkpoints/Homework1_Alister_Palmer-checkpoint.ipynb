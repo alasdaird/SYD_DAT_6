{
 "cells": [
  {
   "cell_type": "markdown",
   "metadata": {},
   "source": [
    "# SYD DAT 6 Lab 1 - Git and Markdown\n",
    "\n",
    "## Homework:\n",
    "\n",
    "#### Setup\n",
    "* Resolve any installation issues before next class.\n",
    "* Make sure you have a github profile and created a repo called \"SYD_DAT_6\"\n",
    "* Clone the class repo (this one!)\n",
    "* Review this [code](../labs/Week 1/00_python_refresher.py) for a recap of some Python basics.\n",
    "\n",
    "#### Communication\n",
    "* Read [Analyzing the Analyzers](http://cdn.oreillystatic.com/oreilly/radarreport/0636920029014/Analyzing_the_Analyzers.pdf) for a useful look at the different types of data scientists. Write down 5 key points you took away from the article\n",
    "* Read about some [Markdown Techniques](http://daringfireball.net/projects/markdown/syntax)\n",
    "* Write a summary of 2 chapters of [The Data Science Handbook](http://www.thedatasciencehandbook.com/) in Markdown and submit a pull request in the Lab Directory\n",
    "\n",
    "#### Programming\n",
    "* Complete the lab from class and the additional Exercise below\n",
    "\n",
    "#### Course Project\n",
    "* Come up with 5 different ideas for your course project. For each one list:\n",
    "  * Overview of your idea\n",
    "  * What data you will use\n",
    "  * What the outcome is that you are trying to achieve\n",
    "  * Any ideas of modelling techniques it may involve\n",
    "\n",
    "**Instructions: copy this file and append your name in the filename, e.g. Homework1_alasdair_douglas.ipynb.\n",
    "Then commit this in your local repository, push it to your github account and create a pull request so I can see your work. Remeber if you get stuck to look at the slides going over Fork, Clone, Commit, Push and Pull request.**"
   ]
  },
  {
   "cell_type": "markdown",
   "metadata": {},
   "source": [
    "## Analyzing the Analyzers: 5 Key Points\n",
    "* As data science is still a rapidly evolving and broad field, there is a lot potential for miscommunication and unrealistic expectations.\n",
    "\n",
    "* The cluster analysis demonstrated the diversity of skills and goals among data scientists, but several of the Self-ID Groups exhibited ’T-shaped’ qualities.\n",
    "\n",
    "* Despite the term ‘big data’ being very prominent, the petabyte scale work appears to be done by a relatively small number of data scientists.\n",
    "\n",
    "* The authors effectively highlight some of the limitations of their attempts to define data scientists and by extension, potentially difficulties within data science.\n",
    "\n",
    "* The authors concluded that a broad set up skills will likely benefit all data scientists and wider adoption of organisational frameworks to foster data scientists in the future.\n"
   ]
  },
  {
   "cell_type": "markdown",
   "metadata": {},
   "source": [
    "## The Data Science Handbook: Summaries of Chapter 1 & 2\n",
    "\n",
    "### Chapter 1: DJ Patil\n",
    "* DJ stresses the importance of curiosity and enthusiasm and working on simple things, as they tend to become hard anyway.\n",
    "* He thinks that no matter what you are working on to try and be around the best people of that field to accelerate your own development and young data scientists can add value by offering a different perspective.\n",
    "\n",
    "### Chapter 2: Hilary Mason\n",
    "* Hilary highlighted the diversity of application for data science, specifically in the range of industry that is prominent in New York City. Also, that it is yet a relatively young field of expertise, but expected to expand rapidly. \n",
    "* She explains that sometimes data collection is an unintended side effect of another project and it can be important to harness this information, but warns that it may be hard to obtain in large corporates.\n",
    "* Similar to DJ, she emphasises that it is important to be working on projects where you can learn things to progress your skills.\n",
    "* Finally, she encourages engaging in and sharing personal projects to demonstrate your abilities."
   ]
  },
  {
   "cell_type": "markdown",
   "metadata": {},
   "source": [
    "## FINAL PROJECT IDEAS\n",
    "\n",
    "#### 1) POP MUSIC LYRICS\n",
    "* IDEA: Analyze the lyrical data of pop music (ie number of unique words, key words and phrases) to show the complexity of lyrics. Use the lyrical data for the top 100 songs of a given year to generate a single song with lyrics representing that timeframe.\n",
    "* DATA SOURCE: Genius API lyrics database (https://docs.genius.com/#/getting-started-h1)\n",
    "* TARGET OUTCOME: Identify trends in complexity of lyrics and other lyrical trends in pop music over time and cross reference google trends data to chart the emergence of key words and phrases in pop culture.\n",
    "* MODELLING: Use Markov chains or n-gram next word prediction to generate song lyrics based on sample lyrics data.\n",
    "\n",
    "#### 2) TRANSALATE JAPANESE EARTHQUAKE & TSUNAMI ALERTS\n",
    "* IDEA: Monitor reputable Japanese language earthquake and tsunami alert twitter accounts and output a cross referenced and summarized English language alert and approximate translation of the unique Japanese earthquake intensity scale to magnitude in realtime. (NB: I speak fluent Japanese)\n",
    "* DATA SOURCE: Prominent earthquake alert twitter accounts such as  @earthquake_jp & @tenkijp_jishin\n",
    "* TARGET OUTCOME: To provide realtime meaningful natural disaster alerts non-Japanese speakers in Japan.\n",
    "* MODELLING: Using deep neural network techniques to learn word embeddings and historical earthquake data to translate Japanese intensity scale into magnitude to approximate earthquake strength.\n",
    "\n",
    "#### 3) STOCK MARKET HYPE INDICATOR\n",
    "* IDEA: Approximate the level of hype around specific stocks based on twitter mentions over a single day (estimate whether mention is positive or negative) and the stock market movement on the same day. Could be specifically used for the 24 hour periods before and after a comapany's results announcement and decide whether the results beat or missed the market's expectations.\n",
    "* DATA SOURCE: Australian Securities Exchange and Twitter. Alternatively New York Stock Exchange data if Australian data is not sufficent.\n",
    "* TARGET OUTCOME: Estimate the level of hype (overhypd/underhyped) around companies relative to actual performance and guage market sentiment on specific companies.\n",
    "* MODELLING: Use the Natural Language Toolkit to apply binary classification to perform sentiment analysis and relate to stock performance or company results relative to market expectation.\n",
    "\n",
    "#### 4) JAPANESE COMICS RECOMMENDER ENGINE\n",
    "* IDEA:  Ask the user to identify comics they have read from a presented list and indicate like/disliketo provide them with recommendations for other Japanese comics.\n",
    "* DATA SOURCE: Amazon Product Advertising API (https://python-amazon-product-api.readthedocs.io/en/latest/)\n",
    "* TARGET OUTCOME: To provide the user with meaningful recommendations for Japanese comics.\n",
    "* MODELLING: Use content-based filtering to create a recommender engine.\n",
    "\n",
    "#### 5) CULTURAL INFLUENCE OF HIT MOVIES\n",
    "* IDEA: Measure the cultural influence of hit movies by analysing the number/quality/budget/financial success of 'copycat' movies that are released in the years following the initial hit movie (EG Twilight and subsequent surge in vampire movies)\n",
    "* DATA SOURCE: Movielens dataset\n",
    "* TARGET OUTCOME: Compare the influence of hit movies quantitavely.\n",
    "* MODELLING: Refine model based on available inputs."
   ]
  },
  {
   "cell_type": "markdown",
   "metadata": {},
   "source": [
    "## Exercise Four - Movie Lens Data"
   ]
  },
  {
   "cell_type": "code",
   "execution_count": 18,
   "metadata": {
    "collapsed": true
   },
   "outputs": [],
   "source": [
    "import pandas as pd"
   ]
  },
  {
   "cell_type": "code",
   "execution_count": 19,
   "metadata": {
    "collapsed": false
   },
   "outputs": [],
   "source": [
    "#Retreive data from my repository forked from SYD_DAT_6 Master\n",
    "user_cols = ['user_id', 'age', 'gender', 'occupation', 'zip_code']\n",
    "users = pd.read_table('https://raw.githubusercontent.com/furoape/SYD_DAT_6/master/labs/Week%201/u.user', sep='|', header=None, names=user_cols, index_col='user_id', dtype={'zip_code':str})"
   ]
  },
  {
   "cell_type": "code",
   "execution_count": 20,
   "metadata": {
    "collapsed": false
   },
   "outputs": [
    {
     "data": {
      "text/plain": [
       "student          196\n",
       "other            105\n",
       "educator          95\n",
       "administrator     79\n",
       "engineer          67\n",
       "programmer        66\n",
       "librarian         51\n",
       "writer            45\n",
       "executive         32\n",
       "scientist         31\n",
       "artist            28\n",
       "technician        27\n",
       "marketing         26\n",
       "entertainment     18\n",
       "healthcare        16\n",
       "retired           14\n",
       "salesman          12\n",
       "lawyer            12\n",
       "none               9\n",
       "homemaker          7\n",
       "doctor             7\n",
       "Name: occupation, dtype: int64"
      ]
     },
     "execution_count": 20,
     "metadata": {},
     "output_type": "execute_result"
    }
   ],
   "source": [
    "# for each occupation in 'users', count the number of occurrences\n",
    "users.occupation.value_counts()"
   ]
  },
  {
   "cell_type": "code",
   "execution_count": 23,
   "metadata": {
    "collapsed": false
   },
   "outputs": [
    {
     "data": {
      "text/plain": [
       "occupation\n",
       "administrator    38.746835\n",
       "artist           31.392857\n",
       "doctor           43.571429\n",
       "educator         42.010526\n",
       "engineer         36.388060\n",
       "entertainment    29.222222\n",
       "executive        38.718750\n",
       "healthcare       41.562500\n",
       "homemaker        32.571429\n",
       "lawyer           36.750000\n",
       "librarian        40.000000\n",
       "marketing        37.615385\n",
       "none             26.555556\n",
       "other            34.523810\n",
       "programmer       33.121212\n",
       "retired          63.071429\n",
       "salesman         35.666667\n",
       "scientist        35.548387\n",
       "student          22.081633\n",
       "technician       33.148148\n",
       "writer           36.311111\n",
       "Name: age, dtype: float64"
      ]
     },
     "execution_count": 23,
     "metadata": {},
     "output_type": "execute_result"
    }
   ],
   "source": [
    "# for each occupation, calculate the mean age\n",
    "users.groupby('occupation').age.mean()"
   ]
  },
  {
   "cell_type": "code",
   "execution_count": 35,
   "metadata": {
    "collapsed": false
   },
   "outputs": [
    {
     "data": {
      "text/plain": [
       "occupation\n",
       "administrator    21\n",
       "artist           19\n",
       "doctor           28\n",
       "educator         23\n",
       "engineer         22\n",
       "entertainment    15\n",
       "executive        22\n",
       "healthcare       22\n",
       "homemaker        20\n",
       "lawyer           21\n",
       "librarian        23\n",
       "marketing        24\n",
       "none             11\n",
       "other            13\n",
       "programmer       20\n",
       "retired          51\n",
       "salesman         18\n",
       "scientist        23\n",
       "student           7\n",
       "technician       21\n",
       "writer           18\n",
       "Name: age, dtype: int64"
      ]
     },
     "execution_count": 35,
     "metadata": {},
     "output_type": "execute_result"
    }
   ],
   "source": [
    "# for each occupation, calculate the minimum and maximum ages\n",
    "users.groupby('occupation').age.max()\n",
    "users.groupby('occupation').age.min()\n",
    "# Alternatively, both values are included in .describe()\n",
    "#users.groupby('occupation').age.describe()"
   ]
  },
  {
   "cell_type": "code",
   "execution_count": 42,
   "metadata": {
    "collapsed": false
   },
   "outputs": [
    {
     "data": {
      "text/plain": [
       "occupation     gender\n",
       "administrator  F         40.638889\n",
       "               M         37.162791\n",
       "artist         F         30.307692\n",
       "               M         32.333333\n",
       "doctor         M         43.571429\n",
       "educator       F         39.115385\n",
       "               M         43.101449\n",
       "engineer       F         29.500000\n",
       "               M         36.600000\n",
       "entertainment  F         31.000000\n",
       "               M         29.000000\n",
       "executive      F         44.000000\n",
       "               M         38.172414\n",
       "healthcare     F         39.818182\n",
       "               M         45.400000\n",
       "homemaker      F         34.166667\n",
       "               M         23.000000\n",
       "lawyer         F         39.500000\n",
       "               M         36.200000\n",
       "librarian      F         40.000000\n",
       "               M         40.000000\n",
       "marketing      F         37.200000\n",
       "               M         37.875000\n",
       "none           F         36.500000\n",
       "               M         18.600000\n",
       "other          F         35.472222\n",
       "               M         34.028986\n",
       "programmer     F         32.166667\n",
       "               M         33.216667\n",
       "retired        F         70.000000\n",
       "               M         62.538462\n",
       "salesman       F         27.000000\n",
       "               M         38.555556\n",
       "scientist      F         28.333333\n",
       "               M         36.321429\n",
       "student        F         20.750000\n",
       "               M         22.669118\n",
       "technician     F         38.000000\n",
       "               M         32.961538\n",
       "writer         F         37.631579\n",
       "               M         35.346154\n",
       "Name: age, dtype: float64"
      ]
     },
     "execution_count": 42,
     "metadata": {},
     "output_type": "execute_result"
    }
   ],
   "source": [
    "# for each combination of occupation and gender, calculate the mean age\n",
    "users.groupby(['occupation', 'gender']).age.mean()"
   ]
  },
  {
   "cell_type": "code",
   "execution_count": 43,
   "metadata": {
    "collapsed": false
   },
   "outputs": [
    {
     "data": {
      "text/html": [
       "<div>\n",
       "<table border=\"1\" class=\"dataframe\">\n",
       "  <thead>\n",
       "    <tr style=\"text-align: right;\">\n",
       "      <th></th>\n",
       "      <th>age</th>\n",
       "      <th>gender</th>\n",
       "      <th>occupation</th>\n",
       "      <th>zip_code</th>\n",
       "    </tr>\n",
       "    <tr>\n",
       "      <th>user_id</th>\n",
       "      <th></th>\n",
       "      <th></th>\n",
       "      <th></th>\n",
       "      <th></th>\n",
       "    </tr>\n",
       "  </thead>\n",
       "  <tbody>\n",
       "    <tr>\n",
       "      <th>272</th>\n",
       "      <td>33</td>\n",
       "      <td>M</td>\n",
       "      <td>scientist</td>\n",
       "      <td>53706</td>\n",
       "    </tr>\n",
       "    <tr>\n",
       "      <th>616</th>\n",
       "      <td>55</td>\n",
       "      <td>M</td>\n",
       "      <td>scientist</td>\n",
       "      <td>50613</td>\n",
       "    </tr>\n",
       "    <tr>\n",
       "      <th>545</th>\n",
       "      <td>27</td>\n",
       "      <td>M</td>\n",
       "      <td>technician</td>\n",
       "      <td>08052</td>\n",
       "    </tr>\n",
       "    <tr>\n",
       "      <th>668</th>\n",
       "      <td>29</td>\n",
       "      <td>F</td>\n",
       "      <td>writer</td>\n",
       "      <td>10016</td>\n",
       "    </tr>\n",
       "    <tr>\n",
       "      <th>818</th>\n",
       "      <td>28</td>\n",
       "      <td>M</td>\n",
       "      <td>librarian</td>\n",
       "      <td>27514</td>\n",
       "    </tr>\n",
       "    <tr>\n",
       "      <th>663</th>\n",
       "      <td>26</td>\n",
       "      <td>M</td>\n",
       "      <td>other</td>\n",
       "      <td>19341</td>\n",
       "    </tr>\n",
       "    <tr>\n",
       "      <th>885</th>\n",
       "      <td>30</td>\n",
       "      <td>F</td>\n",
       "      <td>other</td>\n",
       "      <td>95316</td>\n",
       "    </tr>\n",
       "    <tr>\n",
       "      <th>613</th>\n",
       "      <td>37</td>\n",
       "      <td>F</td>\n",
       "      <td>marketing</td>\n",
       "      <td>29678</td>\n",
       "    </tr>\n",
       "    <tr>\n",
       "      <th>301</th>\n",
       "      <td>24</td>\n",
       "      <td>M</td>\n",
       "      <td>student</td>\n",
       "      <td>55439</td>\n",
       "    </tr>\n",
       "    <tr>\n",
       "      <th>573</th>\n",
       "      <td>68</td>\n",
       "      <td>M</td>\n",
       "      <td>retired</td>\n",
       "      <td>48911</td>\n",
       "    </tr>\n",
       "    <tr>\n",
       "      <th>24</th>\n",
       "      <td>21</td>\n",
       "      <td>F</td>\n",
       "      <td>artist</td>\n",
       "      <td>94533</td>\n",
       "    </tr>\n",
       "    <tr>\n",
       "      <th>358</th>\n",
       "      <td>40</td>\n",
       "      <td>M</td>\n",
       "      <td>educator</td>\n",
       "      <td>10022</td>\n",
       "    </tr>\n",
       "    <tr>\n",
       "      <th>750</th>\n",
       "      <td>28</td>\n",
       "      <td>M</td>\n",
       "      <td>administrator</td>\n",
       "      <td>32303</td>\n",
       "    </tr>\n",
       "    <tr>\n",
       "      <th>752</th>\n",
       "      <td>60</td>\n",
       "      <td>M</td>\n",
       "      <td>retired</td>\n",
       "      <td>21201</td>\n",
       "    </tr>\n",
       "    <tr>\n",
       "      <th>385</th>\n",
       "      <td>36</td>\n",
       "      <td>M</td>\n",
       "      <td>writer</td>\n",
       "      <td>10003</td>\n",
       "    </tr>\n",
       "    <tr>\n",
       "      <th>161</th>\n",
       "      <td>50</td>\n",
       "      <td>M</td>\n",
       "      <td>lawyer</td>\n",
       "      <td>55104</td>\n",
       "    </tr>\n",
       "    <tr>\n",
       "      <th>77</th>\n",
       "      <td>30</td>\n",
       "      <td>M</td>\n",
       "      <td>technician</td>\n",
       "      <td>29379</td>\n",
       "    </tr>\n",
       "    <tr>\n",
       "      <th>492</th>\n",
       "      <td>57</td>\n",
       "      <td>M</td>\n",
       "      <td>educator</td>\n",
       "      <td>94618</td>\n",
       "    </tr>\n",
       "    <tr>\n",
       "      <th>54</th>\n",
       "      <td>22</td>\n",
       "      <td>M</td>\n",
       "      <td>executive</td>\n",
       "      <td>66315</td>\n",
       "    </tr>\n",
       "    <tr>\n",
       "      <th>396</th>\n",
       "      <td>57</td>\n",
       "      <td>M</td>\n",
       "      <td>engineer</td>\n",
       "      <td>94551</td>\n",
       "    </tr>\n",
       "    <tr>\n",
       "      <th>844</th>\n",
       "      <td>22</td>\n",
       "      <td>M</td>\n",
       "      <td>engineer</td>\n",
       "      <td>95662</td>\n",
       "    </tr>\n",
       "    <tr>\n",
       "      <th>314</th>\n",
       "      <td>20</td>\n",
       "      <td>F</td>\n",
       "      <td>student</td>\n",
       "      <td>08043</td>\n",
       "    </tr>\n",
       "    <tr>\n",
       "      <th>439</th>\n",
       "      <td>23</td>\n",
       "      <td>F</td>\n",
       "      <td>administrator</td>\n",
       "      <td>20817</td>\n",
       "    </tr>\n",
       "    <tr>\n",
       "      <th>414</th>\n",
       "      <td>24</td>\n",
       "      <td>M</td>\n",
       "      <td>programmer</td>\n",
       "      <td>38115</td>\n",
       "    </tr>\n",
       "    <tr>\n",
       "      <th>30</th>\n",
       "      <td>7</td>\n",
       "      <td>M</td>\n",
       "      <td>student</td>\n",
       "      <td>55436</td>\n",
       "    </tr>\n",
       "    <tr>\n",
       "      <th>820</th>\n",
       "      <td>22</td>\n",
       "      <td>M</td>\n",
       "      <td>student</td>\n",
       "      <td>37725</td>\n",
       "    </tr>\n",
       "    <tr>\n",
       "      <th>878</th>\n",
       "      <td>50</td>\n",
       "      <td>F</td>\n",
       "      <td>educator</td>\n",
       "      <td>98027</td>\n",
       "    </tr>\n",
       "    <tr>\n",
       "      <th>834</th>\n",
       "      <td>26</td>\n",
       "      <td>M</td>\n",
       "      <td>other</td>\n",
       "      <td>64153</td>\n",
       "    </tr>\n",
       "    <tr>\n",
       "      <th>129</th>\n",
       "      <td>36</td>\n",
       "      <td>F</td>\n",
       "      <td>marketing</td>\n",
       "      <td>07039</td>\n",
       "    </tr>\n",
       "    <tr>\n",
       "      <th>149</th>\n",
       "      <td>35</td>\n",
       "      <td>F</td>\n",
       "      <td>marketing</td>\n",
       "      <td>17325</td>\n",
       "    </tr>\n",
       "  </tbody>\n",
       "</table>\n",
       "</div>"
      ],
      "text/plain": [
       "         age gender     occupation zip_code\n",
       "user_id                                    \n",
       "272       33      M      scientist    53706\n",
       "616       55      M      scientist    50613\n",
       "545       27      M     technician    08052\n",
       "668       29      F         writer    10016\n",
       "818       28      M      librarian    27514\n",
       "663       26      M          other    19341\n",
       "885       30      F          other    95316\n",
       "613       37      F      marketing    29678\n",
       "301       24      M        student    55439\n",
       "573       68      M        retired    48911\n",
       "24        21      F         artist    94533\n",
       "358       40      M       educator    10022\n",
       "750       28      M  administrator    32303\n",
       "752       60      M        retired    21201\n",
       "385       36      M         writer    10003\n",
       "161       50      M         lawyer    55104\n",
       "77        30      M     technician    29379\n",
       "492       57      M       educator    94618\n",
       "54        22      M      executive    66315\n",
       "396       57      M       engineer    94551\n",
       "844       22      M       engineer    95662\n",
       "314       20      F        student    08043\n",
       "439       23      F  administrator    20817\n",
       "414       24      M     programmer    38115\n",
       "30         7      M        student    55436\n",
       "820       22      M        student    37725\n",
       "878       50      F       educator    98027\n",
       "834       26      M          other    64153\n",
       "129       36      F      marketing    07039\n",
       "149       35      F      marketing    17325"
      ]
     },
     "execution_count": 43,
     "metadata": {},
     "output_type": "execute_result"
    }
   ],
   "source": [
    "# randomly sample a DataFrame\n",
    "users.sample(n=30)"
   ]
  },
  {
   "cell_type": "code",
   "execution_count": 57,
   "metadata": {
    "collapsed": false
   },
   "outputs": [
    {
     "data": {
      "text/plain": [
       "user_id\n",
       "1      False\n",
       "2      False\n",
       "3      False\n",
       "4      False\n",
       "5      False\n",
       "6      False\n",
       "7      False\n",
       "8      False\n",
       "9      False\n",
       "10     False\n",
       "11     False\n",
       "12     False\n",
       "13     False\n",
       "14     False\n",
       "15     False\n",
       "16     False\n",
       "17     False\n",
       "18     False\n",
       "19     False\n",
       "20     False\n",
       "21     False\n",
       "22     False\n",
       "23     False\n",
       "24     False\n",
       "25     False\n",
       "26     False\n",
       "27     False\n",
       "28     False\n",
       "29     False\n",
       "30     False\n",
       "       ...  \n",
       "914    False\n",
       "915    False\n",
       "916    False\n",
       "917    False\n",
       "918    False\n",
       "919    False\n",
       "920    False\n",
       "921    False\n",
       "922    False\n",
       "923    False\n",
       "924    False\n",
       "925    False\n",
       "926    False\n",
       "927    False\n",
       "928    False\n",
       "929    False\n",
       "930    False\n",
       "931    False\n",
       "932    False\n",
       "933    False\n",
       "934    False\n",
       "935    False\n",
       "936    False\n",
       "937    False\n",
       "938    False\n",
       "939    False\n",
       "940    False\n",
       "941    False\n",
       "942    False\n",
       "943    False\n",
       "dtype: bool"
      ]
     },
     "execution_count": 57,
     "metadata": {},
     "output_type": "execute_result"
    }
   ],
   "source": [
    "# detect duplicate users\n",
    "users.duplicated(['gender','occupation', 'age', 'zip_code'])"
   ]
  },
  {
   "cell_type": "markdown",
   "metadata": {},
   "source": [
    "## LAB 1 -Exercise Two "
   ]
  },
  {
   "cell_type": "code",
   "execution_count": null,
   "metadata": {
    "collapsed": true
   },
   "outputs": [],
   "source": [
    "# filter DataFrame to only include European countries\n",
    "drinks[drinks.continent == 'EU']"
   ]
  },
  {
   "cell_type": "code",
   "execution_count": null,
   "metadata": {
    "collapsed": true
   },
   "outputs": [],
   "source": [
    "# filter DataFrame to only include European countries with wine_servings > 300\n",
    "drinks[(drinks.continent == 'EU') & (drinks.wine_servings > 300)]"
   ]
  },
  {
   "cell_type": "code",
   "execution_count": null,
   "metadata": {
    "collapsed": true
   },
   "outputs": [],
   "source": [
    "# calculate the average 'beer_servings' for all of Europe\n",
    "drinks[drinks.continent == 'EU'].beer_servings.describe()"
   ]
  },
  {
   "cell_type": "code",
   "execution_count": null,
   "metadata": {
    "collapsed": true
   },
   "outputs": [],
   "source": [
    "# determine which 10 countries have the highest total_litres_of_pure_alcohol\n",
    "drinks.head(10).sort_values(by='total_litres_of_pure_alcohol', ascending=False)"
   ]
  },
  {
   "cell_type": "code",
   "execution_count": null,
   "metadata": {
    "collapsed": true
   },
   "outputs": [],
   "source": [
    "# rename the column 'beer_servings' to 'beer'\n",
    "drinks.rename(index=str, columns={\"beer_servings\": \"beer\"})"
   ]
  },
  {
   "cell_type": "code",
   "execution_count": null,
   "metadata": {
    "collapsed": true
   },
   "outputs": [],
   "source": [
    "# add a new column as a function of existing columns, total_servings = beer + wine + spirits\n",
    "drinks.assign(total_servings = drinks['beer_servings'] + drinks['wine_servings'] + drinks['spirit_servings'])"
   ]
  },
  {
   "cell_type": "code",
   "execution_count": null,
   "metadata": {
    "collapsed": true
   },
   "outputs": [],
   "source": [
    "# remove the column you just added\n",
    "drinks.drop('beer_servings', axis=1,)"
   ]
  }
 ],
 "metadata": {
  "anaconda-cloud": {},
  "kernelspec": {
   "display_name": "Python [default]",
   "language": "python",
   "name": "python2"
  },
  "language_info": {
   "codemirror_mode": {
    "name": "ipython",
    "version": 2
   },
   "file_extension": ".py",
   "mimetype": "text/x-python",
   "name": "python",
   "nbconvert_exporter": "python",
   "pygments_lexer": "ipython2",
   "version": "2.7.12"
  }
 },
 "nbformat": 4,
 "nbformat_minor": 0
}
