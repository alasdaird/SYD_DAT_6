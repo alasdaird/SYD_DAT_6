{
 "cells": [
  {
   "cell_type": "markdown",
   "metadata": {},
   "source": [
    "# SYD DAT 6 Lab 1 - Git and Markdown\n",
    "\n",
    "## Homework:\n",
    "\n",
    "#### Setup [DONE]\n",
    "* Resolve any installation issues before next class.\n",
    "* Make sure you have a github profile and created a repo called \"SYD_DAT_6\"\n",
    "* Clone the class repo (this one!)\n",
    "* Review this [code](../labs/Week 1/00_python_refresher.py) for a recap of some Python basics.\n",
    "\n",
    "#### Communication [DONE below]\n",
    "* Read [Analyzing the Analyzers](http://cdn.oreillystatic.com/oreilly/radarreport/0636920029014/Analyzing_the_Analyzers.pdf) for a useful look at the different types of data scientists. Write down 5 key points you took away from the article\n",
    "* Read about some [Markdown Techniques](http://daringfireball.net/projects/markdown/syntax)\n",
    "* Write a summary of 2 chapters of [The Data Science Handbook](http://www.thedatasciencehandbook.com/) in Markdown and submit a pull request in the Lab Directory\n",
    "\n",
    "#### Programming [DONE in Lab1 Doc]\n",
    "* Complete the lab from class and the additional Exercise below\n",
    "\n",
    "#### Course Project [DONE below]\n",
    "* Come up with 5 different ideas for your course project. For each one list:\n",
    "  * Overview of your idea\n",
    "  * What data you will use\n",
    "  * What the outcome is that you are trying to achieve\n",
    "  * Any ideas of modelling techniques it may involve\n",
    "\n",
    "**Instructions: copy this file and append your name in the filename, e.g. Homework1_alasdair_douglas.ipynb.\n",
    "Then commit this in your local repository, push it to your github account and create a pull request so I can see your work. Remeber if you get stuck to look at the slides going over Fork, Clone, Commit, Push and Pull request.**"
   ]
  },
  {
   "cell_type": "markdown",
   "metadata": {},
   "source": [
    "## Exercise Four - Movie Lens Data"
   ]
  },
  {
   "cell_type": "code",
   "execution_count": 1,
   "metadata": {
    "collapsed": true
   },
   "outputs": [],
   "source": [
    "# for each occupation in 'users', count the number of occurrences\n",
    "users.occupation.value_counts()\n",
    "\n",
    "# for each occupation, calculate the mean age\n",
    "users.groupby('occupation')['age'].mean()\n",
    "\n",
    "# for each occupation, calculate the minimum and maximum ages\n",
    "users.groupby('occupation')['age'].describe()\n",
    "\n",
    "# for each combination of occupation and gender, calculate the mean age\n",
    "users.groupby(['occupation' , 'gender'])['age'].mean()\n",
    "\n",
    "# randomly sample a DataFrame\n",
    "users.sample(5)\n",
    "\n",
    "# detect duplicate users\n",
    "users.duplicated()"
   ]
  },
  {
   "cell_type": "markdown",
   "metadata": {},
   "source": [
    "## Communication\n",
    "* Analysing the Analysers\n",
    "    * Data Science/Scientist is a very broad and largely misunderstood profession\n",
    "    * It's important to identify what kind of Data Scientist you are, and where your skills and interests actually lie to avoid uncomfortable situations and bad job fits.\n",
    "    * I most likely fit into the 'Data Businessman' category currently.\n",
    "    * I am an application user, but would like to learn how to be a scripter.\n",
    "    * I need to identify where my T-shaped focus should be.\n",
    "    \n",
    "#### The Data Science Handbook\n",
    "* DJ Patil\n",
    "    * VP of Products for RelateIQ\n",
    "    * You must fail to succeed. You've got to put yourself in a position where someone will take a chance on you, you won't just be discovered in a cafe writing on a napkin.\n",
    "    * Learn to make things, then learn to tell a narrative around why you made it.\n",
    "    * Data Science is beginning to be used in interesting ways to help people and outside of standard business structures.\n",
    "    * DJ says that Data Scientists should be first in, last out. Work hard EVERY DAY.\n",
    "    * There is no one way to 'DO' Data Science, it's a new profession and people are just working things out as they go.\n",
    "    * Make mistakes when you're young.\n",
    "    * 'Work on simple things. Simple things become hard, hard things become intractable.'\n",
    "    \n",
    "* Clare Corthell\n",
    "    * Data Scientist at Mattermark\n",
    "    * Open Source Data Science Masters\n",
    "    * There is a community of self-learners and there are free resources out there on just about everything.\n",
    "    * Clare created a curriculum by reverse engineering course structures from job descriptions.\n",
    "    * If you want to get to the next level, wherever your next level may be, it’s possible to pave your own road that leads you there. It’s a monstrously tough road, but it’s your road."
   ]
  },
  {
   "cell_type": "markdown",
   "metadata": {
    "collapsed": true
   },
   "source": [
    "## Course Project Ideas\n",
    "* Fitness Analytics\n",
    "    * Collect data on muscle growth and running speed on myself to see if I can predict future improvements and recommendations on exercises for areas lacking.\n",
    "    * Collect data on myself:\n",
    "        * Body fat % on each muscle daily (using skulpt app) \n",
    "        * running speed and distance twice weekly (using Strava app)\n",
    "    * Identify muscles which need work, and predict future growth on a set program\n",
    "    * Predictive\n",
    "    \n",
    "* Mobile Phone Evolution\n",
    "    * With new phones coming out more regularly, is it possible to predict prices, release frequency and hardware specs based on past performance?\n",
    "    * Collect data on existing phone models from the big brands [AU] (entry price, release date, specs)\n",
    "    * Identifying (if any) relationships between phone model upgrades and predicting future ones\n",
    "    * Exploratory and Predictive\n",
    "    \n",
    "* Instagram Personalities\n",
    "    * Is it possible to identify fake likes and comments on instagram accounts with large followings?\n",
    "    * Instagram Sample Data:\n",
    "        * 50k + followers\n",
    "        * Number of likes on photos\n",
    "        * Number of comments on photos\n",
    "    * Identify relationships between # followers, likes and comments then try to identify fake/bought followers and likes\n",
    "    * Exploratory\n",
    "    \n",
    "* Travel Recommendations\n",
    "    * Is it possible to use data to make travel recomendations based on travel time and holiday time?\n",
    "    * Scrape travel time data from Sydney to destinations\n",
    "    * Given travel time and holiday options, what destinations are possible?\n",
    "    * Exploratory and causal\n",
    "    \n",
    "* My Movements\n",
    "    * Is it possible to predict my movements from the metadata available through Google and my mobile phone?\n",
    "    * Google maps and phone metadata\n",
    "    * Identify movements, relationships with places and predict future movements.\n",
    "    * Exploratory and predictive"
   ]
  },
  {
   "cell_type": "code",
   "execution_count": null,
   "metadata": {
    "collapsed": true
   },
   "outputs": [],
   "source": []
  }
 ],
 "metadata": {
  "anaconda-cloud": {},
  "kernelspec": {
   "display_name": "Python 2",
   "language": "python",
   "name": "python2"
  },
  "language_info": {
   "codemirror_mode": {
    "name": "ipython",
    "version": 2
   },
   "file_extension": ".py",
   "mimetype": "text/x-python",
   "name": "python",
   "nbconvert_exporter": "python",
   "pygments_lexer": "ipython2",
   "version": "2.7.12"
  }
 },
 "nbformat": 4,
 "nbformat_minor": 0
}
