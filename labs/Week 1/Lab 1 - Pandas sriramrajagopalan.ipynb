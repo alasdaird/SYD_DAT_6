{
 "cells": [
  {
   "cell_type": "markdown",
   "metadata": {},
   "source": [
    "# Data Science Course Week 1 - Pandas and Data Manipulation\n",
    "\n",
    "## We will be using real data sources to explore the features of Pandas\n",
    "\n",
    "MovieLens 100k movie rating data:\n",
    "    main page: http://grouplens.org/datasets/movielens/\n",
    "    data dictionary: http://files.grouplens.org/datasets/movielens/ml-100k-README.txt\n",
    "    files: u.user, u.data, u.item\n",
    "\n",
    "WHO alcohol consumption data:\n",
    "    article: http://fivethirtyeight.com/datalab/dear-mona-followup-where-do-people-drink-the-most-beer-wine-and-spirits/    \n",
    "    original data: https://github.com/fivethirtyeight/data/tree/master/alcohol-consumption\n",
    "    file: drinks.csv (with additional 'continent' column)\n",
    "\n",
    "National UFO Reporting Center data:\n",
    "    main page: http://www.nuforc.org/webreports.html\n",
    "    file: ufo.csv\n"
   ]
  },
  {
   "cell_type": "code",
   "execution_count": 2,
   "metadata": {
    "collapsed": true
   },
   "outputs": [],
   "source": [
    "import pandas as pd"
   ]
  },
  {
   "cell_type": "markdown",
   "metadata": {},
   "source": [
    "### Reading Files, Selecting Columns, and Summarizing"
   ]
  },
  {
   "cell_type": "code",
   "execution_count": 80,
   "metadata": {
    "collapsed": false,
    "scrolled": true
   },
   "outputs": [],
   "source": [
    "# can read a file from local computer or directly from a URL\n",
    "#pd.read_table('u.user', header=None)\n",
    "#pd.read_table('https://raw.githubusercontent.com/alasdaird/SYD_DAT_6/master/labs/Week%201/u.user')"
   ]
  },
  {
   "cell_type": "code",
   "execution_count": 247,
   "metadata": {
    "collapsed": false
   },
   "outputs": [],
   "source": [
    "# read 'u.user' into 'users'\n",
    "user_cols = ['user_id', 'age', 'gender', 'occupation', 'zip_code']\n",
    "users = pd.read_table('u.user', sep='|', header=None, names=user_cols, index_col='user_id', dtype={'zip_code':str})\n",
    "#users"
   ]
  },
  {
   "cell_type": "code",
   "execution_count": 248,
   "metadata": {
    "collapsed": false
   },
   "outputs": [],
   "source": [
    "# examine the users data\n",
    "#users                   # print the first 30 and last 30 rows\n",
    "#type(users)\n",
    "#DataFrame\n",
    "#users.head()            # print the first 5 rows\n",
    "#users.head(10)          # print the first 10 rows\n",
    "#users.tail()            # print the last 5 rows\n",
    "#users.index             # \"the index\" (aka \"the labels\")\n",
    "#users.columns           # column names (which is \"an index\")\n",
    "#users.dtypes            # data types of each column\n",
    "#users.shape             # number of rows and columns\n",
    "#users.values            # underlying numpy array\n",
    "#users.info()            # concise summary (including memory usage)"
   ]
  },
  {
   "cell_type": "code",
   "execution_count": 78,
   "metadata": {
    "collapsed": false
   },
   "outputs": [],
   "source": [
    "# select a column\n",
    "#users['gender']         # select one column\n",
    "#type(users['gender'])   # Series\n",
    "#type(users[['gender']])   # DataFrame\n",
    "#users.gender            # select one column using the DataFrame attribute\n"
   ]
  },
  {
   "cell_type": "code",
   "execution_count": 32,
   "metadata": {
    "collapsed": false
   },
   "outputs": [
    {
     "data": {
      "text/plain": [
       "34.05196182396607"
      ]
     },
     "execution_count": 32,
     "metadata": {},
     "output_type": "execute_result"
    }
   ],
   "source": [
    "# summarize (describe) the data\n",
    "#users.describe()                    # describe all numeric columns\n",
    "#users.describe(include=['object'])  # describe all object columns (can include multiple types)\n",
    "#users.describe(include='all')       # describe all columns\n",
    "#users.gender.describe()             # describe a single column\n",
    "#users.age.mean()                    # only calculate the mean\n"
   ]
  },
  {
   "cell_type": "code",
   "execution_count": 77,
   "metadata": {
    "collapsed": false
   },
   "outputs": [],
   "source": [
    "# count the number of occurrences of each value\n",
    "#users.occupation.value_counts()     # most useful for categorical variables\n",
    "#users.age.value_counts()        # can also be used with numeric variables"
   ]
  },
  {
   "cell_type": "markdown",
   "metadata": {},
   "source": [
    "## EXERCISE ONE"
   ]
  },
  {
   "cell_type": "code",
   "execution_count": 75,
   "metadata": {
    "collapsed": true
   },
   "outputs": [],
   "source": [
    "# read drinks.csv into a DataFrame called 'drinks'\n",
    "#drinks = pd.read_table('drinks.csv', sep=',')\n",
    "#drinks = pd.read_csv('drinks.csv')              # assumes separator is comma"
   ]
  },
  {
   "cell_type": "code",
   "execution_count": 76,
   "metadata": {
    "collapsed": false
   },
   "outputs": [],
   "source": [
    "# print the head and the tail\n",
    "#drinks.head()\n",
    "#drinks.tail()"
   ]
  },
  {
   "cell_type": "code",
   "execution_count": 73,
   "metadata": {
    "collapsed": false
   },
   "outputs": [],
   "source": [
    "# examine the default index, data types, and shape\n",
    "#drinks.index\n",
    "#drinks.dtypes\n",
    "#drinks.shape"
   ]
  },
  {
   "cell_type": "code",
   "execution_count": 72,
   "metadata": {
    "collapsed": false
   },
   "outputs": [],
   "source": [
    "# print the 'beer_servings' Series\n",
    "#drinks['beer_servings']\n",
    "#drinks.beer_servings\n"
   ]
  },
  {
   "cell_type": "code",
   "execution_count": 74,
   "metadata": {
    "collapsed": false
   },
   "outputs": [],
   "source": [
    "# calculate the average 'beer_servings' for the entire dataset\n",
    "#drinks.describe()                   # summarize all numeric columns\n",
    "#drinks.beer_servings.describe()     # summarize only the 'beer_servings' Series\n",
    "#drinks.beer_servings.mean()         # only calculate the mean\n"
   ]
  },
  {
   "cell_type": "code",
   "execution_count": 71,
   "metadata": {
    "collapsed": false
   },
   "outputs": [],
   "source": [
    "\n",
    "# count the number of occurrences of each 'continent' value and see if it looks correct\n",
    "#drinks.continent.value_counts()\n"
   ]
  },
  {
   "cell_type": "markdown",
   "metadata": {},
   "source": [
    "#### Filtering and Sorting\n",
    "\n",
    "using users data set again"
   ]
  },
  {
   "cell_type": "code",
   "execution_count": 70,
   "metadata": {
    "collapsed": false
   },
   "outputs": [],
   "source": [
    "# logical filtering: only show users with age < 20\n",
    "#young_bool = users.age < 20         # create a Series of booleans...\n",
    "#users[young_bool]                   # ...and use that Series to filter rows\n",
    "#users[users.age < 20]               # or, combine into a single step\n",
    "#users[users.age < 20].occupation    # select one column from the filtered results\n",
    "#users[users.age < 20].occupation.value_counts()     # value_counts of resulting Series"
   ]
  },
  {
   "cell_type": "code",
   "execution_count": 244,
   "metadata": {
    "collapsed": false
   },
   "outputs": [],
   "source": [
    "# logical filtering with multiple conditions\n",
    "#users[(users.age < 20) & (users.gender=='M')]       # ampersand for AND condition\n",
    "#users[(users.age < 20) | (users.age > 60)]          # pipe for OR condition\n",
    "#users[users.occupation.isin(['doctor', 'lawyer'])]  # alternative to multiple OR conditions\n"
   ]
  },
  {
   "cell_type": "code",
   "execution_count": 68,
   "metadata": {
    "collapsed": false
   },
   "outputs": [],
   "source": [
    "# sorting\n",
    "#users.age.sort_values()                   # sort a column\n",
    "#users.sort_values(by='age')                   # sort a DataFrame by a single column\n",
    "#users.sort_values(by='age', ascending=False)  # use descending order instead\n",
    "#users.sort_values(by=['occupation', 'age'])   # sort by multiple columns\n"
   ]
  },
  {
   "cell_type": "markdown",
   "metadata": {},
   "source": [
    "## EXERCISE TWO\n",
    "\n",
    "using the drinks dataset again"
   ]
  },
  {
   "cell_type": "code",
   "execution_count": 241,
   "metadata": {
    "collapsed": false
   },
   "outputs": [],
   "source": [
    "# filter DataFrame to only include European countries\n",
    "#(done)\n",
    "drinks = pd.read_table('drinks.csv', sep = \",\")\n",
    "#drinks\n",
    "#drinks[drinks.continent.isin(['EU'])]\n"
   ]
  },
  {
   "cell_type": "code",
   "execution_count": 249,
   "metadata": {
    "collapsed": false
   },
   "outputs": [
    {
     "data": {
      "text/html": [
       "<div>\n",
       "<table border=\"1\" class=\"dataframe\">\n",
       "  <thead>\n",
       "    <tr style=\"text-align: right;\">\n",
       "      <th></th>\n",
       "      <th>country</th>\n",
       "      <th>beer_servings</th>\n",
       "      <th>spirit_servings</th>\n",
       "      <th>wine_servings</th>\n",
       "      <th>total_litres_of_pure_alcohol</th>\n",
       "      <th>continent</th>\n",
       "    </tr>\n",
       "  </thead>\n",
       "  <tbody>\n",
       "    <tr>\n",
       "      <th>3</th>\n",
       "      <td>Andorra</td>\n",
       "      <td>245</td>\n",
       "      <td>138</td>\n",
       "      <td>312</td>\n",
       "      <td>12.4</td>\n",
       "      <td>EU</td>\n",
       "    </tr>\n",
       "    <tr>\n",
       "      <th>61</th>\n",
       "      <td>France</td>\n",
       "      <td>127</td>\n",
       "      <td>151</td>\n",
       "      <td>370</td>\n",
       "      <td>11.8</td>\n",
       "      <td>EU</td>\n",
       "    </tr>\n",
       "    <tr>\n",
       "      <th>136</th>\n",
       "      <td>Portugal</td>\n",
       "      <td>194</td>\n",
       "      <td>67</td>\n",
       "      <td>339</td>\n",
       "      <td>11.0</td>\n",
       "      <td>EU</td>\n",
       "    </tr>\n",
       "  </tbody>\n",
       "</table>\n",
       "</div>"
      ],
      "text/plain": [
       "      country  beer_servings  spirit_servings  wine_servings  \\\n",
       "3     Andorra            245              138            312   \n",
       "61     France            127              151            370   \n",
       "136  Portugal            194               67            339   \n",
       "\n",
       "     total_litres_of_pure_alcohol continent  \n",
       "3                            12.4        EU  \n",
       "61                           11.8        EU  \n",
       "136                          11.0        EU  "
      ]
     },
     "execution_count": 249,
     "metadata": {},
     "output_type": "execute_result"
    }
   ],
   "source": [
    "# filter DataFrame to only include European countries with wine_servings > 300\n",
    "#(done)\n",
    "WineServing = drinks.wine_servings > 300\n",
    "drinks[WineServing]"
   ]
  },
  {
   "cell_type": "code",
   "execution_count": 119,
   "metadata": {
    "collapsed": false
   },
   "outputs": [],
   "source": [
    "# calculate the average 'beer_servings' for all of Europe\n",
    "#(done)\n",
    "#EuropeBeer = drinks[(drinks.continent =='EU')]\n",
    "#EuropeBeer.beer_servings.mean()\n"
   ]
  },
  {
   "cell_type": "code",
   "execution_count": 127,
   "metadata": {
    "collapsed": false
   },
   "outputs": [],
   "source": [
    "# determine which 10 countries have the highest total_litres_of_pure_alcohol\n",
    "#(done)\n",
    "#drinks.sort_values(by='total_litres_of_pure_alcohol', ascending = False)\n",
    "\n"
   ]
  },
  {
   "cell_type": "code",
   "execution_count": 148,
   "metadata": {
    "collapsed": false
   },
   "outputs": [],
   "source": [
    "# rename the column 'beer_servings' to 'beer'\n",
    "#(done)\n",
    "#cols_change = ['country', 'beer', 'spirit_servings', 'wine_servings', 'total_litres_of_pure_alcohol' , 'continent']\n",
    "#cols_change\n",
    "#drinks1 = pd.read_table('drinks.csv', sep=',')\n",
    "#drinks1.rename(columns = {'beer_servings' : 'beer'})\n"
   ]
  },
  {
   "cell_type": "code",
   "execution_count": 242,
   "metadata": {
    "collapsed": false
   },
   "outputs": [],
   "source": [
    "# add a new column as a function of existing columns, total_servings = beer + wine + spirits\n",
    "#(done)\n",
    "#drinks2 = pd.read_table('drinks.csv', sep=',')\n",
    "#drinks2['total_servings'] = drinks2.sum(axis=1)\n",
    "#drinks3 = drinks2\n",
    "#drinks3"
   ]
  },
  {
   "cell_type": "code",
   "execution_count": 170,
   "metadata": {
    "collapsed": false
   },
   "outputs": [],
   "source": [
    "# remove the column you just added\n",
    "#(done)\n",
    "#drinks3\n",
    "#drinks4 = drinks3.drop('total_servings',1)\n",
    "#drinks4"
   ]
  },
  {
   "cell_type": "markdown",
   "metadata": {},
   "source": [
    "### Handling Missing Values"
   ]
  },
  {
   "cell_type": "code",
   "execution_count": 243,
   "metadata": {
    "collapsed": false
   },
   "outputs": [],
   "source": [
    "# missing values are usually excluded by default\n",
    "#drinks.continent.value_counts()              # excludes missing values\n",
    "#drinks.continent.value_counts(dropna=False)  # includes missing values"
   ]
  },
  {
   "cell_type": "code",
   "execution_count": 186,
   "metadata": {
    "collapsed": false
   },
   "outputs": [],
   "source": [
    "# find missing values in a Series\n",
    "#drinks.continent.isnull()           # True if missing, False if not missing\n",
    "#drinks.continent.isnull().sum()     # count the missing values\n",
    "#drinks.continent.notnull()          # True if not missing, False if missing\n",
    "#drinks[drinks.continent.notnull()]  # only show rows where continent is not missing"
   ]
  },
  {
   "cell_type": "code",
   "execution_count": 188,
   "metadata": {
    "collapsed": false,
    "scrolled": true
   },
   "outputs": [],
   "source": [
    "# use 'tilde' ~ to negate the boolean values\n",
    "#~drinks.continent.isnull()  "
   ]
  },
  {
   "cell_type": "code",
   "execution_count": 192,
   "metadata": {
    "collapsed": false,
    "scrolled": true
   },
   "outputs": [],
   "source": [
    "# side note: understanding axes\n",
    "#drinks.sum(axis=0)      # sums \"down\" the 0 axis (rows)\n",
    "#drinks.sum()            # axis=0 is the default\n",
    "#drinks.sum(axis=1)      # sums \"across\" the 1 axis (columns)"
   ]
  },
  {
   "cell_type": "code",
   "execution_count": null,
   "metadata": {
    "collapsed": false
   },
   "outputs": [],
   "source": [
    "# find missing values in a DataFrame\n",
    "drinks.isnull()             # DataFrame of booleans\n",
    "drinks.isnull().sum()       # count the missing values in each column"
   ]
  },
  {
   "cell_type": "code",
   "execution_count": 205,
   "metadata": {
    "collapsed": false
   },
   "outputs": [],
   "source": [
    "# fill in missing values\n",
    "#drinks.continent.fillna(value='NA')                 # fill in missing values with 'NA'\n",
    "#drinks.continent.fillna(value='NA', inplace=True)    # modifies 'drinks' in-place"
   ]
  },
  {
   "cell_type": "markdown",
   "metadata": {},
   "source": [
    "### Merging Data"
   ]
  },
  {
   "cell_type": "code",
   "execution_count": 240,
   "metadata": {
    "collapsed": false
   },
   "outputs": [],
   "source": [
    "# read 'u.item' into 'movies'\n",
    "#movie_cols = ['movie_id', 'title']\n",
    "#movies = pd.read_table('u.item', sep='|', header=None, names=movie_cols, usecols=[0, 1])\n",
    "\n",
    "#movies\n"
   ]
  },
  {
   "cell_type": "code",
   "execution_count": 239,
   "metadata": {
    "collapsed": false
   },
   "outputs": [],
   "source": [
    "# read 'u.data' into 'ratings'\n",
    "#rating_cols = ['user_id', 'movie_id', 'rating', 'timestamp']\n",
    "#ratings = pd.read_table('u.data', sep='\\t', header=None, names=rating_cols)\n",
    "#ratings = pd.read_table('u.data', sep='\\t', header=None, names=rating_cols)\n",
    "#ratings"
   ]
  },
  {
   "cell_type": "code",
   "execution_count": 238,
   "metadata": {
    "collapsed": false
   },
   "outputs": [],
   "source": [
    "# merge 'movies' and 'ratings' (inner join on 'movie_id')\n",
    "#movie_ratings = pd.merge(movies, ratings)\n",
    "#movie_ratings\n",
    "#movies.shape\n",
    "#ratings.shape\n",
    "#movie_ratings.shape"
   ]
  },
  {
   "cell_type": "code",
   "execution_count": null,
   "metadata": {
    "collapsed": true
   },
   "outputs": [],
   "source": []
  }
 ],
 "metadata": {
  "anaconda-cloud": {},
  "kernelspec": {
   "display_name": "Python [default]",
   "language": "python",
   "name": "python2"
  },
  "language_info": {
   "codemirror_mode": {
    "name": "ipython",
    "version": 2
   },
   "file_extension": ".py",
   "mimetype": "text/x-python",
   "name": "python",
   "nbconvert_exporter": "python",
   "pygments_lexer": "ipython2",
   "version": "2.7.12"
  }
 },
 "nbformat": 4,
 "nbformat_minor": 0
}
