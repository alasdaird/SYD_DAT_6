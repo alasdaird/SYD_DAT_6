{
 "cells": [
  {
   "cell_type": "markdown",
   "metadata": {},
   "source": [
    "# Principal Component Analysis\n",
    "\n",
    "## Week 4 Monday 31st October\n"
   ]
  },
  {
   "cell_type": "code",
   "execution_count": 1,
   "metadata": {
    "collapsed": false
   },
   "outputs": [],
   "source": [
    "%matplotlib inline\n",
    "\n",
    "import numpy as np\n",
    "import matplotlib.pyplot as plt\n",
    "from mpl_toolkits.mplot3d import Axes3D\n",
    "\n",
    "from sklearn import decomposition\n",
    "from sklearn import datasets"
   ]
  },
  {
   "cell_type": "code",
   "execution_count": 30,
   "metadata": {
    "collapsed": false
   },
   "outputs": [
    {
     "name": "stdout",
     "output_type": "stream",
     "text": [
      "['setosa' 'versicolor' 'virginica']\n"
     ]
    }
   ],
   "source": [
    "# Load in the data\n",
    "iris = datasets.load_iris()\n",
    "X = iris.data\n",
    "y = iris.target\n",
    "target_names = iris.target_names\n",
    "print target_names\n"
   ]
  },
  {
   "cell_type": "code",
   "execution_count": 33,
   "metadata": {
    "collapsed": false
   },
   "outputs": [
    {
     "data": {
      "text/plain": [
       "array([[-2.68420713, -0.32660731],\n",
       "       [-2.71539062,  0.16955685],\n",
       "       [-2.88981954,  0.13734561],\n",
       "       [-2.7464372 ,  0.31112432],\n",
       "       [-2.72859298, -0.33392456],\n",
       "       [-2.27989736, -0.74778271],\n",
       "       [-2.82089068,  0.08210451],\n",
       "       [-2.62648199, -0.17040535],\n",
       "       [-2.88795857,  0.57079803],\n",
       "       [-2.67384469,  0.1066917 ],\n",
       "       [-2.50652679, -0.65193501],\n",
       "       [-2.61314272, -0.02152063],\n",
       "       [-2.78743398,  0.22774019],\n",
       "       [-3.22520045,  0.50327991],\n",
       "       [-2.64354322, -1.1861949 ],\n",
       "       [-2.38386932, -1.34475434],\n",
       "       [-2.6225262 , -0.81808967],\n",
       "       [-2.64832273, -0.31913667],\n",
       "       [-2.19907796, -0.87924409],\n",
       "       [-2.58734619, -0.52047364],\n",
       "       [-2.3105317 , -0.39786782],\n",
       "       [-2.54323491, -0.44003175],\n",
       "       [-3.21585769, -0.14161557],\n",
       "       [-2.30312854, -0.10552268],\n",
       "       [-2.35617109,  0.03120959],\n",
       "       [-2.50791723,  0.13905634],\n",
       "       [-2.469056  , -0.13788731],\n",
       "       [-2.56239095, -0.37468456],\n",
       "       [-2.63982127, -0.31929007],\n",
       "       [-2.63284791,  0.19007583],\n",
       "       [-2.58846205,  0.19739308],\n",
       "       [-2.41007734, -0.41808001],\n",
       "       [-2.64763667, -0.81998263],\n",
       "       [-2.59715948, -1.10002193],\n",
       "       [-2.67384469,  0.1066917 ],\n",
       "       [-2.86699985, -0.0771931 ],\n",
       "       [-2.62522846, -0.60680001],\n",
       "       [-2.67384469,  0.1066917 ],\n",
       "       [-2.98184266,  0.48025005],\n",
       "       [-2.59032303, -0.23605934],\n",
       "       [-2.77013891, -0.27105942],\n",
       "       [-2.85221108,  0.93286537],\n",
       "       [-2.99829644,  0.33430757],\n",
       "       [-2.4055141 , -0.19591726],\n",
       "       [-2.20883295, -0.44269603],\n",
       "       [-2.71566519,  0.24268148],\n",
       "       [-2.53757337, -0.51036755],\n",
       "       [-2.8403213 ,  0.22057634],\n",
       "       [-2.54268576, -0.58628103],\n",
       "       [-2.70391231, -0.11501085],\n",
       "       [ 1.28479459, -0.68543919],\n",
       "       [ 0.93241075, -0.31919809],\n",
       "       [ 1.46406132, -0.50418983],\n",
       "       [ 0.18096721,  0.82560394],\n",
       "       [ 1.08713449, -0.07539039],\n",
       "       [ 0.64043675,  0.41732348],\n",
       "       [ 1.09522371, -0.28389121],\n",
       "       [-0.75146714,  1.00110751],\n",
       "       [ 1.04329778, -0.22895691],\n",
       "       [-0.01019007,  0.72057487],\n",
       "       [-0.5110862 ,  1.26249195],\n",
       "       [ 0.51109806,  0.10228411],\n",
       "       [ 0.26233576,  0.5478933 ],\n",
       "       [ 0.98404455,  0.12436042],\n",
       "       [-0.174864  ,  0.25181557],\n",
       "       [ 0.92757294, -0.46823621],\n",
       "       [ 0.65959279,  0.35197629],\n",
       "       [ 0.23454059,  0.33192183],\n",
       "       [ 0.94236171,  0.54182226],\n",
       "       [ 0.0432464 ,  0.58148945],\n",
       "       [ 1.11624072,  0.08421401],\n",
       "       [ 0.35678657,  0.06682383],\n",
       "       [ 1.29646885,  0.32756152],\n",
       "       [ 0.92050265,  0.18239036],\n",
       "       [ 0.71400821, -0.15037915],\n",
       "       [ 0.89964086, -0.32961098],\n",
       "       [ 1.33104142, -0.24466952],\n",
       "       [ 1.55739627, -0.26739258],\n",
       "       [ 0.81245555,  0.16233157],\n",
       "       [-0.30733476,  0.36508661],\n",
       "       [-0.07034289,  0.70253793],\n",
       "       [-0.19188449,  0.67749054],\n",
       "       [ 0.13499495,  0.31170964],\n",
       "       [ 1.37873698,  0.42120514],\n",
       "       [ 0.58727485,  0.48328427],\n",
       "       [ 0.8072055 , -0.19505396],\n",
       "       [ 1.22042897, -0.40803534],\n",
       "       [ 0.81286779,  0.370679  ],\n",
       "       [ 0.24519516,  0.26672804],\n",
       "       [ 0.16451343,  0.67966147],\n",
       "       [ 0.46303099,  0.66952655],\n",
       "       [ 0.89016045,  0.03381244],\n",
       "       [ 0.22887905,  0.40225762],\n",
       "       [-0.70708128,  1.00842476],\n",
       "       [ 0.35553304,  0.50321849],\n",
       "       [ 0.33112695,  0.21118014],\n",
       "       [ 0.37523823,  0.29162202],\n",
       "       [ 0.64169028, -0.01907118],\n",
       "       [-0.90846333,  0.75156873],\n",
       "       [ 0.29780791,  0.34701652],\n",
       "       [ 2.53172698,  0.01184224],\n",
       "       [ 1.41407223,  0.57492506],\n",
       "       [ 2.61648461, -0.34193529],\n",
       "       [ 1.97081495,  0.18112569],\n",
       "       [ 2.34975798,  0.04188255],\n",
       "       [ 3.39687992, -0.54716805],\n",
       "       [ 0.51938325,  1.19135169],\n",
       "       [ 2.9320051 , -0.35237701],\n",
       "       [ 2.31967279,  0.24554817],\n",
       "       [ 2.91813423, -0.78038063],\n",
       "       [ 1.66193495, -0.2420384 ],\n",
       "       [ 1.80234045,  0.21615461],\n",
       "       [ 2.16537886, -0.21528028],\n",
       "       [ 1.34459422,  0.77641543],\n",
       "       [ 1.5852673 ,  0.53930705],\n",
       "       [ 1.90474358, -0.11881899],\n",
       "       [ 1.94924878, -0.04073026],\n",
       "       [ 3.48876538, -1.17154454],\n",
       "       [ 3.79468686, -0.25326557],\n",
       "       [ 1.29832982,  0.76101394],\n",
       "       [ 2.42816726, -0.37678197],\n",
       "       [ 1.19809737,  0.60557896],\n",
       "       [ 3.49926548, -0.45677347],\n",
       "       [ 1.38766825,  0.20403099],\n",
       "       [ 2.27585365, -0.33338653],\n",
       "       [ 2.61419383, -0.55836695],\n",
       "       [ 1.25762518,  0.179137  ],\n",
       "       [ 1.29066965,  0.11642525],\n",
       "       [ 2.12285398,  0.21085488],\n",
       "       [ 2.3875644 , -0.46251925],\n",
       "       [ 2.84096093, -0.37274259],\n",
       "       [ 3.2323429 , -1.37052404],\n",
       "       [ 2.15873837,  0.21832553],\n",
       "       [ 1.4431026 ,  0.14380129],\n",
       "       [ 1.77964011,  0.50146479],\n",
       "       [ 3.07652162, -0.68576444],\n",
       "       [ 2.14498686, -0.13890661],\n",
       "       [ 1.90486293, -0.04804751],\n",
       "       [ 1.16885347,  0.1645025 ],\n",
       "       [ 2.10765373, -0.37148225],\n",
       "       [ 2.31430339, -0.18260885],\n",
       "       [ 1.92245088, -0.40927118],\n",
       "       [ 1.41407223,  0.57492506],\n",
       "       [ 2.56332271, -0.2759745 ],\n",
       "       [ 2.41939122, -0.30350394],\n",
       "       [ 1.94401705, -0.18741522],\n",
       "       [ 1.52566363,  0.37502085],\n",
       "       [ 1.76404594, -0.07851919],\n",
       "       [ 1.90162908, -0.11587675],\n",
       "       [ 1.38966613,  0.28288671]])"
      ]
     },
     "execution_count": 33,
     "metadata": {},
     "output_type": "execute_result"
    }
   ],
   "source": [
    "X_r"
   ]
  },
  {
   "cell_type": "code",
   "execution_count": 20,
   "metadata": {
    "collapsed": false
   },
   "outputs": [
    {
     "data": {
      "text/plain": [
       "<matplotlib.text.Text at 0x9b3acf8>"
      ]
     },
     "execution_count": 20,
     "metadata": {},
     "output_type": "execute_result"
    },
    {
     "data": {
      "image/png": "[encoded data removed]",
      "text/plain": [
       "<matplotlib.figure.Figure at 0x95aaef0>"
      ]
     },
     "metadata": {},
     "output_type": "display_data"
    }
   ],
   "source": [
    "#############################\n",
    "### PCA with 2 components  ##\n",
    "#############################\n",
    "\n",
    "\n",
    "pca = decomposition.PCA(n_components=2)\n",
    "X_r = pca.fit_transform(X)\n",
    "\n",
    "plt.figure()\n",
    "for c, i, target_name in zip(\"rgb\", [0, 1, 2], target_names):\n",
    "    plt.scatter(X_r[y == i, 0], X_r[y == i, 1], c=c, label=target_name)\n",
    "plt.legend()\n",
    "plt.title('PCA(2 components) of IRIS dataset')\n"
   ]
  },
  {
   "cell_type": "code",
   "execution_count": 25,
   "metadata": {
    "collapsed": false
   },
   "outputs": [
    {
     "data": {
      "text/plain": [
       "<matplotlib.collections.PathCollection at 0x9de1470>"
      ]
     },
     "execution_count": 25,
     "metadata": {},
     "output_type": "execute_result"
    },
    {
     "data": {
      "image/png": "[encoded data removed]",
      "text/plain": [
       "<matplotlib.figure.Figure at 0x9ab5eb8>"
      ]
     },
     "metadata": {},
     "output_type": "display_data"
    }
   ],
   "source": [
    "\n",
    "X_transformedSK = pca.transform(X)\n",
    "# only 2 columns!!\n",
    "\n",
    "X_reconstituted = pca.inverse_transform(X_transformedSK)\n",
    "# Turn it back into its 4 column using only 2 principal components\n",
    "\n",
    "plt.scatter(X[:,2], X[:,3])"
   ]
  },
  {
   "cell_type": "code",
   "execution_count": 26,
   "metadata": {
    "collapsed": false
   },
   "outputs": [
    {
     "data": {
      "text/plain": [
       "<matplotlib.collections.PathCollection at 0xb207128>"
      ]
     },
     "execution_count": 26,
     "metadata": {},
     "output_type": "execute_result"
    },
    {
     "data": {
      "image/png": "[encoded data removed]",
      "text/plain": [
       "<matplotlib.figure.Figure at 0xa071518>"
      ]
     },
     "metadata": {},
     "output_type": "display_data"
    }
   ],
   "source": [
    "plt.scatter(X_reconstituted[:,2], X_reconstituted[:,3])"
   ]
  },
  {
   "cell_type": "code",
   "execution_count": 28,
   "metadata": {
    "collapsed": false
   },
   "outputs": [
    {
     "ename": "SyntaxError",
     "evalue": "invalid syntax (<ipython-input-28-107e55fe9409>, line 6)",
     "output_type": "error",
     "traceback": [
      "\u001b[0;36m  File \u001b[0;32m\"<ipython-input-28-107e55fe9409>\"\u001b[0;36m, line \u001b[0;32m6\u001b[0m\n\u001b[0;31m    pca =\u001b[0m\n\u001b[0m          ^\u001b[0m\n\u001b[0;31mSyntaxError\u001b[0m\u001b[0;31m:\u001b[0m invalid syntax\n"
     ]
    }
   ],
   "source": [
    "#############################\n",
    "### PCA with 3 components  ##\n",
    "#############################\n",
    "plt.cla()\n",
    "# EXERCISE: change the line below to run the analysis\n",
    "pca = decomposition.PCA(n_components=3)\n",
    "p\n",
    "pca.fit(X)\n",
    "X_3 = pca.transform(X)\n",
    "\n",
    "X_3\n",
    "\n",
    "X_reconstituted = pca.inverse_transform(X_3)\n",
    "\n",
    "# Graph the reconstituted Data set\n",
    "plt.scatter(X[:,2], X[:,3])\n"
   ]
  },
  {
   "cell_type": "code",
   "execution_count": null,
   "metadata": {
    "collapsed": false
   },
   "outputs": [],
   "source": [
    "# EXERCISE\n",
    "# Graph the new projection on reconstituated data\n",
    "\n"
   ]
  },
  {
   "cell_type": "code",
   "execution_count": null,
   "metadata": {
    "collapsed": false
   },
   "outputs": [],
   "source": [
    "#############################\n",
    "### choosing components  ####\n",
    "#############################\n",
    "\n",
    "\n",
    "\n",
    "pca = decomposition.PCA(n_components=4)\n",
    "X_r = pca.fit_transform(X)\n",
    "\n",
    "# Percentage of variance explained for each components\n",
    "print('explained variance ratio (first two components): %s'\n",
    "      % str(pca.explained_variance_ratio_))\n",
    "\n",
    "plt.cla()\n",
    "plt.plot(pca.explained_variance_ratio_)\n",
    "plt.title('Variance explained by each principal component')\n",
    "plt.ylabel(' % Variance Explained')\n",
    "plt.xlabel('Principal component')\n"
   ]
  },
  {
   "cell_type": "code",
   "execution_count": null,
   "metadata": {
    "collapsed": true
   },
   "outputs": [],
   "source": []
  }
 ],
 "metadata": {
  "anaconda-cloud": {},
  "kernelspec": {
   "display_name": "Python [conda root]",
   "language": "python",
   "name": "conda-root-py"
  },
  "language_info": {
   "codemirror_mode": {
    "name": "ipython",
    "version": 2
   },
   "file_extension": ".py",
   "mimetype": "text/x-python",
   "name": "python",
   "nbconvert_exporter": "python",
   "pygments_lexer": "ipython2",
   "version": "2.7.12"
  }
 },
 "nbformat": 4,
 "nbformat_minor": 0
}
