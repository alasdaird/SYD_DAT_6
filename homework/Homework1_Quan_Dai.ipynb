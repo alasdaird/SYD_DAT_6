{
 "cells": [
  {
   "cell_type": "markdown",
   "metadata": {},
   "source": [
    "# SYD DAT 6 Lab 1 - Git and Markdown\n",
    "\n",
    "## Homework:\n",
    "\n",
    "#### Setup\n",
    "* Resolve any installation issues before next class.\n",
    "* Make sure you have a github profile and created a repo called \"SYD_DAT_6\"\n",
    "* Clone the class repo (this one!)\n",
    "* Review this [code](../labs/Week 1/00_python_refresher.py) for a recap of some Python basics.\n",
    "\n",
    "#### Communication\n",
    "* Read [Analyzing the Analyzers](http://cdn.oreillystatic.com/oreilly/radarreport/0636920029014/Analyzing_the_Analyzers.pdf) for a useful look at the different types of data scientists. Write down 5 key points you took away from the article\n",
    "* Read about some [Markdown Techniques](http://daringfireball.net/projects/markdown/syntax)\n",
    "* Write a summary of 2 chapters of [The Data Science Handbook](http://www.thedatasciencehandbook.com/) in Markdown and submit a pull request in the Lab Directory\n",
    "\n",
    "#### Programming\n",
    "* Complete the lab from class and the additional Exercise below\n",
    "\n",
    "#### Course Project\n",
    "* Come up with 5 different ideas for your course project. For each one list:\n",
    "  * Overview of your idea\n",
    "  * What data you will use\n",
    "  * What the outcome is that you are trying to achieve\n",
    "  * Any ideas of modelling techniques it may involve\n",
    "\n",
    "**Instructions: copy this file and append your name in the filename, e.g. Homework1_alasdair_douglas.ipynb.\n",
    "Then commit this in your local repository, push it to your github account and create a pull request so I can see your work. Remeber if you get stuck to look at the slides going over Fork, Clone, Commit, Push and Pull request.**"
   ]
  },
  {
   "cell_type": "markdown",
   "metadata": {},
   "source": [
    "## Exercise Four - Movie Lens Data"
   ]
  },
  {
   "cell_type": "code",
   "execution_count": null,
   "metadata": {
    "collapsed": true
   },
   "outputs": [],
   "source": [
    "# for each occupation in 'users', count the number of occurrences\n",
    "\n",
    "users.occupation.value_counts()\n",
    "\n",
    "# for each occupation, calculate the mean age\n",
    "\n",
    "users.groupby(['occupation']).mean()\n",
    "\n",
    "# for each occupation, calculate the minimum and maximum ages\n",
    "\n",
    "import numpy as np\n",
    "groupbyoccu = users.groupby(['occupation'])\n",
    "groupbyfilt = groupbyoccu['occupation','age']\n",
    "groupbyfilt.agg([np.min,np.max])\n",
    "\n",
    "# for each combination of occupation and gender, calculate the mean age\n",
    "\n",
    "users.groupby(['occupation','gender']).mean()\n",
    "\n",
    "# randomly sample a DataFrame\n",
    "\n",
    "users.sample(n=7)\n",
    "\n",
    "# detect duplicate users\n",
    "\n",
    "dup = users.duplicated(['occupation','age','gender','zip_code'])\n",
    "users[dup]"
   ]
  },
  {
   "cell_type": "markdown",
   "metadata": {},
   "source": [
    "# Data Science Handbook Summary\n",
    "\n",
    "* Data Science is evolving and not just only about the analytics. It is just as important to focus on the communications aspects along with the visualisation and user experience\n",
    "* Data Science is not a solo effort from an individual\n",
    "* Learning data science requires a large time committment and the knowledge and understanding excellerates with extra hours spent.\n",
    "* You don't need to have high level of maths in order to apply data science methods as the tools and resources these days make it more accessible.\n",
    "* Data Science is applicable to both non-profit and profit organisations alike. Alot of insights driven from analysis can be used to make a difference in peoples lives.\n"
   ]
  },
  {
   "cell_type": "markdown",
   "metadata": {},
   "source": [
    "# Course Project Ideas\n",
    "\n",
    "Idea 1 : Analysis (inference) of churn in sales data at a professional services firm:\n",
    "\n",
    "* Data that will be used: Pipeline sales data for the last financial year. We have the win/loss reasons along with attributes of the particular client i.e. industry, type of work etc.\n",
    "* Outcomes: Are there other underlying reasons/trends as to why we win/lose proposals.\n",
    "* Techniques: Non-negative matrix factorisation (per analysising the analysers article). K nearest neighbours.\n",
    "\n",
    "Idea 2 : Prediction of win/loss sales data at a professional services firm:\n",
    "\n",
    "* Data that will be used: Pipeline sales data for the last financial year. We have the win/loss reasons along with attributes of the particular client i.e. industry, type of work etc.\n",
    "* Outcomes: Predict for each proposal based on factors if we would win or lose the sales.\n",
    "* Techniques: Linear regression.\n",
    "\n",
    "Idea 3 : Look at people survey data at professional services firm and see if there is an under lying reasons for happiness or unhappiness:\n",
    "\n",
    "* Staff survey results from the last people survey\n",
    "* Outcomes: Are there any under lying reasons/trends for happiness and unhappiness.\n",
    "* Techniques: Non-negative matrix factorisation. K nearest neighbours.\n",
    "\n",
    "Idea 4 : Look at the profitability of work done by professional services firm and see how adding offshore contractor hours impacts profitability:\n",
    "\n",
    "* Profitability by job for last financial year.\n",
    "* Outcomes: Does having a high offshore leverage increase profitability?\n",
    "* Techniques: Linear regression.\n",
    "\n",
    "Idea 5 : Draw inferences on the staff mix at a professional services:\n",
    "\n",
    "* Staff mix and profitability data for the last financial year.\n",
    "* Outcomes: What leverage is the \"best\" leverage to have (if there is such a thing?)\n",
    "* Techniques: Linear regression or other types of regression.\n",
    "\n",
    "\n"
   ]
  },
  {
   "cell_type": "code",
   "execution_count": null,
   "metadata": {
    "collapsed": true
   },
   "outputs": [],
   "source": []
  },
  {
   "cell_type": "code",
   "execution_count": null,
   "metadata": {
    "collapsed": true
   },
   "outputs": [],
   "source": []
  }
 ],
 "metadata": {
  "anaconda-cloud": {},
  "kernelspec": {
   "display_name": "Python [default]",
   "language": "python",
   "name": "python2"
  },
  "language_info": {
   "codemirror_mode": {
    "name": "ipython",
    "version": 2
   },
   "file_extension": ".py",
   "mimetype": "text/x-python",
   "name": "python",
   "nbconvert_exporter": "python",
   "pygments_lexer": "ipython2",
   "version": "2.7.12"
  }
 },
 "nbformat": 4,
 "nbformat_minor": 0
}
