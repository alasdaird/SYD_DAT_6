{
 "cells": [
  {
   "cell_type": "markdown",
   "metadata": {},
   "source": [
    "# SYD DAT 6 Homework 2 - Visualisation, Regression and Classification\n",
    "\n",
    "## Homework - Due Monday 14th November 2016\n",
    "\n",
    "All responses should be written in markdown or code in this document.\n",
    "\n",
    "----\n",
    "\n",
    "#### Setup\n",
    "* Signup for an AWS account\n",
    "\n",
    "#### Python Programming Skills\n",
    "* Complete all the labs\n",
    "* Experiment with tutorials 1 & 2 from https://github.com/fonnesbeck/statistical-analysis-python-tutorial\n",
    "* Referring to the prior labs perform some simple analysis of the titanic.csv dataset using python\n",
    "    * Load the data set titanic.csv\n",
    "    * Produce 1 simple visualisation with matplotlib/seaborn/pandas visualisation libraries to show the distribution of ages\n",
    "    * How many male 3rd class passengers survived and how many did not survive\n",
    "    * How many female 1st class passengers survived and how many did not survive\n",
    "    * Produce a table grouped by class that shows:\n",
    "        * Percent survived\n",
    "        * Average fare\n",
    "    \n",
    "\n",
    "#### Machine Learning Theory\n",
    "* Reading that was required during the course from Introduction to Statistical Learning\n",
    "    * Chapter 3 - Linear Regression\n",
    "    * Chapter 4 - 4.1, 4.2, 4.3  - Classification\n",
    "    * Chapter 5 - 5.1 - Cross Validation\n",
    "    * Chapter 6 - 6.1, 6.2, 6.3 - Dimensionality\n",
    "* Complete all the labs\n",
    "* Describe what technique you might apply to predict whether a person has AIDs. What could you do to reduce the probability that the solution mistakenly predicts that a person does not have AIDs, when in fact they do?\n",
    "\n",
    "\n",
    "#### Visualisation\n",
    "* Drawing from Keegan from Optus' talk, your own experience or any other source, describe what you believe are the 3 most important considerations in producing a visualisation.\n",
    "* Name 3 types of plots you can think of to address each of the following situations:\n",
    "    * Show the distribution of a single variable\n",
    "    * Show a relationship between two variables\n",
    "    * Compare two or more variables\n",
    "\n",
    "\n",
    "#### Communication\n",
    "* Imagine you are trying to explain to someone what Linear Regression is - but they have no programming/maths experience? How would you explain the overall process, what R-Squared means and how to interpret the coefficients?\n",
    "* Read the paper [Useful things to know about machine learning]( https://homes.cs.washington.edu/~pedrod/papers/cacm12.pdf). \n",
    "    * What have we covered so far from this paper? \n",
    "    * Explain sections 6-13 in your own words\n",
    "\n",
    "\n",
    "#### Course Project\n",
    "* Set up a new github repository for your project.\n",
    "    * If there is any sensitive data or material in your project, make it a private repository - but check with us first. For most of you this will not be necessary. Generally you would exclude data from git tracking - this can be achieved with the .gitignore file. Don't worry about excluding files from git if you are using smaller, public datasets.\n",
    "    * Once you have established the github repository for your project, share the URL for the repository with Alasdair and Louis via Slack. If it is a private repository you will additionally need to give Alasdair and Louis permissions. \n",
    "* Load the data you have gathered for your project into Python and run some summary statistics over the data. Are there any interesting features of the data that jump out? (Include the code)\n",
    "* Draft/Sketch on paper (or wireframe) some data visualisations that would be useful for you to explore your data set\n",
    "* Are there any regression or clustering techniques you could use in your project? Write them down (with the corresponding scikit learn function) and what you think you would get out of it.\n",
    "\n",
    "\n",
    "**Instructions: copy this file and append your name in the filename, e.g. Homework2_alasdaird.ipynb.\n",
    "Then commit this in your local repository, push it to your github account and create a pull request so I can see your work. Remeber if you get stuck to look at the slides going over Fork, Clone, Commit, Push and Pull request.**"
   ]
  },
  {
   "cell_type": "markdown",
   "metadata": {},
   "source": [
    "#### Python Programming Skills"
   ]
  },
  {
   "cell_type": "code",
   "execution_count": 404,
   "metadata": {
    "collapsed": false
   },
   "outputs": [
    {
     "data": {
      "text/html": [
       "<div>\n",
       "<table border=\"1\" class=\"dataframe\">\n",
       "  <thead>\n",
       "    <tr style=\"text-align: right;\">\n",
       "      <th></th>\n",
       "      <th>PassengerId</th>\n",
       "      <th>Survived</th>\n",
       "      <th>Pclass</th>\n",
       "      <th>Name</th>\n",
       "      <th>Sex</th>\n",
       "      <th>Age</th>\n",
       "      <th>SibSp</th>\n",
       "      <th>Parch</th>\n",
       "      <th>Ticket</th>\n",
       "      <th>Fare</th>\n",
       "      <th>Cabin</th>\n",
       "      <th>Embarked</th>\n",
       "    </tr>\n",
       "  </thead>\n",
       "  <tbody>\n",
       "    <tr>\n",
       "      <th>0</th>\n",
       "      <td>1</td>\n",
       "      <td>0</td>\n",
       "      <td>3</td>\n",
       "      <td>Braund, Mr. Owen Harris</td>\n",
       "      <td>male</td>\n",
       "      <td>22.0</td>\n",
       "      <td>1</td>\n",
       "      <td>0</td>\n",
       "      <td>A/5 21171</td>\n",
       "      <td>7.2500</td>\n",
       "      <td>NaN</td>\n",
       "      <td>S</td>\n",
       "    </tr>\n",
       "    <tr>\n",
       "      <th>1</th>\n",
       "      <td>2</td>\n",
       "      <td>1</td>\n",
       "      <td>1</td>\n",
       "      <td>Cumings, Mrs. John Bradley (Florence Briggs Th...</td>\n",
       "      <td>female</td>\n",
       "      <td>38.0</td>\n",
       "      <td>1</td>\n",
       "      <td>0</td>\n",
       "      <td>PC 17599</td>\n",
       "      <td>71.2833</td>\n",
       "      <td>C85</td>\n",
       "      <td>C</td>\n",
       "    </tr>\n",
       "  </tbody>\n",
       "</table>\n",
       "</div>"
      ],
      "text/plain": [
       "   PassengerId  Survived  Pclass  \\\n",
       "0            1         0       3   \n",
       "1            2         1       1   \n",
       "\n",
       "                                                Name     Sex   Age  SibSp  \\\n",
       "0                            Braund, Mr. Owen Harris    male  22.0      1   \n",
       "1  Cumings, Mrs. John Bradley (Florence Briggs Th...  female  38.0      1   \n",
       "\n",
       "   Parch     Ticket     Fare Cabin Embarked  \n",
       "0      0  A/5 21171   7.2500   NaN        S  \n",
       "1      0   PC 17599  71.2833   C85        C  "
      ]
     },
     "execution_count": 404,
     "metadata": {},
     "output_type": "execute_result"
    }
   ],
   "source": [
    "#Load the data set titanic.csv\n",
    "import pandas as pd\n",
    "\n",
    "titanic = pd.read_csv('titanic.csv')  \n",
    "\n",
    "titanic.head(2)"
   ]
  },
  {
   "cell_type": "code",
   "execution_count": 405,
   "metadata": {
    "collapsed": false
   },
   "outputs": [
    {
     "data": {
      "text/plain": [
       "<matplotlib.text.Text at 0x11c2a64d0>"
      ]
     },
     "execution_count": 405,
     "metadata": {},
     "output_type": "execute_result"
    },
    {
     "data": {
      "image/png": "[encoded data removed]",
      "text/plain": [
       "<matplotlib.figure.Figure at 0x11b990110>"
      ]
     },
     "metadata": {},
     "output_type": "display_data"
    }
   ],
   "source": [
    "#Produce 1 simple visualisation with matplotlib/seaborn/pandas visualisation \n",
    "#libraries to show the distribution of ages\n",
    "\n",
    "#matplotlib\n",
    "%matplotlib inline\n",
    "\n",
    "import numpy as np\n",
    "import seaborn as sns\n",
    "\n",
    "import matplotlib.pyplot as plt\n",
    "\n",
    "sns.set()\n",
    "plt.style.use('ggplot') # This styles the graphs in a nicer format\n",
    "titanic.Age.plot(kind='density')\n",
    "plt.xlabel('Age')\n",
    "\n",
    "\n",
    "#pandas\n"
   ]
  },
  {
   "cell_type": "code",
   "execution_count": 399,
   "metadata": {
    "collapsed": false
   },
   "outputs": [
    {
     "data": {
      "text/plain": [
       "0    300\n",
       "1     47\n",
       "Name: Survived, dtype: int64"
      ]
     },
     "execution_count": 399,
     "metadata": {},
     "output_type": "execute_result"
    }
   ],
   "source": [
    "#How many male 3rd class passengers survived and how many did not survive\n",
    "titanic[(titanic.Sex=='male') & (titanic.Pclass==3)].Survived.value_counts() \n",
    "       # (titanic.Survived==1)\n",
    "       \n",
    "# 0 - did not sirvive\n",
    "# 1 - survived\n"
   ]
  },
  {
   "cell_type": "code",
   "execution_count": 402,
   "metadata": {
    "collapsed": false
   },
   "outputs": [
    {
     "data": {
      "text/plain": [
       "1    91\n",
       "0     3\n",
       "Name: Survived, dtype: int64"
      ]
     },
     "execution_count": 402,
     "metadata": {},
     "output_type": "execute_result"
    }
   ],
   "source": [
    "#How many female 1st class passengers survived and how many did not survive\n",
    "titanic[(titanic.Sex=='female') & (titanic.Pclass==1)].Survived.value_counts()\n",
    "\n",
    "# 0 - did not sirvive\n",
    "# 1 - survived"
   ]
  },
  {
   "cell_type": "code",
   "execution_count": 403,
   "metadata": {
    "collapsed": false
   },
   "outputs": [
    {
     "data": {
      "text/html": [
       "<div>\n",
       "<table border=\"1\" class=\"dataframe\">\n",
       "  <thead>\n",
       "    <tr style=\"text-align: right;\">\n",
       "      <th></th>\n",
       "      <th>Fare</th>\n",
       "      <th>Survived</th>\n",
       "    </tr>\n",
       "    <tr>\n",
       "      <th>Pclass</th>\n",
       "      <th></th>\n",
       "      <th></th>\n",
       "    </tr>\n",
       "  </thead>\n",
       "  <tbody>\n",
       "    <tr>\n",
       "      <th>1</th>\n",
       "      <td>84.154687</td>\n",
       "      <td>62</td>\n",
       "    </tr>\n",
       "    <tr>\n",
       "      <th>2</th>\n",
       "      <td>20.662183</td>\n",
       "      <td>47</td>\n",
       "    </tr>\n",
       "    <tr>\n",
       "      <th>3</th>\n",
       "      <td>13.675550</td>\n",
       "      <td>24</td>\n",
       "    </tr>\n",
       "  </tbody>\n",
       "</table>\n",
       "</div>"
      ],
      "text/plain": [
       "             Fare  Survived\n",
       "Pclass                     \n",
       "1       84.154687        62\n",
       "2       20.662183        47\n",
       "3       13.675550        24"
      ]
     },
     "execution_count": 403,
     "metadata": {},
     "output_type": "execute_result"
    }
   ],
   "source": [
    "#Produce a table grouped by class that shows:\n",
    "#Percent survived\n",
    "#Average fare\n",
    "\n",
    "titanic.groupby(['Pclass']).agg(                                \n",
    "                    {'Fare':\"mean\",                      \n",
    "                      'Survived': lambda x: x.sum()*100/x.count()\n",
    "                    }) "
   ]
  },
  {
   "cell_type": "markdown",
   "metadata": {
    "collapsed": true
   },
   "source": [
    "#### Machine Learning Theory\n",
    "* Describe what technique you might apply to predict whether a person has AIDs. What could you do to reduce the probability that the solution mistakenly predicts that a person does not have AIDs, when in fact they do?\n",
    "\n",
    "\n",
    "-\n",
    "    Prediction of AIDs is a classification problem and I would use Logistic regression to solve it. Confusion matrix should be used to reduce probability of false predictions (Actual = Yes, Predicted = No)\n"
   ]
  },
  {
   "cell_type": "markdown",
   "metadata": {},
   "source": [
    "#### Visualisation\n",
    "* Drawing from Keegan from Optus' talk, your own experience or any other source, describe what you believe are the 3 most important considerations in producing a visualisation.\n",
    "\n",
    "-\n",
    "\n",
    "    1.Design for your audience\n",
    "\n",
    "    2.Accurately represent the data\n",
    "\n",
    "    3.Keep it clear\n",
    "\n",
    "\n"
   ]
  },
  {
   "cell_type": "markdown",
   "metadata": {
    "collapsed": true
   },
   "source": [
    "* Name 3 types of plots you can think of to address each of the following situations:\n",
    "    * Show the distribution of a single variable\n",
    "            1) plot, boxplot, hist   \n",
    "    \n",
    "    * Show a relationship between two variables\n",
    "            2) plot\n",
    "    \n",
    "    * Compare two or more variables\n",
    "            3) hist, boxplot, plot"
   ]
  },
  {
   "cell_type": "markdown",
   "metadata": {
    "collapsed": true
   },
   "source": [
    "#### Communication\n",
    "* Imagine you are trying to explain to someone what Linear Regression is - but they have no programming/maths experience? How would you explain the overall process, what R-Squared means and how to interpret the coefficients?\n",
    "\n",
    "\n",
    "\n",
    "Linear regression is an approach for modelling the relationship between two or more variables and we do not know what the relationship between them is. We look at some situation, find x value and y value and plot them. Then we try to find estimates for the relationships, we find the best fit line, trying to minimize the distance between each point and this line.\n",
    "\n",
    "Then we setup some type of equation yi=b0 + b1xi + ui \n",
    "\n",
    "ui - residual\n",
    "b0 - y intercept \n",
    "b1 estimator of interest\n",
    "y,x - values we've got\n",
    "\n",
    "In general, a model fits the data well if the differences between the observed values and the model's predicted values are small and unbiased.\n",
    "\n",
    "R-squared is a statistical measure of how close the data are to the fitted regression line. \n",
    "\n",
    "The definition of R-squared is fairly straight-forward: R-squared = Explained variation / Total variation\n",
    "\n",
    "R-squared is always between 0 and 1:\n",
    "\n",
    "0 indicates that the model explains none of the variability of the response data around its mean.\n",
    "1 indicates that the model explains all the variability of the response data around its mean.\n",
    "\n",
    "In general, the higher the R-squared, the better the model fits your data.\n",
    "\n",
    "\n",
    "* Read the paper [Useful things to know about machine learning]( https://homes.cs.washington.edu/~pedrod/papers/cacm12.pdf). \n",
    "    * What have we covered so far from this paper? \n",
    "    * Explain sections 6-13 in your own words\n",
    "\n",
    "\n",
    "    \n",
    "-\n",
    "We covered: Genralization/ Oerfitiing/ Bias + Variance, Cross-validation. \n",
    "We also covered Point13: Correlation does not imply causation. \n",
    "\n",
    "\n",
    "This article summarized some of the most crucial points related to machine. \n",
    "\n",
    "    1) Generalizing correctly becomes exponentially harder as the dimensionality\n",
    "    2) The main goal of theoretical guarantees in machine learning is not as a criterion for practical decisions, but as a source of understanding and driving force for algorithm design\n",
    "    3) The most important factor in secceding of ML projects is the features used.\n",
    "    4) A dumb algorithm with lots and lots of data beats a clever one with modest amounts of it.\n",
    "    5) Many variations combined (and at little extra effort for the user) give better result than selection of best variation found\n",
    "    6) Entities should not be multiplied beyond necessity. There are many counter examples to the belief that given two classifiers with the same training error, the simpler of the two will likely have the lowest test error. \n",
    "    7) The key question is not “Can it be represented?”, but “Can it be learned?”"
   ]
  },
  {
   "cell_type": "markdown",
   "metadata": {
    "collapsed": true
   },
   "source": [
    "#### Course Project\n",
    "in a process..."
   ]
  },
  {
   "cell_type": "code",
   "execution_count": null,
   "metadata": {
    "collapsed": true
   },
   "outputs": [],
   "source": []
  }
 ],
 "metadata": {
  "anaconda-cloud": {},
  "celltoolbar": "Edit Metadata",
  "kernelspec": {
   "display_name": "Python [default]",
   "language": "python",
   "name": "python2"
  },
  "language_info": {
   "codemirror_mode": {
    "name": "ipython",
    "version": 2
   },
   "file_extension": ".py",
   "mimetype": "text/x-python",
   "name": "python",
   "nbconvert_exporter": "python",
   "pygments_lexer": "ipython2",
   "version": "2.7.12"
  }
 },
 "nbformat": 4,
 "nbformat_minor": 0
}
