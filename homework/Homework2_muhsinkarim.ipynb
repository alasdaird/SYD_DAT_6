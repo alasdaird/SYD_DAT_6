{
 "cells": [
  {
   "cell_type": "markdown",
   "metadata": {},
   "source": [
    "# SYD DAT 6 Homework 2 - Visualisation, Regression and Classification\n",
    "\n",
    "## Homework - Due Monday 14th November 2016\n",
    "\n",
    "All responses should be written in markdown or code in this document.\n",
    "\n",
    "----\n",
    "\n",
    "#### Setup\n",
    "* Signup for an AWS account\n",
    "\n",
    "#### Python Programming Skills\n",
    "* Complete all the labs\n",
    "* Experiment with tutorials 1 & 2 from https://github.com/fonnesbeck/statistical-analysis-python-tutorial\n",
    "* Referring to the prior labs perform some simple analysis of the titanic.csv dataset using python\n",
    "    * Load the data set titanic.csv\n",
    "    * Produce 1 simple visualisation with matplotlib/seaborn/pandas visualisation libraries to show the distribution of ages\n",
    "    * How many male 3rd class passengers survived and how many did not survive\n",
    "    * How many female 1st class passengers survived and how many did not survive\n",
    "    * Produce a table grouped by class that shows:\n",
    "        * Percent survived\n",
    "        * Average fare\n",
    "    \n",
    "\n",
    "#### Machine Learning Theory\n",
    "* Reading that was required during the course from Introduction to Statistical Learning\n",
    "    * Chapter 3 - Linear Regression\n",
    "    * Chapter 4 - 4.1, 4.2, 4.3  - Classification\n",
    "    * Chapter 5 - 5.1 - Cross Validation\n",
    "    * Chapter 6 - 6.1, 6.2, 6.3 - Dimensionality\n",
    "* Complete all the labs\n",
    "* Describe what technique you might apply to predict whether a person has AIDs. What could you do to reduce the probability that the solution mistakenly predicts that a person does not have AIDs, when in fact they do?\n",
    "\n",
    "\n",
    "#### Visualisation\n",
    "* Drawing from Keegan from Optus' talk, your own experience or any other source, describe what you believe are the 3 most important considerations in producing a visualisation.\n",
    "* Name 3 types of plots you can think of to address each of the following situations:\n",
    "    * Show the distribution of a single variable\n",
    "    * Show a relationship between two variables\n",
    "    * Compare two or more variables\n",
    "\n",
    "\n",
    "#### Communication\n",
    "* Imagine you are trying to explain to someone what Linear Regression is - but they have no programming/maths experience? How would you explain the overall process, what R-Squared means and how to interpret the coefficients?\n",
    "* Read the paper [Useful things to know about machine learning]( https://homes.cs.washington.edu/~pedrod/papers/cacm12.pdf). \n",
    "    * What have we covered so far from this paper? \n",
    "    * Explain sections 6-13 in your own words\n",
    "\n",
    "\n",
    "#### Course Project\n",
    "* Set up a new github repository for your project.\n",
    "    * If there is any sensitive data or material in your project, make it a private repository - but check with us first. For most of you this will not be necessary. Generally you would exclude data from git tracking - this can be achieved with the .gitignore file. Don't worry about excluding files from git if you are using smaller, public datasets.\n",
    "    * Once you have established the github repository for your project, share the URL for the repository with Alasdair and Louis via Slack. If it is a private repository you will additionally need to give Alasdair and Louis permissions. \n",
    "* Load the data you have gathered for your project into Python and run some summary statistics over the data. Are there any interesting features of the data that jump out? (Include the code)\n",
    "* Draft/Sketch on paper (or wireframe) some data visualisations that would be useful for you to explore your data set\n",
    "* Are there any regression or clustering techniques you could use in your project? Write them down (with the corresponding scikit learn function) and what you think you would get out of it.\n",
    "\n",
    "\n",
    "**Instructions: copy this file and append your name in the filename, e.g. Homework2_alasdaird.ipynb.\n",
    "Then commit this in your local repository, push it to your github account and create a pull request so I can see your work. Remeber if you get stuck to look at the slides going over Fork, Clone, Commit, Push and Pull request.**"
   ]
  },
  {
   "cell_type": "markdown",
   "metadata": {},
   "source": [
    "\n",
    "# Homework reponses"
   ]
  },
  {
   "cell_type": "markdown",
   "metadata": {},
   "source": [
    "### Setup\n",
    "\n",
    "**Signup for an AWS account**"
   ]
  },
  {
   "cell_type": "markdown",
   "metadata": {},
   "source": [
    "### Python Programming Skills\n",
    "\n",
    "**Complete all the labs**\n",
    "\n",
    "**Experiment with tutorials 1 & 2 from https://github.com/fonnesbeck/statistical-analysis-python-tutorial**\n",
    "\n",
    "Completed, accept for the few exercices in the tutorials. I can see the similarities between Pandas operations and operations with dplyr/tidyr in R.\n",
    "\n",
    "**Referring to the prior labs perform some simple analysis of the titanic.csv dataset using python**\n",
    "\n",
    "**Load the data set titanic.csv**"
   ]
  },
  {
   "cell_type": "code",
   "execution_count": 3,
   "metadata": {
    "collapsed": false
   },
   "outputs": [
    {
     "data": {
      "text/html": [
       "<div>\n",
       "<table border=\"1\" class=\"dataframe\">\n",
       "  <thead>\n",
       "    <tr style=\"text-align: right;\">\n",
       "      <th></th>\n",
       "      <th>Survived</th>\n",
       "      <th>Pclass</th>\n",
       "      <th>Name</th>\n",
       "      <th>Sex</th>\n",
       "      <th>Age</th>\n",
       "      <th>SibSp</th>\n",
       "      <th>Parch</th>\n",
       "      <th>Ticket</th>\n",
       "      <th>Fare</th>\n",
       "      <th>Cabin</th>\n",
       "      <th>Embarked</th>\n",
       "    </tr>\n",
       "    <tr>\n",
       "      <th>PassengerId</th>\n",
       "      <th></th>\n",
       "      <th></th>\n",
       "      <th></th>\n",
       "      <th></th>\n",
       "      <th></th>\n",
       "      <th></th>\n",
       "      <th></th>\n",
       "      <th></th>\n",
       "      <th></th>\n",
       "      <th></th>\n",
       "      <th></th>\n",
       "    </tr>\n",
       "  </thead>\n",
       "  <tbody>\n",
       "    <tr>\n",
       "      <th>1</th>\n",
       "      <td>0</td>\n",
       "      <td>3</td>\n",
       "      <td>Braund, Mr. Owen Harris</td>\n",
       "      <td>male</td>\n",
       "      <td>22.0</td>\n",
       "      <td>1</td>\n",
       "      <td>0</td>\n",
       "      <td>A/5 21171</td>\n",
       "      <td>7.2500</td>\n",
       "      <td>NaN</td>\n",
       "      <td>S</td>\n",
       "    </tr>\n",
       "    <tr>\n",
       "      <th>2</th>\n",
       "      <td>1</td>\n",
       "      <td>1</td>\n",
       "      <td>Cumings, Mrs. John Bradley (Florence Briggs Th...</td>\n",
       "      <td>female</td>\n",
       "      <td>38.0</td>\n",
       "      <td>1</td>\n",
       "      <td>0</td>\n",
       "      <td>PC 17599</td>\n",
       "      <td>71.2833</td>\n",
       "      <td>C85</td>\n",
       "      <td>C</td>\n",
       "    </tr>\n",
       "    <tr>\n",
       "      <th>3</th>\n",
       "      <td>1</td>\n",
       "      <td>3</td>\n",
       "      <td>Heikkinen, Miss. Laina</td>\n",
       "      <td>female</td>\n",
       "      <td>26.0</td>\n",
       "      <td>0</td>\n",
       "      <td>0</td>\n",
       "      <td>STON/O2. 3101282</td>\n",
       "      <td>7.9250</td>\n",
       "      <td>NaN</td>\n",
       "      <td>S</td>\n",
       "    </tr>\n",
       "    <tr>\n",
       "      <th>4</th>\n",
       "      <td>1</td>\n",
       "      <td>1</td>\n",
       "      <td>Futrelle, Mrs. Jacques Heath (Lily May Peel)</td>\n",
       "      <td>female</td>\n",
       "      <td>35.0</td>\n",
       "      <td>1</td>\n",
       "      <td>0</td>\n",
       "      <td>113803</td>\n",
       "      <td>53.1000</td>\n",
       "      <td>C123</td>\n",
       "      <td>S</td>\n",
       "    </tr>\n",
       "    <tr>\n",
       "      <th>5</th>\n",
       "      <td>0</td>\n",
       "      <td>3</td>\n",
       "      <td>Allen, Mr. William Henry</td>\n",
       "      <td>male</td>\n",
       "      <td>35.0</td>\n",
       "      <td>0</td>\n",
       "      <td>0</td>\n",
       "      <td>373450</td>\n",
       "      <td>8.0500</td>\n",
       "      <td>NaN</td>\n",
       "      <td>S</td>\n",
       "    </tr>\n",
       "  </tbody>\n",
       "</table>\n",
       "</div>"
      ],
      "text/plain": [
       "             Survived  Pclass  \\\n",
       "PassengerId                     \n",
       "1                   0       3   \n",
       "2                   1       1   \n",
       "3                   1       3   \n",
       "4                   1       1   \n",
       "5                   0       3   \n",
       "\n",
       "                                                          Name     Sex   Age  \\\n",
       "PassengerId                                                                    \n",
       "1                                      Braund, Mr. Owen Harris    male  22.0   \n",
       "2            Cumings, Mrs. John Bradley (Florence Briggs Th...  female  38.0   \n",
       "3                                       Heikkinen, Miss. Laina  female  26.0   \n",
       "4                 Futrelle, Mrs. Jacques Heath (Lily May Peel)  female  35.0   \n",
       "5                                     Allen, Mr. William Henry    male  35.0   \n",
       "\n",
       "             SibSp  Parch            Ticket     Fare Cabin Embarked  \n",
       "PassengerId                                                          \n",
       "1                1      0         A/5 21171   7.2500   NaN        S  \n",
       "2                1      0          PC 17599  71.2833   C85        C  \n",
       "3                0      0  STON/O2. 3101282   7.9250   NaN        S  \n",
       "4                1      0            113803  53.1000  C123        S  \n",
       "5                0      0            373450   8.0500   NaN        S  "
      ]
     },
     "execution_count": 3,
     "metadata": {},
     "output_type": "execute_result"
    }
   ],
   "source": [
    "import pandas as pd\n",
    "import os\n",
    "\n",
    "os.chdir('/Users/muhsinkarim/SYD_DAT_6/labs/Week 3/Logistic Regresison Lab')\n",
    "titanic = pd.read_csv('titanic.csv', index_col='PassengerId')\n",
    "titanic.head()"
   ]
  },
  {
   "cell_type": "markdown",
   "metadata": {},
   "source": [
    "**Produce 1 simple visualisation with matplotlib/seaborn/pandas visualisation libraries to show the distribution of ages**"
   ]
  },
  {
   "cell_type": "code",
   "execution_count": 16,
   "metadata": {
    "collapsed": false
   },
   "outputs": [
    {
     "ename": "IndentationError",
     "evalue": "unexpected indent (<ipython-input-16-416b478fca7c>, line 8)",
     "output_type": "error",
     "traceback": [
      "\u001b[0;36m  File \u001b[0;32m\"<ipython-input-16-416b478fca7c>\"\u001b[0;36m, line \u001b[0;32m8\u001b[0m\n\u001b[0;31m    plt.bar([1,3,5,7,9],[5,2,7,8,2], label=\"Example one\")\u001b[0m\n\u001b[0m    ^\u001b[0m\n\u001b[0;31mIndentationError\u001b[0m\u001b[0;31m:\u001b[0m unexpected indent\n"
     ]
    }
   ],
   "source": [
    "#import matplotlib.pyplot as plt\n",
    "\n",
    "#titanic['Age'].value_counts()\n",
    "\n",
    "#.plot(kind='bar', title='Age distribution on the Titanic')\n",
    "\n",
    "import matplotlib.pyplot as plt\n",
    "    plt.bar([1,3,5,7,9],[5,2,7,8,2], label=\"Example one\")\n",
    "\n",
    "plt.bar([2,4,6,8,10],[8,6,2,5,6], label=\"Example two\", color='g')\n",
    "plt.legend()\n",
    "plt.xlabel('bar number')\n",
    "plt.ylabel('bar height')\n",
    "\n",
    "plt.title('Epic Graph\\nAnother Line! Whoa')\n",
    "\n",
    "plt.show()\n"
   ]
  },
  {
   "cell_type": "markdown",
   "metadata": {},
   "source": [
    "**How many male 3rd class passengers survived and how many did not survive**"
   ]
  },
  {
   "cell_type": "code",
   "execution_count": null,
   "metadata": {
    "collapsed": true
   },
   "outputs": [],
   "source": []
  },
  {
   "cell_type": "markdown",
   "metadata": {},
   "source": [
    "**How many female 1st class passengers survived and how many did not survive**"
   ]
  },
  {
   "cell_type": "code",
   "execution_count": null,
   "metadata": {
    "collapsed": true
   },
   "outputs": [],
   "source": []
  },
  {
   "cell_type": "markdown",
   "metadata": {},
   "source": [
    "**Produce a table grouped by class that shows:**\n",
    "\n",
    "_Percent survived_\n",
    "\n",
    "_Average fare_"
   ]
  },
  {
   "cell_type": "markdown",
   "metadata": {
    "collapsed": true
   },
   "source": [
    "### Machine Learning Theory\n",
    "**Reading that was required during the course from Introduction to Statistical Learning**\n",
    "\n",
    "_Chapter 3 - Linear Regression_\n",
    "\n",
    "_Chapter 4 - 4.1, 4.2, 4.3  - Classification_\n",
    "\n",
    "_Chapter 5 - 5.1 - Cross Validation_\n",
    "\n",
    "_Chapter 6 - 6.1, 6.2, 6.3 - Dimensionality_\n",
    "\n",
    "**Complete all the labs**\n",
    "\n",
    "**Describe what technique you might apply to predict whether a person has AIDs. What could you do to reduce the probability that the solution mistakenly predicts that a person does not have AIDs, when in fact they do?**"
   ]
  },
  {
   "cell_type": "markdown",
   "metadata": {},
   "source": [
    "### Visualisation\n",
    "\n",
    "**Drawing from Keegan from Optus' talk, your own experience or any other source, describe what you believe are the 3 most important considerations in producing a visualisation.**\n",
    "\n",
    "1) The visualisation shoud speak for itself - if it requires extensive explaination, then it's too complicated. \n",
    "2) Depending on what is displayed, visualisations can convey different conclusions. Additional layers of details, such as another branch of a decision tree, will present a different interpretation. \n",
    "3)\n",
    "\n",
    "\n",
    "**Name 3 types of plots you can think of to address each of the following situations:**\n",
    "\n",
    "_Show the distribution of a single variable_\n",
    "\n",
    "_Show a relationship between two variables_\n",
    "\n",
    "_Compare two or more variables_"
   ]
  },
  {
   "cell_type": "markdown",
   "metadata": {},
   "source": [
    "### Communication\n",
    "\n",
    "**Imagine you are trying to explain to someone what Linear Regression is - but they have no programming/maths experience? How would you explain the overall process, what R-Squared means and how to interpret the coefficients?**\n",
    "\n",
    "**Read the paper [Useful things to know about machine learning]( https://homes.cs.washington.edu/~pedrod/papers/cacm12.pdf).**\n",
    "\n",
    "_What have we covered so far from this paper?_\n",
    "\n",
    "_Explain sections 6-13 in your own words_"
   ]
  },
  {
   "cell_type": "markdown",
   "metadata": {},
   "source": [
    "### Course Project\n",
    "\n",
    "**Set up a new github repository for your project.**\n",
    "\n",
    "As incidcated, I will be working with confiendtial work data for my project and am unable to upload this data onto GitHub for neither a public or private account.\n",
    "\n",
    "I have created the following project repo to host outputs and reports from project work: https://github.com/muhsinkarim/ga_project\n",
    "\n",
    "\n",
    "**Load the data you have gathered for your project into Python and run some summary statistics over the data. Are there any interesting features of the data that jump out? (Include the code)**\n",
    "\n",
    "**Draft/Sketch on paper (or wireframe) some data visualisations that would be useful for you to explore your data set**\n",
    "\n",
    "**Are there any regression or clustering techniques you could use in your project? Write them down (with the corresponding scikit learn function) and what you think you would get out of it.**"
   ]
  }
 ],
 "metadata": {
  "anaconda-cloud": {},
  "kernelspec": {
   "display_name": "Python [default]",
   "language": "python",
   "name": "python2"
  },
  "language_info": {
   "codemirror_mode": {
    "name": "ipython",
    "version": 2
   },
   "file_extension": ".py",
   "mimetype": "text/x-python",
   "name": "python",
   "nbconvert_exporter": "python",
   "pygments_lexer": "ipython2",
   "version": "2.7.12"
  }
 },
 "nbformat": 4,
 "nbformat_minor": 0
}
