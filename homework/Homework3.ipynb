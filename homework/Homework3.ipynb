{
 "cells": [
  {
   "cell_type": "markdown",
   "metadata": {},
   "source": [
    "# SYD DAT 6 \n",
    "\n",
    "## Homework - Due Monday 28th November 2016\n",
    "\n",
    "#### Course Project homework\n",
    "Share with a me a Jupyter notebook containing the following:\n",
    "* Data read into python in a data frame\n",
    "* A statistical summary of your data\n",
    "* A visualisation of your data\n",
    "* One of the following with your data; Linear or Logistic Regression (with regularization), or Clustering.\n",
    "* A written summary at the end describing your data\n",
    "\n",
    "#### Bonus\n",
    "Pick one data science topic that interests you, could be an article, or how a Kaggle competition was won, or an article incorporating data journalism. Write a short blog post (2 pages) with some visualisations where you discuss what was interesting.\n",
    "\n",
    "**Instructions: share the notebook and any other docuements with your name on the file e.g. _alasdaird.ipynb.\n",
    "Then commit this in your local repository, push it to your github account and create a pull request so I can see your work. Remeber if you get stuck to look at the slides going over Fork, Clone, Commit, Push and Pull request.**"
   ]
  },
  {
   "cell_type": "code",
   "execution_count": null,
   "metadata": {
    "collapsed": true
   },
   "outputs": [],
   "source": []
  }
 ],
 "metadata": {
  "kernelspec": {
   "display_name": "Python 2",
   "language": "python",
   "name": "python2"
  },
  "language_info": {
   "codemirror_mode": {
    "name": "ipython",
    "version": 2
   },
   "file_extension": ".py",
   "mimetype": "text/x-python",
   "name": "python",
   "nbconvert_exporter": "python",
   "pygments_lexer": "ipython2",
   "version": "2.7.11"
  }
 },
 "nbformat": 4,
 "nbformat_minor": 0
}
