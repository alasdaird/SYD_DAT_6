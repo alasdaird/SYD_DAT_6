{
 "cells": [
  {
   "cell_type": "markdown",
   "metadata": {},
   "source": [
    "# SYD DAT 6 Lab 1 - Git and Markdown\n",
    "\n",
    "## Homework:\n",
    "\n",
    "#### Setup\n",
    "* Resolve any installation issues before next class.\n",
    "* Make sure you have a github profile and created a repo called \"SYD_DAT_6\"\n",
    "* Clone the class repo (this one!)\n",
    "* Review this [code](../labs/Week 1/00_python_refresher.py) for a recap of some Python basics.\n",
    "\n",
    "#### Communication\n",
    "* Read [Analyzing the Analyzers](http://cdn.oreillystatic.com/oreilly/radarreport/0636920029014/Analyzing_the_Analyzers.pdf) for a useful look at the different types of data scientists. Write down 5 key points you took away from the article\n",
    "\n",
    "The paper talks about clustering the so called Data Scientist based on the what he or she is doing with the data in the organization.\n",
    "<ol>\n",
    "<li>Data Developer - Focused on technical problem of managing data. They are primarily doing the coding getting, storing, and processing the data</li>\n",
    "<li>Data Researcher - Focused on academic research and statistical analysis of data.</li>\n",
    "<li>Data Creative - Applying tools and technologies for visualization and interpretation of data in a way that is appealing to the audience.</li>\n",
    "<li>Data Businessperson - Managing people and more focused on making profit for the organization. Basically, they are entrepeneur.</li>\n",
    "<li>T-Shaped Data Scientist - Have a wide breadth general knowledge, but deep expertise in one specific area.</li>\n",
    "</ol>\n",
    "\n",
    "* Read about some [Markdown Techniques](http://daringfireball.net/projects/markdown/syntax)\n",
    "* Write a summary of 2 chapters of [The Data Science Handbook](http://www.thedatasciencehandbook.com/) in Markdown and submit a pull request in the Lab Directory\n",
    "\n",
    "The first 2 chapters of the paper idenfify 3 points:\n",
    "<ol>\n",
    "<li>Define what Data Science and what Data Scientist do</li>\n",
    "Dj Patil points out what role does Data Science/Science play in the organization. He emphasized the complexities underlying Data Science and that education is the foundation of becoming a Data Scientist\n",
    "\n",
    "In terms of organizational aspect, he states that Data Science is a team team and not an individual thing. Someone has to gather data; someone moves it; someone analyses it; and so on until output is generated that has value to the organization. \n",
    "<li>Outlines the technical knowledge should possess</li>\n",
    "Clare formulates a curriculum for a Data Science course which basically includes mathematical and programming foundation which is crucial to be a data scientist. To evolve career in Data Science, futher higher education and industry exposure is necessary.\n",
    "<li>Application of Data Science</li>\n",
    "MichaelAngelo mainly identifies the use and application of Data Science for social good. Data Science will have much application in the future that would have a positive impact. This is evident as more people are now exploring Data Science doing research, papers, tutorial, etc.\n",
    "#### Programming\n",
    "* Complete the lab from class and the additional Exercise below\n",
    "\n",
    "#### Course Project\n",
    "* Come up with 5 different ideas for your course project. For each one list:\n",
    "  * Overview of your idea\n",
    "  * What data you will use\n",
    "  * What the outcome is that you are trying to achieve\n",
    "  * Any ideas of modelling techniques it may involve\n",
    "  \n",
    "<ol>\n",
    "<li>Forecasting sales of an item in promotion</li>\n",
    "I'm thinking of forecasting the sales of an item in a store during its promotion period. An item has normal sales when it gets sold in a store. When it gets promoted (e.g. buy 1 take one, buy 1 take 50% on the next one, etc.), sales of the item will change during that promotion period.\n",
    "The model will predict/forecast the sales of the item during the period where it's in promotion.\n",
    "\n",
    "I'll be using the 'Rossman Sales Store' data set in kaggle.\n",
    "\n",
    "I think this might involve Predictive modelling technique.\n",
    "<li>Product Cannibalisation</li>\n",
    "When an item is promo, sales of item with the same class will be affected.\n",
    "For example, we have product Item A which is sold in 2 packages:\n",
    "Item A single pack\n",
    "Item A 5-pack\n",
    "\n",
    "When Item A 5-pack is promoted, the sales of Item A single pack will be affected.\n",
    "\n",
    "The model will predict the change of sales for 'cannibalised' Item A.\n",
    "\n",
    "I'll be using the same dataset in 1.\n",
    "I think this might involve Predictive modelling technique.\n",
    "<li>Software Bugs Assignment</li>\n",
    "Bug assignment is vital part in any SW development process. Given some data, I want to create a model that given a bug of some type it will automatically assign it to developer who can fix it.\n",
    "\n",
    "I'll be using this dataset 'Bug Triaging/Bug assignment' in kaggle.\n",
    "\n",
    "This might involve Recommendation System  modelling technique.\n",
    "\n",
    "**Instructions: copy this file and append your name in the filename, e.g. Homework1_alasdair_douglas.ipynb.\n",
    "Then commit this in your local repository, push it to your github account and create a pull request so I can see your work. Remeber if you get stuck to look at the slides going over Fork, Clone, Commit, Push and Pull request.**"
   ]
  },
  {
   "cell_type": "markdown",
   "metadata": {},
   "source": [
    "## Exercise Four - Movie Lens Data"
   ]
  },
  {
   "cell_type": "code",
   "execution_count": 1,
   "metadata": {
    "collapsed": false
   },
   "outputs": [],
   "source": [
    "# for each occupation in 'users', count the number of occurrences\n",
    "# for each occupation, calculate the mean age\n",
    "# for each occupation, calculate the minimum and maximum ages\n",
    "# for each combination of occupation and gender, calculate the mean age\n",
    "# randomly sample a DataFrame\n",
    "# detect duplicate users"
   ]
  },
  {
   "cell_type": "code",
   "execution_count": null,
   "metadata": {
    "collapsed": true
   },
   "outputs": [],
   "source": []
  }
 ],
 "metadata": {
  "anaconda-cloud": {},
  "kernelspec": {
   "display_name": "Python [Root]",
   "language": "python",
   "name": "Python [Root]"
  },
  "language_info": {
   "codemirror_mode": {
    "name": "ipython",
    "version": 2
   },
   "file_extension": ".py",
   "mimetype": "text/x-python",
   "name": "python",
   "nbconvert_exporter": "python",
   "pygments_lexer": "ipython2",
   "version": "2.7.12"
  }
 },
 "nbformat": 4,
 "nbformat_minor": 0
}
