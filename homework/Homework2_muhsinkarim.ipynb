{
 "cells": [
  {
   "cell_type": "markdown",
   "metadata": {},
   "source": [
    "\n",
    "# SYD DAT 6 Homework 2 - Visualisation, Regression and Classification\n",
    "\n",
    "## Homework - Due Monday 14th November 2016\n",
    "\n",
    "All responses should be written in markdown or code in this document.\n",
    "\n",
    "----\n",
    "\n",
    "\n",
    "# Homework reponses"
   ]
  },
  {
   "cell_type": "markdown",
   "metadata": {},
   "source": [
    "### Setup\n",
    "\n",
    "**Signup for an AWS account**\n",
    "\n",
    "I have yet to signup as I initially found it challenging to do so. I will attempt again."
   ]
  },
  {
   "cell_type": "markdown",
   "metadata": {},
   "source": [
    "### Python Programming Skills\n",
    "\n",
    "**Complete all the labs**\n",
    "\n",
    "\n",
    "\n",
    "**Experiment with tutorials 1 & 2 from https://github.com/fonnesbeck/statistical-analysis-python-tutorial**\n",
    "\n",
    "Completed, accept for the few exercices in the tutorials. I can see the similarities between Pandas operations and operations with dplyr/tidyr in R.\n",
    "\n",
    "**Referring to the prior labs perform some simple analysis of the titanic.csv dataset using python**\n",
    "\n",
    "**Load the data set titanic.csv**"
   ]
  },
  {
   "cell_type": "code",
   "execution_count": 2,
   "metadata": {
    "collapsed": false
   },
   "outputs": [
    {
     "data": {
      "text/html": [
       "<div>\n",
       "<table border=\"1\" class=\"dataframe\">\n",
       "  <thead>\n",
       "    <tr style=\"text-align: right;\">\n",
       "      <th></th>\n",
       "      <th>Survived</th>\n",
       "      <th>Pclass</th>\n",
       "      <th>Name</th>\n",
       "      <th>Sex</th>\n",
       "      <th>Age</th>\n",
       "      <th>SibSp</th>\n",
       "      <th>Parch</th>\n",
       "      <th>Ticket</th>\n",
       "      <th>Fare</th>\n",
       "      <th>Cabin</th>\n",
       "      <th>Embarked</th>\n",
       "    </tr>\n",
       "    <tr>\n",
       "      <th>PassengerId</th>\n",
       "      <th></th>\n",
       "      <th></th>\n",
       "      <th></th>\n",
       "      <th></th>\n",
       "      <th></th>\n",
       "      <th></th>\n",
       "      <th></th>\n",
       "      <th></th>\n",
       "      <th></th>\n",
       "      <th></th>\n",
       "      <th></th>\n",
       "    </tr>\n",
       "  </thead>\n",
       "  <tbody>\n",
       "    <tr>\n",
       "      <th>1</th>\n",
       "      <td>0</td>\n",
       "      <td>3</td>\n",
       "      <td>Braund, Mr. Owen Harris</td>\n",
       "      <td>male</td>\n",
       "      <td>22.0</td>\n",
       "      <td>1</td>\n",
       "      <td>0</td>\n",
       "      <td>A/5 21171</td>\n",
       "      <td>7.2500</td>\n",
       "      <td>NaN</td>\n",
       "      <td>S</td>\n",
       "    </tr>\n",
       "    <tr>\n",
       "      <th>2</th>\n",
       "      <td>1</td>\n",
       "      <td>1</td>\n",
       "      <td>Cumings, Mrs. John Bradley (Florence Briggs Th...</td>\n",
       "      <td>female</td>\n",
       "      <td>38.0</td>\n",
       "      <td>1</td>\n",
       "      <td>0</td>\n",
       "      <td>PC 17599</td>\n",
       "      <td>71.2833</td>\n",
       "      <td>C85</td>\n",
       "      <td>C</td>\n",
       "    </tr>\n",
       "    <tr>\n",
       "      <th>3</th>\n",
       "      <td>1</td>\n",
       "      <td>3</td>\n",
       "      <td>Heikkinen, Miss. Laina</td>\n",
       "      <td>female</td>\n",
       "      <td>26.0</td>\n",
       "      <td>0</td>\n",
       "      <td>0</td>\n",
       "      <td>STON/O2. 3101282</td>\n",
       "      <td>7.9250</td>\n",
       "      <td>NaN</td>\n",
       "      <td>S</td>\n",
       "    </tr>\n",
       "    <tr>\n",
       "      <th>4</th>\n",
       "      <td>1</td>\n",
       "      <td>1</td>\n",
       "      <td>Futrelle, Mrs. Jacques Heath (Lily May Peel)</td>\n",
       "      <td>female</td>\n",
       "      <td>35.0</td>\n",
       "      <td>1</td>\n",
       "      <td>0</td>\n",
       "      <td>113803</td>\n",
       "      <td>53.1000</td>\n",
       "      <td>C123</td>\n",
       "      <td>S</td>\n",
       "    </tr>\n",
       "    <tr>\n",
       "      <th>5</th>\n",
       "      <td>0</td>\n",
       "      <td>3</td>\n",
       "      <td>Allen, Mr. William Henry</td>\n",
       "      <td>male</td>\n",
       "      <td>35.0</td>\n",
       "      <td>0</td>\n",
       "      <td>0</td>\n",
       "      <td>373450</td>\n",
       "      <td>8.0500</td>\n",
       "      <td>NaN</td>\n",
       "      <td>S</td>\n",
       "    </tr>\n",
       "  </tbody>\n",
       "</table>\n",
       "</div>"
      ],
      "text/plain": [
       "             Survived  Pclass  \\\n",
       "PassengerId                     \n",
       "1                   0       3   \n",
       "2                   1       1   \n",
       "3                   1       3   \n",
       "4                   1       1   \n",
       "5                   0       3   \n",
       "\n",
       "                                                          Name     Sex   Age  \\\n",
       "PassengerId                                                                    \n",
       "1                                      Braund, Mr. Owen Harris    male  22.0   \n",
       "2            Cumings, Mrs. John Bradley (Florence Briggs Th...  female  38.0   \n",
       "3                                       Heikkinen, Miss. Laina  female  26.0   \n",
       "4                 Futrelle, Mrs. Jacques Heath (Lily May Peel)  female  35.0   \n",
       "5                                     Allen, Mr. William Henry    male  35.0   \n",
       "\n",
       "             SibSp  Parch            Ticket     Fare Cabin Embarked  \n",
       "PassengerId                                                          \n",
       "1                1      0         A/5 21171   7.2500   NaN        S  \n",
       "2                1      0          PC 17599  71.2833   C85        C  \n",
       "3                0      0  STON/O2. 3101282   7.9250   NaN        S  \n",
       "4                1      0            113803  53.1000  C123        S  \n",
       "5                0      0            373450   8.0500   NaN        S  "
      ]
     },
     "execution_count": 2,
     "metadata": {},
     "output_type": "execute_result"
    }
   ],
   "source": [
    "import pandas as pd\n",
    "import os\n",
    "\n",
    "os.chdir('/Users/muhsinkarim/SYD_DAT_6/labs/Week 3/Logistic Regresison Lab')\n",
    "titanic = pd.read_csv('titanic.csv', index_col='PassengerId')\n",
    "titanic.head()"
   ]
  },
  {
   "cell_type": "markdown",
   "metadata": {},
   "source": [
    "**Produce 1 simple visualisation with matplotlib/seaborn/pandas visualisation libraries to show the distribution of ages**"
   ]
  },
  {
   "cell_type": "code",
   "execution_count": 3,
   "metadata": {
    "collapsed": false
   },
   "outputs": [
    {
     "data": {
      "image/png": "[encoded data removed]",
      "text/plain": [
       "<matplotlib.figure.Figure at 0x11438c2d0>"
      ]
     },
     "metadata": {},
     "output_type": "display_data"
    }
   ],
   "source": [
    "%matplotlib inline\n",
    "\n",
    "import numpy as np\n",
    "import matplotlib.pyplot as plt\n",
    "\n",
    "## matplotlib\n",
    "plt.hist(titanic.Age[~np.isnan(titanic.Age)])\n",
    "plt.title(\"Age Histogram of Titanic passengers\")\n",
    "plt.xlabel(\"Age\")\n",
    "plt.ylabel(\"Frequency\")\n",
    "plt.show()"
   ]
  },
  {
   "cell_type": "markdown",
   "metadata": {},
   "source": [
    "**How many male 3rd class passengers survived and how many did not survive**"
   ]
  },
  {
   "cell_type": "code",
   "execution_count": 4,
   "metadata": {
    "collapsed": false
   },
   "outputs": [
    {
     "data": {
      "text/plain": [
       "Survived       \n",
       "0         count    300.0\n",
       "          mean       0.0\n",
       "          std        0.0\n",
       "          min        0.0\n",
       "          25%        0.0\n",
       "          50%        0.0\n",
       "          75%        0.0\n",
       "          max        0.0\n",
       "1         count     47.0\n",
       "          mean       1.0\n",
       "          std        0.0\n",
       "          min        1.0\n",
       "          25%        1.0\n",
       "          50%        1.0\n",
       "          75%        1.0\n",
       "          max        1.0\n",
       "Name: Survived, dtype: float64"
      ]
     },
     "execution_count": 4,
     "metadata": {},
     "output_type": "execute_result"
    }
   ],
   "source": [
    "male_thirdclass = titanic[(titanic.Sex == 'male') & (titanic.Pclass == 3)]\n",
    "#male_thirdclass.head()\n",
    "\n",
    "bySurvived = male_thirdclass.groupby('Survived')\n",
    "bySurvived['Survived'].describe()\n",
    "# 47 survived, 300 did not survive."
   ]
  },
  {
   "cell_type": "markdown",
   "metadata": {},
   "source": [
    "**How many female 1st class passengers survived and how many did not survive**"
   ]
  },
  {
   "cell_type": "code",
   "execution_count": 5,
   "metadata": {
    "collapsed": false
   },
   "outputs": [
    {
     "data": {
      "text/plain": [
       "Survived       \n",
       "0         count     3.0\n",
       "          mean      0.0\n",
       "          std       0.0\n",
       "          min       0.0\n",
       "          25%       0.0\n",
       "          50%       0.0\n",
       "          75%       0.0\n",
       "          max       0.0\n",
       "1         count    91.0\n",
       "          mean      1.0\n",
       "          std       0.0\n",
       "          min       1.0\n",
       "          25%       1.0\n",
       "          50%       1.0\n",
       "          75%       1.0\n",
       "          max       1.0\n",
       "Name: Survived, dtype: float64"
      ]
     },
     "execution_count": 5,
     "metadata": {},
     "output_type": "execute_result"
    }
   ],
   "source": [
    "female_firstclass = titanic[(titanic.Sex == 'female') & (titanic.Pclass == 1)]\n",
    "#female_firstclass.head()\n",
    "\n",
    "bySurvived = female_firstclass.groupby('Survived')\n",
    "bySurvived['Survived'].describe()\n",
    "# 91 survived, 3 did not survive."
   ]
  },
  {
   "cell_type": "markdown",
   "metadata": {},
   "source": [
    "**Produce a table grouped by class that shows:**\n",
    "\n",
    "_Percent survived_\n",
    "\n",
    "_Average fare_"
   ]
  },
  {
   "cell_type": "code",
   "execution_count": 6,
   "metadata": {
    "collapsed": false
   },
   "outputs": [
    {
     "data": {
      "text/html": [
       "<div>\n",
       "<table border=\"1\" class=\"dataframe\">\n",
       "  <thead>\n",
       "    <tr style=\"text-align: right;\">\n",
       "      <th></th>\n",
       "      <th>Percent survived</th>\n",
       "    </tr>\n",
       "    <tr>\n",
       "      <th>Pclass</th>\n",
       "      <th></th>\n",
       "    </tr>\n",
       "  </thead>\n",
       "  <tbody>\n",
       "    <tr>\n",
       "      <th>1</th>\n",
       "      <td>24.242424</td>\n",
       "    </tr>\n",
       "    <tr>\n",
       "      <th>2</th>\n",
       "      <td>20.650954</td>\n",
       "    </tr>\n",
       "    <tr>\n",
       "      <th>3</th>\n",
       "      <td>55.106622</td>\n",
       "    </tr>\n",
       "  </tbody>\n",
       "</table>\n",
       "</div>"
      ],
      "text/plain": [
       "        Percent survived\n",
       "Pclass                  \n",
       "1              24.242424\n",
       "2              20.650954\n",
       "3              55.106622"
      ]
     },
     "execution_count": 6,
     "metadata": {},
     "output_type": "execute_result"
    }
   ],
   "source": [
    "### Percent survived\n",
    "# http://stackoverflow.com/questions/29299078/pandas-very-simple-percent-of-total-size-from-group-by\n",
    "\n",
    "byClass = titanic.groupby('Pclass')\n",
    "#byClass['Survived'].describe()\n",
    "dfClass = pd.DataFrame(byClass.size() * 100 / len(titanic))\n",
    "dfClass.columns = ['Percent survived']\n",
    "dfClass"
   ]
  },
  {
   "cell_type": "code",
   "execution_count": 7,
   "metadata": {
    "collapsed": false
   },
   "outputs": [
    {
     "data": {
      "text/html": [
       "<div>\n",
       "<table border=\"1\" class=\"dataframe\">\n",
       "  <thead>\n",
       "    <tr style=\"text-align: right;\">\n",
       "      <th></th>\n",
       "      <th>Average fare</th>\n",
       "    </tr>\n",
       "    <tr>\n",
       "      <th>Pclass</th>\n",
       "      <th></th>\n",
       "    </tr>\n",
       "  </thead>\n",
       "  <tbody>\n",
       "    <tr>\n",
       "      <th>1</th>\n",
       "      <td>84.154687</td>\n",
       "    </tr>\n",
       "    <tr>\n",
       "      <th>2</th>\n",
       "      <td>20.662183</td>\n",
       "    </tr>\n",
       "    <tr>\n",
       "      <th>3</th>\n",
       "      <td>13.675550</td>\n",
       "    </tr>\n",
       "  </tbody>\n",
       "</table>\n",
       "</div>"
      ],
      "text/plain": [
       "        Average fare\n",
       "Pclass              \n",
       "1          84.154687\n",
       "2          20.662183\n",
       "3          13.675550"
      ]
     },
     "execution_count": 7,
     "metadata": {},
     "output_type": "execute_result"
    }
   ],
   "source": [
    "### Average fare\n",
    "\n",
    "dfFare = pd.DataFrame(byClass['Fare'].mean())\n",
    "dfFare.columns = ['Average fare']\n",
    "dfFare"
   ]
  },
  {
   "cell_type": "markdown",
   "metadata": {
    "collapsed": true
   },
   "source": [
    "### Machine Learning Theory\n",
    "**Reading that was required during the course from Introduction to Statistical Learning**\n",
    "\n",
    "_Chapter 3 - Linear Regression_\n",
    "\n",
    "_Chapter 4 - 4.1, 4.2, 4.3  - Classification_\n",
    "\n",
    "_Chapter 5 - 5.1 - Cross Validation_\n",
    "\n",
    "_Chapter 6 - 6.1, 6.2, 6.3 - Dimensionality_\n",
    "\n",
    "\n",
    "**Complete all the labs**\n",
    "\n",
    "\n",
    "**Describe what technique you might apply to predict whether a person has AIDs. What could you do to reduce the probability that the solution mistakenly predicts that a person does not have AIDs, when in fact they do?**\n",
    "\n",
    "A person either has AIDS or not. Since this is binary outcome, we can apply logistic regression.\n",
    "\n",
    "A test may indicate a patient does not have AIDS yet does have AIDS (a false negative). To reduce the probability of a model making a false positive prediction, one can set a classification threshold. Once the model produces the predicted probabilities, a threshold can be set to optimise sensitivity, specificity and the false negative rate (note that the false negative rate is 1 minus true negative rate (specificity)). Viewing the area under an ROC curve allows visulisation of how different thresholds can affect model accuracy."
   ]
  },
  {
   "cell_type": "markdown",
   "metadata": {},
   "source": [
    "### Visualisation\n",
    "\n",
    "**Drawing from Keegan from Optus' talk, your own experience or any other source, describe what you believe are the 3 most important considerations in producing a visualisation.**\n",
    "\n",
    "1. The visualisation should speak for itself - if it requires extensive explanation, then it's too complicated. \n",
    "2. Bi mindful of the audience's expectations - a visualisation can help reinforce a known message or uncover insights that were previously unseen.\n",
    "3. Depending on what is displayed, visualisations can convey stories and draw different conclusions. Additional layers of details, such as another branch of a decision tree will convey a different interpretation. \n",
    "\n",
    "\n",
    "**Name 3 types of plots you can think of to address each of the following situations:**\n",
    "\n",
    "_Show the distribution of a single variable_\n",
    "\n",
    "Histogram.\n",
    "<br>\n",
    "<br>\n",
    "\n",
    "_Show a relationship between two variables_\n",
    "\n",
    "Scatter plot.\n",
    "<br>\n",
    "<br>\n",
    "\n",
    "_Compare two or more variables_\n",
    "\n",
    "Scatter plot using a colour for the third variable, or use n X n scatter plots with each scatter plot displaying two of the variables at a time."
   ]
  },
  {
   "cell_type": "markdown",
   "metadata": {},
   "source": [
    "### Communication\n",
    "\n",
    "**Imagine you are trying to explain to someone what Linear Regression is - but they have no programming/maths experience? How would you explain the overall process, what R-Squared means and how to interpret the coefficients?**\n",
    "\n",
    "I have an answer, but it's long: http://probablyabetterway.blogspot.com.au/2016/11/what-is-linear-regression.html\n",
    "<br>\n",
    "<br>\n",
    "\n",
    "**Read the paper [Useful things to know about machine learning]( https://homes.cs.washington.edu/~pedrod/papers/cacm12.pdf).**\n",
    "\n",
    "_What have we covered so far from this paper?_\n",
    "* Classification -  where discrete and/or continuous feature values  as inputs will outputs a single discrete value, such as email being spam.\n",
    "* Classifiers need an evaluation function to distinguish between good classifiers from bad ones. We have covered...!!!!!!!!!!!!!\n",
    "* Generalisation - we have discussed that models models should not overfit training data. Models should also factors in outliers when training, as it's possible that the model will encounter outliers in test datasets.\n",
    "* Cross-validation - to avoid loss of training data, one can perform cross-validation which randomly divides training data into equal subsets (such as five), holding out each one while training on the rest.\n",
    "* Bias and variance - Bias measures how far off the predicted values are from the real values, variance measures how much the predictons are from the actual values. The same dart-throwing analaogy is used as in class!\n",
    "\n",
    "_Explain sections 6-13 in your own words_\n",
    "\n",
    "Section 6<br>\n",
    "Algorithms may not work quite so well in cases of high-dimensionality, that is, when there are more features. It's harder for models to generalise with more dimensions. With more irrelevant features the signal in the data is swamped by noise leading to random predictions by the model. Using an orange as a high-dimensional analogy, most of the mass of a multivariate Gaussian distribution is in the skin, not he pulp. To counter this, in most applications, data points are concentrated on or near a lower-dimensional space which learners can take advantage of. Alternatively, algorithms that reduce dimensionality can be applied.\n",
    "<br>\n",
    "\n",
    "Section 7<br>\n",
    "A recent trend in machine learning is to have guarantees on the results of induction if we’re willing to settle for probabilistic guarantees. The main role of these guarantees should serve as a source of understanding and driving algorithm design. Alasdair, if you're reading this, I read the paper and didn't understand most of it but continued to make notes because I'm hoping that in a year's time I'll look back and it will all just click. \n",
    "<br>\n",
    "\n",
    "Section 8<br>\n",
    "The most important factors for machine learning project success are the features that are used. Little time is spent performing the actual machine learning. Rather, gathering, integrating, cleaning data and feature design form the time-consuming component of the project. Machine learning takes multiple iterations where the machine must learn from results of prior iterations.\n",
    "<br>\n",
    "\n",
    "Section 9<br>\n",
    "To get a better classifier, one must either design better learning algorithms or gather more data. It’s better to simply get more data to improve a dumb algorithm. However with more training data the longer processing time occurs. It pays to apply simply learners first rather than more sophisticated learners. There are two types of learners; those whose representations have a fixed size (eg. Linear classifiers) and those whose representations can grow with the data (eg. Decision trees). Learners that save human effort and are understandable are the key considerations rather than CPU cycle bottlenecks.\n",
    "<br>\n",
    "\n",
    "Section 10<br>\n",
    "Rather than stick with variations of a single favourite model or simply pick the best models from a variety, a better approach is to compare variations of learners. “Bagging” selects random variations of the training set, learns a classifier on each then combines the results by voting. “Boosting” uses training examples with weights – each new classifier focuses on the examples that the previous classifier got wrong. These approaches are part of ensemble modelling. Ensembles change the hypothesis space, such as from a single decision tree to a linear combination of trees.\n",
    "<br>\n",
    "\n",
    "Section 11<br>\n",
    "Even if two classifiers have the same lowest training error, the simplest is often not the classifier with the lowest test error. Careful choice of codes to search hypothesis space influences the quality of the resulting classifier. For example, choosing sorter codes based on a preference reduces complexity and it may produce more general models. Some learners do not search hypothesis space exhaustively, and are less prone to overfitting data.\n",
    "<br>\n",
    "\n",
    "Section 12<br>\n",
    "Even with an infinite amount of data, time and memory, learners can only learn a tiny subset of all possible functions. I'm gonna admit, I did not follow this section. Discovering methods to learn deeper representation is a major research frontier in machine learning.\n",
    "<br>\n",
    "\n",
    "Section 13<br>\n",
    "The goal of learning predictive models is to use them as a guide to action. One can find an association between products purchased, but an experiment such as placing such items together in one shop and apart in another shop (or over different times of day) can determine if causality described by the correlation truly exists."
   ]
  },
  {
   "cell_type": "markdown",
   "metadata": {},
   "source": [
    "### Course Project\n",
    "\n",
    "**Set up a new github repository for your project.**\n",
    "\n",
    "I will be working with confidential work data for my projects and am unable to upload the data onto GitHub on either a public or private account.\n",
    "\n",
    "I have created the following project repo to host sanitised outputs and reports from project work: https://github.com/muhsinkarim/ga_project\n",
    "<br>\n",
    "\n",
    "\n",
    "**Load the data you have gathered for your project into Python and run some summary statistics over the data. Are there any interesting features of the data that jump out? (Include the code)**\n",
    "\n",
    "<br>\n",
    "*Project 1*\n",
    "\n",
    "I am continuing the latent dirichlet allocation project to create topics from customer feedback data. I have switched to R and am exploring different arguments such as customer stop words, using n-grams, etc.\n",
    "\n",
    "<br>\n",
    "*Project 2*\n",
    "\n",
    "I have some data indicating if a customer made a future purchase. For each customer per row, a \"0\" indicated the customer did not have a future purchase. \"1\" indicated the customer did make a future purchase. Customers provided a rating of their shopping experience. I performed a logistic regression using \"Rating\" a single feature and \"Future purchase\" as the outcome. Appears to be working - the model predicted all customers in the test set would NOT make a future purchase, but that's only because most customers don't in my dataset. I'll start adding more features.\n",
    "\n",
    "<br>\n",
    "*Project 3*\n",
    "\n",
    "I will build a decision tree exploring various features leading to a satisfaction score rating as the outcome. I would like to compare the decision tree model to other models that achieve the same outcome such as logistic regression or random forests.\n",
    "\n",
    "<br>\n",
    "*Project 4*\n",
    "\n",
    "Perform clustering on trasnactions data to exmine whether staff are clustered based on sales features.\n",
    "<br>"
   ]
  },
  {
   "cell_type": "markdown",
   "metadata": {},
   "source": [
    "**Draft/Sketch on paper (or wireframe) some data visualisations that would be useful for you to explore your data set**\n",
    "\n",
    "Pending! i need to scan my drawing.\n",
    "<br>\n",
    "\n",
    "**Are there any regression or clustering techniques you could use in your project? Write them down (with the corresponding scikit learn function) and what you think you would get out of it.**\n",
    "\n",
    "Project 1: Latent Dirichlet Allocation.\n",
    "\n",
    "Project 2: Logistic regression.\n",
    "\n",
    "Project 3: Decision trees, then logistic regression and random forests.\n",
    "\n",
    "Project 4: K-means clustering?"
   ]
  }
 ],
 "metadata": {
  "anaconda-cloud": {},
  "kernelspec": {
   "display_name": "Python [default]",
   "language": "python",
   "name": "python2"
  },
  "language_info": {
   "codemirror_mode": {
    "name": "ipython",
    "version": 2
   },
   "file_extension": ".py",
   "mimetype": "text/x-python",
   "name": "python",
   "nbconvert_exporter": "python",
   "pygments_lexer": "ipython2",
   "version": "2.7.12"
  }
 },
 "nbformat": 4,
 "nbformat_minor": 0
}
